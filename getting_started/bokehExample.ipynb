{
 "cells": [
  {
   "cell_type": "markdown",
   "metadata": {},
   "source": [
    "# Intro\n",
    "This is a interactive Python Notebook (ipynb for short)! These files are ideal for building sections of code and quickly testing without needing to leave your IDE. This one will show the basics of creating a module in Bokeh. Before anything else, import any needed libraries you plan on accessing (you can adjust this later, if more libraries become necessary.)"
   ]
  },
  {
   "cell_type": "code",
   "execution_count": 36,
   "metadata": {},
   "outputs": [],
   "source": [
    "import bokeh #Base Bokeh import\n",
    "import bokeh.plotting #Bokeh plotting tools\n",
    "import numpy as np #Numpy for data manipulation\n",
    "import pandas as pd #Pandas for data manipulation\n",
    "import matplotlib.pyplot as plt #Matplotlib for additional customization and in-notebook plotting\n",
    "#extra bokeh imports to access specific functions\n",
    "from bokeh.plotting import figure, show, curdoc\n",
    "from bokeh.layouts import row, column\n",
    "from bokeh.io import curdoc\n",
    "from bokeh.layouts import layout\n",
    "from bokeh.models import Slider, Div, CustomJS, ColumnDataSource\n",
    "import datetime"
   ]
  },
  {
   "cell_type": "markdown",
   "metadata": {},
   "source": [
    "# Bokeh Basics\n",
    "Bokeh modules function by creating tools (figures, sliders, buttons and the like). Those tools will be combined into rows or columns, then added to a layout object.\n",
    "Finally, the layout will be saved using the 'curdoc' command.\n",
    "Note that to take a look at our Bokeh layout within this notebook, I'll use the 'show' command instead. Show is great for quick local tests!\n",
    "Let's use an example from the Bokeh Gallery, and explain whats happening as we go. This will create a figure, draw a sine line onto it, and create a few sliders by which we can adjust that line."
   ]
  },
  {
   "cell_type": "code",
   "execution_count": 35,
   "metadata": {},
   "outputs": [],
   "source": [
    "#create our sine wave--x is the range of values, y is the sine of x\n",
    "x = np.linspace(0, 10, 500)\n",
    "y = np.sin(x)\n",
    "\n",
    "# Create a ColumnDataSource object to store our data\n",
    "source = ColumnDataSource(data=dict(x=x, y=y))\n",
    "\n",
    "# Create the figure and plot the line\n",
    "plot = figure(y_range=(-10, 10), width=400, height=400)\n",
    "plot.line('x', 'y', source=source, line_width=3, line_alpha=0.6)\n",
    "\n",
    "# Create the slider widgets\n",
    "amp = Slider(start=0.1, end=10, value=1, step=.1, title=\"Amplitude\")\n",
    "freq = Slider(start=0.1, end=10, value=1, step=.1, title=\"Frequency\")\n",
    "phase = Slider(start=-6.4, end=6.4, value=0, step=.1, title=\"Phase\")\n",
    "offset = Slider(start=-9, end=9, value=0, step=.1, title=\"Offset\")\n",
    "\n",
    "#callback uses JS code to update the data in the ColumnDataSource object\n",
    "callback = CustomJS(args=dict(source=source, amp=amp, freq=freq, phase=phase, offset=offset),\n",
    "                    code=\"\"\"\n",
    "    const A = amp.value\n",
    "    const k = freq.value\n",
    "    const phi = phase.value\n",
    "    const B = offset.value\n",
    "\n",
    "    const x = source.data.x\n",
    "    const y = Array.from(x, (x) => B + A*Math.sin(k*x+phi))\n",
    "    source.data = { x, y }\n",
    "\"\"\")\n",
    "\n",
    "# Attach the callback to the slider widgets' value change events\n",
    "amp.js_on_change('value', callback)\n",
    "freq.js_on_change('value', callback)\n",
    "phase.js_on_change('value', callback)\n",
    "offset.js_on_change('value', callback)\n",
    "\n",
    "# Create a layout for the slider widgets\n",
    "inputs = column(amp, freq, phase, offset)\n",
    "\n",
    "# Create a layout for the plot and the widgets\n",
    "layout = row(plot, inputs)\n",
    "show(layout)"
   ]
  }
 ],
 "metadata": {
  "kernelspec": {
   "display_name": "Python 3",
   "language": "python",
   "name": "python3"
  },
  "language_info": {
   "codemirror_mode": {
    "name": "ipython",
    "version": 3
   },
   "file_extension": ".py",
   "mimetype": "text/x-python",
   "name": "python",
   "nbconvert_exporter": "python",
   "pygments_lexer": "ipython3",
   "version": "3.11.4"
  },
  "orig_nbformat": 4
 },
 "nbformat": 4,
 "nbformat_minor": 2
}
