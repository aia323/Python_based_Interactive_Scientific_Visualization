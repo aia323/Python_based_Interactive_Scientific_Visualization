{
 "cells": [
  {
   "cell_type": "markdown",
   "metadata": {},
   "source": [
    "# Intro\n",
    "This is a interactive Python Notebook (ipynb for short)! These files are ideal for building sections of code and quickly testing without needing to leave your IDE. This one will show the basics of creating a module in Bokeh. Before anything else, import any needed libraries you plan on accessing (you can adjust this later, if more libraries become necessary.)"
   ]
  },
  {
   "cell_type": "code",
   "execution_count": null,
   "metadata": {},
   "outputs": [],
   "source": [
    "import bokeh #Base Bokeh import\n",
    "import bokeh.plotting #Bokeh plotting tools\n",
    "import numpy as np #Numpy for data manipulation\n",
    "import pandas as pd #Pandas for data manipulation\n",
    "import matplotlib.pyplot as plt #Matplotlib for additional customization and in-notebook plotting\n",
    "#extra bokeh imports to access specific functions\n",
    "from bokeh.plotting import figure, show, curdoc\n",
    "from bokeh.layouts import row, column\n",
    "from bokeh.io import curdoc\n",
    "from bokeh.layouts import layout\n",
    "import datetime"
   ]
  }
 ],
 "metadata": {
  "language_info": {
   "name": "python"
  },
  "orig_nbformat": 4
 },
 "nbformat": 4,
 "nbformat_minor": 2
}
