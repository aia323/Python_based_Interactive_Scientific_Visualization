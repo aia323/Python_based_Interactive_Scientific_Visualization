{
 "cells": [
  {
   "cell_type": "markdown",
   "metadata": {},
   "source": [
    "# ZECC - Zero Energy Cooling Chamber\n",
    "\n",
    "This code will build an interactive Zero Energy Cooling chamber. Users will be able to alter the dimensions of the chamber and the material used as well as compare the effectiveness of the chamber in different geographic locations based on accurate weather data. \n",
    "\n",
    "First begin by importing all of the necessary packages"
   ]
  },
  {
   "cell_type": "code",
   "execution_count": 2,
   "metadata": {},
   "outputs": [],
   "source": [
    "from bokeh.io import curdoc\n",
    "import ast\n",
    "from bokeh.layouts import row, column\n",
    "from bokeh.models import ColumnDataSource, Slider, Select, Paragraph, TableColumn, DataTable, Button, Panel, Tabs, LinearAxis, Range1d, HoverTool\n",
    "from bokeh.plotting import figure\n",
    "import numpy as np\n",
    "import pandas as pd \n",
    "from scipy.interpolate import interp1d\n",
    "from bokeh.tile_providers import get_provider, Vendors"
   ]
  },
  {
   "cell_type": "markdown",
   "metadata": {},
   "source": [
    "We start by listing the two time ranges, the available materials, and selecting initial dimensions for the chamber"
   ]
  },
  {
   "cell_type": "code",
   "execution_count": 4,
   "metadata": {},
   "outputs": [],
   "source": [
    "time_range=list(range(0, 24)) #hourly time scale\n",
    "time_range1=list(range(1,13)) #yearly time scale\n",
    "initial_dims=[3, 2, 1, .3] #starting dimensions of the chamber [length, width, height, sand_thickness]\n",
    "materials=[\"Brick\", \"Cardboard\", \"Aluminum\", \"Concrete\"] #possible materials to choose from\n",
    "time_ranges=[\"12 Months\", \"24 Hours\"] #possible time ranges"
   ]
  },
  {
   "cell_type": "markdown",
   "metadata": {},
   "source": [
    "The following sets up a map of the world that will mark each location that we are giving as an option for the location of the ZECC. The coordinates for the locations are given in web mercator coordinates"
   ]
  },
  {
   "cell_type": "code",
   "execution_count": 5,
   "metadata": {},
   "outputs": [],
   "source": [
    "get_provider(Vendors.CARTODBPOSITRON) #this helps set up map\n",
    "tile_provider=get_provider('CARTODBPOSITRON')\n",
    "#Creating a map of the world to show where each of the 6 possible locations are\n",
    "mapp = figure(x_range=(-14000000, 7000000), y_range=(-4000000, 6060000), # range bounds supplied in web mercator coordinates\n",
    "           x_axis_type=\"mercator\", y_axis_type=\"mercator\", margin=(0, 0, 0, 20), aspect_ratio=4/3, sizing_mode='scale_both')\n",
    "mapp.add_tile(tile_provider)\n",
    "#adding each location to the map\n",
    "mapp.circle(x=-8389827.854690, y=4957234.168513, size=10, fill_color='blue', fill_alpha=0.7, legend_label=\"Bethlehem, PA\")\n",
    "mapp.circle(x=-8931102.469623, y=2972160.043550, size=10, fill_color='darkred', fill_alpha=.7, legend_label=\"Miami, FL\")\n",
    "mapp.circle(x=-9290844.007714, y=953484.087498, size=10, fill_color='darkgreen', fill_alpha=0.7, legend_label=\"Puerto Jiménez, Costa Rica\")\n",
    "mapp.circle(x=-8741967.501084, y=-22993.039835, size=10, fill_color='peru', fill_alpha=0.7, legend_label=\"Quito, Ecuador\")\n",
    "mapp.circle(x=4105174.772925, y=-145162.620135, size=10, fill_color='mediumpurple', fill_alpha=0.7, legend_label=\"Nairobi, Kenya\")\n",
    "mapp.circle(x=3564845.194234, y=-948229.994036, size=10, fill_color='navy', fill_alpha=0.7, legend_label=\"Lusaka, Zambia\")\n",
    "mapp.legend.background_fill_alpha=0.5"
   ]
  },
  {
   "cell_type": "markdown",
   "metadata": {},
   "source": [
    "Next we access information about each of the locations provided and store it in a pandas dataframe. The columns of this data frame are Location, Year_Temps, Day_Temps, Year_rh, Day_rh "
   ]
  },
  {
   "cell_type": "code",
   "execution_count": 6,
   "metadata": {},
   "outputs": [],
   "source": [
    "location_df=pd.read_csv(\"ZECC_Location_Info.csv\")"
   ]
  },
  {
   "cell_type": "markdown",
   "metadata": {},
   "source": [
    "Since Python reads in the lists from a csv file as a string, the following for loop attempts to convert them back to lists.\n",
    "\n",
    "@Raghu this is where I am running into issues"
   ]
  },
  {
   "cell_type": "code",
   "execution_count": 7,
   "metadata": {},
   "outputs": [
    {
     "ename": "ValueError",
     "evalue": "Must have equal len keys and value when setting with an iterable",
     "output_type": "error",
     "traceback": [
      "\u001b[0;31m---------------------------------------------------------------------------\u001b[0m",
      "\u001b[0;31mValueError\u001b[0m                                Traceback (most recent call last)",
      "\u001b[0;32m<ipython-input-7-aaf6cb54f942>\u001b[0m in \u001b[0;36m<module>\u001b[0;34m\u001b[0m\n\u001b[1;32m      1\u001b[0m \u001b[0;32mfor\u001b[0m \u001b[0mx\u001b[0m \u001b[0;32min\u001b[0m \u001b[0mrange\u001b[0m\u001b[0;34m(\u001b[0m\u001b[0;36m0\u001b[0m\u001b[0;34m,\u001b[0m \u001b[0mlen\u001b[0m\u001b[0;34m(\u001b[0m\u001b[0mlocation_df\u001b[0m\u001b[0;34m)\u001b[0m\u001b[0;34m)\u001b[0m\u001b[0;34m:\u001b[0m\u001b[0;34m\u001b[0m\u001b[0;34m\u001b[0m\u001b[0m\n\u001b[0;32m----> 2\u001b[0;31m     \u001b[0mlocation_df\u001b[0m\u001b[0;34m.\u001b[0m\u001b[0miloc\u001b[0m\u001b[0;34m[\u001b[0m\u001b[0mx\u001b[0m\u001b[0;34m,\u001b[0m\u001b[0;36m1\u001b[0m\u001b[0;34m]\u001b[0m\u001b[0;34m=\u001b[0m\u001b[0mast\u001b[0m\u001b[0;34m.\u001b[0m\u001b[0mliteral_eval\u001b[0m\u001b[0;34m(\u001b[0m\u001b[0mlocation_df\u001b[0m\u001b[0;34m.\u001b[0m\u001b[0miloc\u001b[0m\u001b[0;34m[\u001b[0m\u001b[0mx\u001b[0m\u001b[0;34m,\u001b[0m\u001b[0;36m1\u001b[0m\u001b[0;34m]\u001b[0m\u001b[0;34m)\u001b[0m\u001b[0;34m\u001b[0m\u001b[0;34m\u001b[0m\u001b[0m\n\u001b[0m\u001b[1;32m      3\u001b[0m     \u001b[0mlocation_df\u001b[0m\u001b[0;34m.\u001b[0m\u001b[0miloc\u001b[0m\u001b[0;34m[\u001b[0m\u001b[0mx\u001b[0m\u001b[0;34m,\u001b[0m\u001b[0;36m2\u001b[0m\u001b[0;34m]\u001b[0m\u001b[0;34m=\u001b[0m\u001b[0mast\u001b[0m\u001b[0;34m.\u001b[0m\u001b[0mliteral_eval\u001b[0m\u001b[0;34m(\u001b[0m\u001b[0mlocation_df\u001b[0m\u001b[0;34m.\u001b[0m\u001b[0miloc\u001b[0m\u001b[0;34m[\u001b[0m\u001b[0mx\u001b[0m\u001b[0;34m,\u001b[0m\u001b[0;36m2\u001b[0m\u001b[0;34m]\u001b[0m\u001b[0;34m)\u001b[0m\u001b[0;34m\u001b[0m\u001b[0;34m\u001b[0m\u001b[0m\n\u001b[1;32m      4\u001b[0m     \u001b[0mlocation_df\u001b[0m\u001b[0;34m.\u001b[0m\u001b[0miloc\u001b[0m\u001b[0;34m[\u001b[0m\u001b[0mx\u001b[0m\u001b[0;34m,\u001b[0m\u001b[0;36m3\u001b[0m\u001b[0;34m]\u001b[0m\u001b[0;34m=\u001b[0m\u001b[0mast\u001b[0m\u001b[0;34m.\u001b[0m\u001b[0mliteral_eval\u001b[0m\u001b[0;34m(\u001b[0m\u001b[0mlocation_df\u001b[0m\u001b[0;34m.\u001b[0m\u001b[0miloc\u001b[0m\u001b[0;34m[\u001b[0m\u001b[0mx\u001b[0m\u001b[0;34m,\u001b[0m\u001b[0;36m3\u001b[0m\u001b[0;34m]\u001b[0m\u001b[0;34m)\u001b[0m\u001b[0;34m\u001b[0m\u001b[0;34m\u001b[0m\u001b[0m\n",
      "\u001b[0;32m/opt/anaconda3/lib/python3.7/site-packages/pandas/core/indexing.py\u001b[0m in \u001b[0;36m__setitem__\u001b[0;34m(self, key, value)\u001b[0m\n\u001b[1;32m    668\u001b[0m             \u001b[0mkey\u001b[0m \u001b[0;34m=\u001b[0m \u001b[0mcom\u001b[0m\u001b[0;34m.\u001b[0m\u001b[0mapply_if_callable\u001b[0m\u001b[0;34m(\u001b[0m\u001b[0mkey\u001b[0m\u001b[0;34m,\u001b[0m \u001b[0mself\u001b[0m\u001b[0;34m.\u001b[0m\u001b[0mobj\u001b[0m\u001b[0;34m)\u001b[0m\u001b[0;34m\u001b[0m\u001b[0;34m\u001b[0m\u001b[0m\n\u001b[1;32m    669\u001b[0m         \u001b[0mindexer\u001b[0m \u001b[0;34m=\u001b[0m \u001b[0mself\u001b[0m\u001b[0;34m.\u001b[0m\u001b[0m_get_setitem_indexer\u001b[0m\u001b[0;34m(\u001b[0m\u001b[0mkey\u001b[0m\u001b[0;34m)\u001b[0m\u001b[0;34m\u001b[0m\u001b[0;34m\u001b[0m\u001b[0m\n\u001b[0;32m--> 670\u001b[0;31m         \u001b[0mself\u001b[0m\u001b[0;34m.\u001b[0m\u001b[0m_setitem_with_indexer\u001b[0m\u001b[0;34m(\u001b[0m\u001b[0mindexer\u001b[0m\u001b[0;34m,\u001b[0m \u001b[0mvalue\u001b[0m\u001b[0;34m)\u001b[0m\u001b[0;34m\u001b[0m\u001b[0;34m\u001b[0m\u001b[0m\n\u001b[0m\u001b[1;32m    671\u001b[0m \u001b[0;34m\u001b[0m\u001b[0m\n\u001b[1;32m    672\u001b[0m     \u001b[0;32mdef\u001b[0m \u001b[0m_validate_key\u001b[0m\u001b[0;34m(\u001b[0m\u001b[0mself\u001b[0m\u001b[0;34m,\u001b[0m \u001b[0mkey\u001b[0m\u001b[0;34m,\u001b[0m \u001b[0maxis\u001b[0m\u001b[0;34m:\u001b[0m \u001b[0mint\u001b[0m\u001b[0;34m)\u001b[0m\u001b[0;34m:\u001b[0m\u001b[0;34m\u001b[0m\u001b[0;34m\u001b[0m\u001b[0m\n",
      "\u001b[0;32m/opt/anaconda3/lib/python3.7/site-packages/pandas/core/indexing.py\u001b[0m in \u001b[0;36m_setitem_with_indexer\u001b[0;34m(self, indexer, value)\u001b[0m\n\u001b[1;32m   1016\u001b[0m                     \u001b[0;32mif\u001b[0m \u001b[0mlen\u001b[0m\u001b[0;34m(\u001b[0m\u001b[0mlabels\u001b[0m\u001b[0;34m)\u001b[0m \u001b[0;34m!=\u001b[0m \u001b[0mlen\u001b[0m\u001b[0;34m(\u001b[0m\u001b[0mvalue\u001b[0m\u001b[0;34m)\u001b[0m\u001b[0;34m:\u001b[0m\u001b[0;34m\u001b[0m\u001b[0;34m\u001b[0m\u001b[0m\n\u001b[1;32m   1017\u001b[0m                         raise ValueError(\n\u001b[0;32m-> 1018\u001b[0;31m                             \u001b[0;34m\"Must have equal len keys and value \"\u001b[0m\u001b[0;34m\u001b[0m\u001b[0;34m\u001b[0m\u001b[0m\n\u001b[0m\u001b[1;32m   1019\u001b[0m                             \u001b[0;34m\"when setting with an iterable\"\u001b[0m\u001b[0;34m\u001b[0m\u001b[0;34m\u001b[0m\u001b[0m\n\u001b[1;32m   1020\u001b[0m                         )\n",
      "\u001b[0;31mValueError\u001b[0m: Must have equal len keys and value when setting with an iterable"
     ]
    }
   ],
   "source": [
    "for x in range(0, len(location_df)):\n",
    "    location_df.iloc[x,1]=ast.literal_eval(location_df.iloc[x,1])\n",
    "    location_df.iloc[x,2]=ast.literal_eval(location_df.iloc[x,2])\n",
    "    location_df.iloc[x,3]=ast.literal_eval(location_df.iloc[x,3])"
   ]
  },
  {
   "cell_type": "markdown",
   "metadata": {},
   "source": [
    "Next we set up a graph that will display the monthly average temperature for each of the locations. So far no lines have been added to the graph, this is just the set up. We also change the x-axis from labeling the months by their number to their name. \n",
    "\n",
    "Similarly, we then do the preliminary set up for a graph that will display each location's temperature change over a 24 hour period in mid-June and a third graph that will display the monthly humidity averages for each location."
   ]
  },
  {
   "cell_type": "code",
   "execution_count": 8,
   "metadata": {},
   "outputs": [],
   "source": [
    "TOOLS = \"pan,reset,save,box_zoom\" #tools for the graphs\n",
    "#Creating Grpah to show average temps throught the year for each location\n",
    "diff_temps=figure(title=\"Average Temperature Throughout the Year\", x_axis_label=\"Months\", y_axis_label=\"Temperature in Celsius\", tools=TOOLS, aspect_ratio=4/3, sizing_mode='scale_both')\n",
    "diff_temps.title.text_font_size='14pt'\n",
    "diff_temps.xaxis.ticker = list(range(1, 13))\n",
    "diff_temps.xaxis.major_label_overrides={1:'January', 2: 'February', 3: 'March', 4: 'April', 5: 'May', 6: 'June', \n",
    "                                        7: \"July\", 8:'August', 9:'September', 10: 'October', 11: 'November', 12: 'December'} #makes x-axis have name labels instead of month numbers\n",
    "diff_temps.xaxis.major_label_orientation=1\n",
    "\n",
    "#creating a graph to show the 6 locations temperatures throught one day \n",
    "hourly_temps=figure(title=\"Temperatures Throughout One Day in Mid-June\", x_axis_label=\"Time in Hours\", y_axis_label=\"Temperature in Celsius\", tools=TOOLS, aspect_ratio=4/3, sizing_mode='scale_both')\n",
    "hourly_temps.title.text_font_size='14pt'\n",
    "\n",
    "#Creating a graph to show the average humidity trends for each location throughout the year\n",
    "humid=figure(title=\"Average Humidity Throughout The Year\", x_axis_label=\"Months\", y_axis_label=\"Relative Humidity\", x_range=diff_temps.x_range, tools=TOOLS, aspect_ratio=4/3, width=600)\n",
    "humid.title.text_font_size='14pt'\n",
    "humid.xaxis.ticker = list(range(1, 13))\n",
    "humid.xaxis.major_label_overrides={1:'January', 2: 'February', 3: 'March', 4: 'April', 5: 'May', 6: 'June', \n",
    "                                        7: \"July\", 8:'August', 9:'September', 10: 'October', 11: 'November', 12: 'December'} #chaning x-axis to month names instead of numbers\n",
    "humid.xaxis.major_label_orientation=1"
   ]
  },
  {
   "cell_type": "markdown",
   "metadata": {},
   "source": [
    "We then iterate through each location using a for loop, and plot the respective line on each of the three graphs. \n",
    "The colors are specified before and will be each location's designated color. "
   ]
  },
  {
   "cell_type": "code",
   "execution_count": 9,
   "metadata": {},
   "outputs": [],
   "source": [
    "colors=['blue', 'darkgreen', 'darkred', 'peru', 'mediumpurple', 'navy']\n",
    "x=0\n",
    "#Creating lines on each of the three graphs\n",
    "for i in range(0, len(location_df)):\n",
    "    diff_temps.line(time_range1, location_df.iloc[i, 1], legend_label=location_df.iloc[i,0], line_width=2, color=colors[x])\n",
    "    hourly_temps.line(time_range, location_df.iloc[i, 2], legend_label=location_df.iloc[i,0], line_width=2, color=colors[x])\n",
    "    humid.line(time_range1, location_df.iloc[i, 3], legend_label=location_df.iloc[i,0], line_width=2, color=colors[x])\n",
    "    x=x+1"
   ]
  },
  {
   "cell_type": "markdown",
   "metadata": {},
   "source": [
    "Each graph is given legend attributes so that when the user clicks on the legend label, the line in the graph is hidden."
   ]
  },
  {
   "cell_type": "code",
   "execution_count": 10,
   "metadata": {},
   "outputs": [],
   "source": [
    "#yearly temperature graph legend attributes\n",
    "diff_temps.legend.click_policy=\"hide\"\n",
    "diff_temps.legend.location='bottom_left'\n",
    "diff_temps.legend.background_fill_alpha=0.7\n",
    "#hourly temperature graph legend attributes\n",
    "hourly_temps.legend.click_policy='hide'\n",
    "hourly_temps.legend.location='bottom_left'\n",
    "hourly_temps.legend.background_fill_alpha=0.7\n",
    "#humidity graph legend attributes\n",
    "humid.legend.click_policy=\"hide\"\n",
    "humid.legend.location='bottom_left'\n",
    "humid.legend.background_fill_alpha=0.7"
   ]
  },
  {
   "cell_type": "markdown",
   "metadata": {},
   "source": [
    "The function two functions **calc_hc** and **HC_hourly** will calculate the heat conduction of the chamber based on the temperatures of the location. **calc_hc** is for the yearly temperature data while **HC_hourly** will calculate the heat conduction for the daily temperature sets. "
   ]
  },
  {
   "cell_type": "code",
   "execution_count": 11,
   "metadata": {},
   "outputs": [],
   "source": [
    "def calc_HC (temps, dims, conductivity, desired_temp): #function to calculate the heat conduction for yearly time scale\n",
    "    k=conductivity\n",
    "    Area=2*(dims[0]*dims[2])+ 2*(dims[1]*dims[2])\n",
    "    Tcold=desired_temp\n",
    "    d=dims[3]\n",
    "    new_list=[]\n",
    "    for i in temps:\n",
    "        new_list.append(24*30*(k*Area)*(i-Tcold)/d)\n",
    "    return new_list\n",
    "\n",
    "def HC_hourly (temps, dims, conductivity, desired_temp): #function to calculate the heat conduction for hourly time scale\n",
    "    k=conductivity\n",
    "    Area=2*(dims[0]*dims[2])+ 2*(dims[1]*dims[2])\n",
    "    Tcold=desired_temp\n",
    "    d=dims[3]\n",
    "    new_list=[]\n",
    "    for i in temps:\n",
    "        new_list.append((k*Area)*(i-Tcold)/d)\n",
    "    return new_list"
   ]
  },
  {
   "cell_type": "markdown",
   "metadata": {},
   "source": [
    "specifying the thermal conductivity for each of the materials"
   ]
  },
  {
   "cell_type": "code",
   "execution_count": 12,
   "metadata": {},
   "outputs": [],
   "source": [
    "k_sand = 0.27  # thermal conductivity of dry sand W/mK\n",
    "k_water = 0.6  # thermal conductivity of water W/mK\n",
    "k_brick = 0.72  # thermal conductivity of brick W/mK\n",
    "e_sand = 0.343  # porosity of sand"
   ]
  },
  {
   "cell_type": "markdown",
   "metadata": {},
   "source": [
    "The graphs about the specific chamber will initially show information about a ZECC in Costa Rica with the initial dimensions, made of brick, and over a Year time frame. These selections were made arbitrarily, we just need to have some selection to start off with. "
   ]
  },
  {
   "cell_type": "code",
   "execution_count": 13,
   "metadata": {},
   "outputs": [
    {
     "ename": "TypeError",
     "evalue": "unsupported operand type(s) for -: 'str' and 'int'",
     "output_type": "error",
     "traceback": [
      "\u001b[0;31m---------------------------------------------------------------------------\u001b[0m",
      "\u001b[0;31mTypeError\u001b[0m                                 Traceback (most recent call last)",
      "\u001b[0;32m<ipython-input-13-7acef3d30dea>\u001b[0m in \u001b[0;36m<module>\u001b[0;34m\u001b[0m\n\u001b[1;32m      1\u001b[0m \u001b[0;31m#first we calculate all values for Costa Rica yearly so we have something to initially show on our graphs before user makes adjustments\u001b[0m\u001b[0;34m\u001b[0m\u001b[0;34m\u001b[0m\u001b[0;34m\u001b[0m\u001b[0m\n\u001b[0;32m----> 2\u001b[0;31m \u001b[0mout1\u001b[0m\u001b[0;34m=\u001b[0m\u001b[0mcalc_HC\u001b[0m\u001b[0;34m(\u001b[0m\u001b[0mlocation_df\u001b[0m\u001b[0;34m.\u001b[0m\u001b[0miloc\u001b[0m\u001b[0;34m[\u001b[0m\u001b[0;36m2\u001b[0m\u001b[0;34m,\u001b[0m \u001b[0;36m1\u001b[0m\u001b[0;34m]\u001b[0m\u001b[0;34m,\u001b[0m \u001b[0minitial_dims\u001b[0m\u001b[0;34m,\u001b[0m \u001b[0mk_brick\u001b[0m\u001b[0;34m,\u001b[0m \u001b[0;36m15\u001b[0m\u001b[0;34m)\u001b[0m\u001b[0;34m\u001b[0m\u001b[0;34m\u001b[0m\u001b[0m\n\u001b[0m\u001b[1;32m      3\u001b[0m \u001b[0msource\u001b[0m\u001b[0;34m=\u001b[0m\u001b[0mColumnDataSource\u001b[0m\u001b[0;34m(\u001b[0m\u001b[0mdata\u001b[0m\u001b[0;34m=\u001b[0m\u001b[0mdict\u001b[0m\u001b[0;34m(\u001b[0m\u001b[0mtime\u001b[0m\u001b[0;34m=\u001b[0m\u001b[0mtime_range1\u001b[0m\u001b[0;34m,\u001b[0m \u001b[0moutput\u001b[0m\u001b[0;34m=\u001b[0m\u001b[0mout1\u001b[0m\u001b[0;34m)\u001b[0m\u001b[0;34m)\u001b[0m \u001b[0;31m#creating a data source to show data that we currently want displayed\u001b[0m\u001b[0;34m\u001b[0m\u001b[0;34m\u001b[0m\u001b[0m\n\u001b[1;32m      4\u001b[0m \u001b[0mstart1\u001b[0m\u001b[0;34m=\u001b[0m\u001b[0mnp\u001b[0m\u001b[0;34m.\u001b[0m\u001b[0mmin\u001b[0m\u001b[0;34m(\u001b[0m\u001b[0msource\u001b[0m\u001b[0;34m.\u001b[0m\u001b[0mdata\u001b[0m\u001b[0;34m[\u001b[0m\u001b[0;34m'output'\u001b[0m\u001b[0;34m]\u001b[0m\u001b[0;34m)\u001b[0m\u001b[0;34m\u001b[0m\u001b[0;34m\u001b[0m\u001b[0m\n\u001b[1;32m      5\u001b[0m \u001b[0mend1\u001b[0m\u001b[0;34m=\u001b[0m\u001b[0mnp\u001b[0m\u001b[0;34m.\u001b[0m\u001b[0mmax\u001b[0m\u001b[0;34m(\u001b[0m\u001b[0msource\u001b[0m\u001b[0;34m.\u001b[0m\u001b[0mdata\u001b[0m\u001b[0;34m[\u001b[0m\u001b[0;34m'output'\u001b[0m\u001b[0;34m]\u001b[0m\u001b[0;34m)\u001b[0m\u001b[0;34m\u001b[0m\u001b[0;34m\u001b[0m\u001b[0m\n",
      "\u001b[0;32m<ipython-input-11-59081fa5b140>\u001b[0m in \u001b[0;36mcalc_HC\u001b[0;34m(temps, dims, conductivity, desired_temp)\u001b[0m\n\u001b[1;32m      6\u001b[0m     \u001b[0mnew_list\u001b[0m\u001b[0;34m=\u001b[0m\u001b[0;34m[\u001b[0m\u001b[0;34m]\u001b[0m\u001b[0;34m\u001b[0m\u001b[0;34m\u001b[0m\u001b[0m\n\u001b[1;32m      7\u001b[0m     \u001b[0;32mfor\u001b[0m \u001b[0mi\u001b[0m \u001b[0;32min\u001b[0m \u001b[0mtemps\u001b[0m\u001b[0;34m:\u001b[0m\u001b[0;34m\u001b[0m\u001b[0;34m\u001b[0m\u001b[0m\n\u001b[0;32m----> 8\u001b[0;31m         \u001b[0mnew_list\u001b[0m\u001b[0;34m.\u001b[0m\u001b[0mappend\u001b[0m\u001b[0;34m(\u001b[0m\u001b[0;36m24\u001b[0m\u001b[0;34m*\u001b[0m\u001b[0;36m30\u001b[0m\u001b[0;34m*\u001b[0m\u001b[0;34m(\u001b[0m\u001b[0mk\u001b[0m\u001b[0;34m*\u001b[0m\u001b[0mArea\u001b[0m\u001b[0;34m)\u001b[0m\u001b[0;34m*\u001b[0m\u001b[0;34m(\u001b[0m\u001b[0mi\u001b[0m\u001b[0;34m-\u001b[0m\u001b[0mTcold\u001b[0m\u001b[0;34m)\u001b[0m\u001b[0;34m/\u001b[0m\u001b[0md\u001b[0m\u001b[0;34m)\u001b[0m\u001b[0;34m\u001b[0m\u001b[0;34m\u001b[0m\u001b[0m\n\u001b[0m\u001b[1;32m      9\u001b[0m     \u001b[0;32mreturn\u001b[0m \u001b[0mnew_list\u001b[0m\u001b[0;34m\u001b[0m\u001b[0;34m\u001b[0m\u001b[0m\n\u001b[1;32m     10\u001b[0m \u001b[0;34m\u001b[0m\u001b[0m\n",
      "\u001b[0;31mTypeError\u001b[0m: unsupported operand type(s) for -: 'str' and 'int'"
     ]
    }
   ],
   "source": [
    "#first we calculate all values for Costa Rica yearly so we have something to initially show on our graphs before user makes adjustments\n",
    "out1=calc_HC(location_df.iloc[2, 1], initial_dims, k_brick, 15)\n",
    "source=ColumnDataSource(data=dict(time=time_range1, output=out1)) #creating a data source to show data that we currently want displayed\n",
    "start1=np.min(source.data['output'])\n",
    "end1=np.max(source.data['output'])"
   ]
  },
  {
   "cell_type": "markdown",
   "metadata": {},
   "source": [
    "Next a graph is made to display both the heat conduction and evaporative cooling rate for the specified ZECC in the specified location. "
   ]
  },
  {
   "cell_type": "code",
   "execution_count": null,
   "metadata": {},
   "outputs": [],
   "source": [
    "#creating a graph to show the heat conduction and evaporative cooling rate for desired ZECC\n",
    "g1=figure(title=\"Heat per Time\", x_axis_label=\"Time in Months\", y_axis_label=\"Heat Conduction per Time\", tools=TOOLS, aspect_ratio=4/3, sizing_mode='scale_both',  margin=(20, 20, 20, 10))\n",
    "gg1=g1.line('time', 'output', source=source, color=\"purple\", legend_label=\"Heat Conduction\", line_dash=[4,4], line_width=3)\n",
    "g1.y_range=Range1d(start1, end1)\n",
    "g1.legend.click_policy=\"hide\"\n",
    "g1.legend.background_fill_alpha=0.5\n",
    "g1.title.text_font_size='14pt'\n",
    "g1.legend.location='top_left'"
   ]
  },
  {
   "cell_type": "markdown",
   "metadata": {},
   "source": [
    "Here we create the sliders for all of the adjusable values about the ZECC. The dimensions are sliders and desired, while there are drop-down menus for the material, location, time range. There is also a button that we will use to calculate the price and volume of the chamber. "
   ]
  },
  {
   "cell_type": "code",
   "execution_count": null,
   "metadata": {},
   "outputs": [],
   "source": [
    "#adding sliders for adjustable dimensions of chamber and drop down menus for location, time interval, and material specifications\n",
    "slide_length=Slider(title=\"Length of Chamber\", value=initial_dims[0], start=0, end=12, step=0.5, width=450, margin=(10, 0, 5, 30))\n",
    "slide_width=Slider(title=\"Width of Chamber\", value=initial_dims[1], start=0, end=12, step=0.5, width=450, margin=(5, 0, 5, 30))\n",
    "slide_height=Slider(title=\"Height of Chamber\", value=initial_dims[2], start=0, end=5, step=0.25, width=450, margin=(5, 0, 5, 30))\n",
    "slide_thick=Slider(title=\"Thickness of Sand Layer in Chamber Wall\", value=initial_dims[3], start=0, end=1, step=0.001, width=450, margin=(5, 0, 5, 30))\n",
    "select_material=Select(title=\"Choice of Material for Walls of the Chamber:\", value=\"Brick\", options=materials, width=400, margin=(5, 0, 5, 20))\n",
    "slide_desired_temp=Slider(title=\"Desired Temperature for the Inner Chamber\", value=20, start=2, end=50, step=0.5, width=450, margin=(5, 5, 5, 30))\n",
    "location_select=Select(title=\"Location\", value=\"Puerto Jiménez, Costa Rica\", options=location_df['Location'], width=400, margin=(10, 5, 5, 20))\n",
    "time_select=Select(title=\"Time Interval\", value=\"12 Months\", options=time_ranges, width=400, margin=(5, 5, 5, 20))\n",
    "calculate_button=Button(label=\"Calculate\", button_type='success', width=450, margin=(5, 0, 5, 20)) #a button that will calculate cost and water needed when clicked\n"
   ]
  },
  {
   "cell_type": "markdown",
   "metadata": {},
   "source": [
    "The following two functions interpolate the value of the latent heat and saturated vapor pressure, these values will be used in future calculations. "
   ]
  },
  {
   "cell_type": "code",
   "execution_count": null,
   "metadata": {},
   "outputs": [],
   "source": [
    "def latent_heat(temp): #function to interpolate latent heat value\n",
    "    #Interpolating the values for latent heat of evaporation\n",
    "    y = [45054, 44883,44627,44456,44200,43988,43774,43602,43345,43172,42911,42738,42475,42030,41579,41120] #latent heat of vaporization array\n",
    "    x = [0,5,10,15,20,25,30,35,40,45,50,55,60,70,80,90] #water temperature array\n",
    "    f1 = interp1d(x, y, kind= 'cubic')\n",
    "    return f1(temp)\n",
    "\n",
    "latent_out=latent_heat(location_df.iloc[2, 1])\n",
    "\n",
    "def SVP(temp):\n",
    "    #Interpolate the values for Saturated Vapor Pressure\n",
    "    x=[.01, 4, 5, 6, 8, 10, 11, 12, 13, 14, 15, 16, 17, 18, 19, 20, 21, 22, 23, 24, 25, 26, 27, 28, 29,\n",
    "       30, 31, 32, 33, 34, 35, 36, 38, 40, 45, 50, 55, 60, 65, 70]\n",
    "    y=[0.00611, 0.00813, 0.00872, 0.00935, 0.01072, 0.01228, 0.01312, 0.01402, 0.01497, 0.01598, 0.01705, 0.01818, 0.01938, 0.02064, 0.02198,\n",
    "       0.02339, 0.02487, 0.02645, 0.02810, 0.02985, 0.03169, 0.03363, 0.03567, 0.03782, 0.04008, 0.04246, 0.04496, 0.04759, 0.05034, 0.05324,\n",
    "       0.05628, 0.05947, 0.06632, 0.07384, 0.09593, .1235, .1576, .1994, .2503, .3119]\n",
    "    vals=interp1d(x, y, kind='cubic')\n",
    "    return vals(temp)\n"
   ]
  },
  {
   "cell_type": "markdown",
   "metadata": {},
   "source": [
    "The following functions **water_needed** and **water_needed_hourly** calculate the amount of water needed in order to keep the ZECC functioning properly. The amount of water needed is based on the dimensions of the chamber, the temperature, the relative humidity, and the saturated vapor pressure. Once again, different functions are needed for the two different time frames"
   ]
  },
  {
   "cell_type": "code",
   "execution_count": null,
   "metadata": {},
   "outputs": [],
   "source": [
    "def water_needed(dims, temp, SVP, rh): #function to calculate the amount of water needed for the chamber to function properly on a yearly time scale\n",
    "    theta=34.5 #(kg/(m^2*hr))\n",
    "    SA=2*(dims[0]+dims[3]+.225)*dims[2] + 2*dims[2]*(dims[1]+dims[3]+.225) #surface area\n",
    "    A = 18.3036 #constant value\n",
    "    B = 3816.44 #constant value\n",
    "    C = -46.13 #constant value\n",
    "    p_star=[]\n",
    "    p_air=[]\n",
    "    evap_rate=[]\n",
    "    for i in temp:\n",
    "        p_star.append(np.exp(A - B / (C + i + 273))) \n",
    "        # Antoine equation for vapor pressure at outside air\n",
    "    for j in range(0, 12):\n",
    "        p_air.append(rh[j]*p_star[j])\n",
    "    #for j in p_star:\n",
    "     #   p_air.append(rh*j) \n",
    "        # bulk pressure of air at t bulk\n",
    "    for x in range(0,12):\n",
    "        yy=theta*SA*((p_star[x]-p_air[x])/760) #in L/hour\n",
    "        yy=yy*(24*30) #in L/month\n",
    "        evap_rate.append(yy)\n",
    "    return evap_rate\n",
    "\n",
    "def water_needed_hourly(dims, temp, SVP, rh): #function to calculate the amount of water needed for the chamber to function properly on an hourly time scale\n",
    "    theta=34.5 #(kg/(m^2*hr))\n",
    "    SA=2*(dims[0]+dims[3]+.225)*dims[2] + 2*dims[2]*(dims[1]+dims[3]+.225)\n",
    "    A = 18.3036 #constant value\n",
    "    B = 3816.44 #constant value\n",
    "    C = -46.13 #constant value\n",
    "    p_star=[]\n",
    "    p_air=[]\n",
    "    evap_rate=[]\n",
    "    for i in temp:\n",
    "        p_star.append(np.exp(A - B / (C + i + 273))) \n",
    "        # Antoine equation for vapor pressure at outside air\n",
    "    for j in p_star:\n",
    "        p_air.append(rh*j) \n",
    "        # bulk pressure of air at t bulk \n",
    "    for x in range(0,24):\n",
    "        yy=theta*SA*((p_star[x]-p_air[x])/760) #in L/hour\n",
    "       # yy=yy*(1/1000)*(3600) #in L/hour\n",
    "        evap_rate.append(yy)\n",
    "    return evap_rate"
   ]
  },
  {
   "cell_type": "code",
   "execution_count": null,
   "metadata": {},
   "outputs": [],
   "source": [
    "vap_init=[]\n",
    "for p in location_df.iloc[2, 1]:\n",
    "    vap_init.append(SVP(p))\n",
    "vap1_init=[]\n",
    "for p in location_df.iloc[2, 1]:\n",
    "    vap1_init.append(SVP(p))\n",
    "\n",
    "#getting water for Costa Rica as that will be the initial display\n",
    "water_monthly=water_needed(initial_dims, location_df.iloc[2, 1], vap_init, location_df.iloc[2, 3])\n",
    "water_trial=water_needed_hourly(initial_dims, location_df.iloc[2, 1], vap1_init, location_df.iloc[2, 3])\n",
    "sourceW=ColumnDataSource(data=dict(time=time_range1, temps=location_df.iloc[2, 1], water=water_monthly))"
   ]
  },
  {
   "cell_type": "markdown",
   "metadata": {},
   "source": [
    "Two functions that calculate the evaporative cooling rate **evap_cool** and **evap_cool_hourly** for the yearly and daily time scales, respectively"
   ]
  },
  {
   "cell_type": "code",
   "execution_count": null,
   "metadata": {},
   "outputs": [],
   "source": [
    "#Evaporative Cooling Rate Q/t=mLv/t\n",
    "def evap_cool(mass, latent, time): #for yearly time scale\n",
    "    cooling_rate=[]\n",
    "    for w in range(0,12):\n",
    "        cooling_rate.append((mass[w]*latent[w])/100)\n",
    "    return cooling_rate\n",
    "\n",
    "def evap_cool_hourly(mass, latent, time): #for hourly time scale\n",
    "    cooling_rate=[]\n",
    "    for w in range(0,24):\n",
    "        cooling_rate.append((mass[w]*latent[w])/100)\n",
    "    return cooling_rate"
   ]
  },
  {
   "cell_type": "markdown",
   "metadata": {},
   "source": [
    "Calculate the evaporative cooling rate for Costa Rica to have on the initial output of graphs. This will be stored in the ColumnDataSource **source3**\n",
    "\n",
    "There will be two different y-axis set up for the same plot since we want to look at evaporative cooling rate and heat conduction together but the two are on very different scales. **start** and **end** determine the starting and ending points for the second y-axis being added. Lines for the evaporarive cooling rate are then added to the graph **g1** which currently holds the graph for the heat conduction.\n",
    "\n",
    "Tool tips are then added so that when the user hovers over a line the value at the given time is shown."
   ]
  },
  {
   "cell_type": "code",
   "execution_count": null,
   "metadata": {},
   "outputs": [],
   "source": [
    "evap_out=evap_cool(water_monthly, latent_out, time_range1) #calculating inital for Costa Rica for initial display\n",
    "source3=ColumnDataSource(data=dict(time=time_range1, evap_out=evap_out)) #data source to store info\n",
    "start=int(min(source3.data['evap_out'])) #starting value of second y-axis\n",
    "end=int(max(source3.data['evap_out'])) #ending value of second y-axis\n",
    "g1.extra_y_ranges['second']=(Range1d(start, end)) #creating a second y-axis since evaporative cooling rate and heat conduction are on very different scales\n",
    "#adding line for evaporatove cooling rate to g1 graph that has the heat conduction rate\n",
    "gg2=g1.line('time', 'evap_out', source=source3, color='orange', legend_label=\"Evaporation Cooling Rate\", line_width=2, y_range_name='second')\n",
    "ax2 = LinearAxis(y_range_name=\"second\", axis_label=\"Evaporative Cooling Heat per Time\")\n",
    "g1.add_layout(ax2, 'left') #adding the second y_axis to the graph\n",
    "\n",
    "#Adding display of value when line hovered over at specific point\n",
    "hh2=HoverTool(tooltips=[(\"Heat per Time\", \"@evap_out\")], renderers=[gg2])\n",
    "hh1=HoverTool(tooltips=[(\"Heat per Time\", \"@output\")], renderers=[gg1])\n",
    "g1.add_tools(hh1, hh2)"
   ]
  },
  {
   "cell_type": "markdown",
   "metadata": {},
   "source": [
    "We want the user to take into account how much the ZECC they have created will cost. The costs are due to the material used to build the chamber and how much of it is needed, as well as paying for the amount of water needed to keep the chamber functioning properly. The function **cost_calc** calculates the cost of the given chamber.\n",
    "\n",
    "The proce for the current chamber is stored in the ColumnDataSource **sourceP** and the initial value for the arbitrary initial Costa Rica chamber is calculated and store in **sourceP** to begin with."
   ]
  },
  {
   "cell_type": "code",
   "execution_count": null,
   "metadata": {},
   "outputs": [],
   "source": [
    "def cost_calc(dims, water_amount, mat): #calculating the cost to build and operate the ZECC on a yearly time scale\n",
    "    #dims=[brick_length, brick_width, brick_height, sand_thickness]\n",
    "    L0=dims[0] #length of inner brick chamber\n",
    "    w0=dims[1] #width of inner brick chamber\n",
    "    L1 = 0.1125\n",
    "    L3=0.1125#thickness of brick\n",
    "    L2=dims[3] #thickness of sand\n",
    "    h=dims[2] #height of chamber\n",
    "    w1 = w0 + 2 * L1  # width of inner brick layer\n",
    "    w2 = w1 + 2 * L2  # width of sand layer\n",
    "    w3 = w2 + 2 * L3  # width of outer brick layer\n",
    "    A0 = L0 * w0  # area of inner chamber\n",
    "    A1 = ((L0 + L1) * w1) - A0  # area of inner brick layer\n",
    "    A2 = ((L0 + L1 + L2) * w2) - A1  # area of sand layer\n",
    "    A3 = ((L0 + L1 + L2 + L3) * w3) - A2  # area of outer brick layer\n",
    "    V0 = A0 * h  # inner chamber volume\n",
    "    V1 = A1 * h  # inner brick volume\n",
    "    V2 = A2 * h  # sand volume\n",
    "    V3 = A3 * h  # outer brick volume\n",
    "    materials_cost=0\n",
    "    if mat==\"Brick\":\n",
    "       materials_cost= 1900*0.037*V1 + 1905*.05*V2 + 1900*0.037*V3\n",
    "       #Brick cost 0.037 $/Kg and density is 1900 Kg/m^3\n",
    "    elif mat==\"Cardboard\":\n",
    "        materials_cost=1905*0.5*V2 + (V1+V2)*(0.11*689)\n",
    "        #Cardboard cost $0.11/Kg and desnsity is 689 Kg/m^3\n",
    "    elif mat==\"Aluminum\":\n",
    "        materials_cost=1905*0.5*V2 + (V1+V2)*(1.754*2710)\n",
    "        #Aluminum cost is $1.754/Kg and density is 2710 Kg/m^3\n",
    "    elif mat==\"Concrete\":\n",
    "        materials_cost=1905*0.5*V2 +(V1+V2)*(98.425)\n",
    "        #Concrete cost is $98.425/m^3\n",
    "    #cost of sand 0.05 $/kg\n",
    "    #Density of Sand (kg/m^3): 1905\n",
    "    water_cost=water_amount*0.0001\n",
    "    final_cost=materials_cost+water_cost\n",
    "    return final_cost\n",
    "\n",
    "price1=cost_calc(initial_dims, sum(water_monthly), \"Brick\") #inital cost of ZECC in Costa Rica made with Brick using initial dimensions\n",
    "sourceP=ColumnDataSource(data=dict(price=[price1])) #storing info in Price data source"
   ]
  },
  {
   "cell_type": "markdown",
   "metadata": {},
   "source": [
    "We also want to create a data table that will display the current location, price (per day and per year), amount of water needed (per day and per year), the volume of the chamber, and the time range being used for the weather data in consideration. All of this will be stored in the ColumnDataSource **sourceTable** which is then used to create **data_table** so that when adjustments are made to the chamber, new rows can be printed. "
   ]
  },
  {
   "cell_type": "code",
   "execution_count": null,
   "metadata": {},
   "outputs": [],
   "source": [
    "#Creating a data table that will print out the volume of the chamber as well as the cost of the ZECC and the amount of water needed, both on a daily and yearly time scale\n",
    "tableName=[\"Puerto Jiménez, Costa Rica\"]\n",
    "tablePriceY=[\"$\"+str(round(price1, 2))]\n",
    "tablePriceD=[\"$\"+str(round(price1/365,2))]\n",
    "tableWaterY=[str(round(sum(water_monthly), 2))+\" L\"]\n",
    "tableWaterD=[str(round(sum(water_monthly)/365, 2)) +\" L\"]\n",
    "tableSpace=[str(round(initial_dims[0]*initial_dims[1]*initial_dims[2], 2))+\" m^3\"]\n",
    "tableTime=[time_ranges[0]]\n",
    "\n",
    "sourceTable=ColumnDataSource(data=dict(name=tableName, time=tableTime, Year_Price=tablePriceY, Day_Price=tablePriceD, Year_Water=tableWaterY, Day_Water=tableWaterD, space=tableSpace))\n",
    "columnsT=[TableColumn(field='name', title='Location'), TableColumn(field='time', title='Time Interval'), TableColumn(field='space', title='Storage Volume Capacity (in m^3)'), \n",
    "          TableColumn(field='Day_Water', title='Daily Water Input (in Liters)'), TableColumn(field='Year_Water', title='Yearly Water Input (in L)'),\n",
    "          TableColumn(field='Day_Price', title='Daily Cost in $'), TableColumn(field='Year_Price', title='Yearly Cost in $')]\n",
    "data_table=DataTable(source=sourceTable, columns=columnsT, width=750, margin=(5, 0, 0, 20))"
   ]
  },
  {
   "cell_type": "markdown",
   "metadata": {},
   "source": [
    "The functions **dew_point** and **dew_point_hourly** calculate the dew point based on the weather data. Different functions are used since the weather data is different lengths dependent on if its for a daily or yearly time scale."
   ]
  },
  {
   "cell_type": "code",
   "execution_count": null,
   "metadata": {},
   "outputs": [],
   "source": [
    "def dew_point(temps, rh, time): #calculating dew point of location at speific time\n",
    "    dp_out=[]\n",
    "    a = 17.27\n",
    "    b = 237.7\n",
    "    for t in time:\n",
    "        alpha = b * (((a * temps[t]) / (b + temps[t])) + np.log(rh[t]))\n",
    "        gamma = a - (((a * temps[t]) / (b + temps[t])) + np.log(rh[t]))\n",
    "        dp_out.append(alpha / gamma)\n",
    "    return dp_out\n",
    "def dew_point_hourly(temps, rh, time): #calculating dew point of loction at specific time\n",
    "    dp_out=[]\n",
    "    a = 17.27\n",
    "    b = 237.7\n",
    "    for t in time:\n",
    "        alpha = b * (((a * temps[t]) / (b + temps[t])) + np.log(rh))\n",
    "        gamma = a - (((a * temps[t]) / (b + temps[t])) + np.log(rh))\n",
    "        dp_out.append(alpha / gamma)\n",
    "    return dp_out\n",
    "dp_Costa=dew_point(location_df.iloc[2, 1], location_df.iloc[2, 3], range(0,12)) #dew point for initial Costa Rica ZECC\n"
   ]
  },
  {
   "cell_type": "markdown",
   "metadata": {},
   "source": [
    "A graph is created that will display the outside (aka ambient) temperature, as well as the dew-point temperature."
   ]
  },
  {
   "cell_type": "code",
   "execution_count": null,
   "metadata": {},
   "outputs": [],
   "source": [
    "#creating a graph that shows the ambient temp, outer wall temp, and dew point temp\n",
    "g4=figure(title=\"Essential Temperature Values for Selected Location\", x_axis_label=\"Time (in Months)\", y_axis_label=\"Temperature (in Celsius)\", tools=TOOLS, margin=(20, 20, 20, 20), aspect_ratio=4/3, sizing_mode='scale_both')\n",
    "g4.title.text_font_size='14pt'\n",
    "sourceDP=ColumnDataSource(data=dict(time=time_range1, temps=location_df.iloc[2, 1], dp=dp_Costa, T1=range(0,12)))\n",
    "gl1=g4.line('time', 'temps', source=sourceDP, color='orange', line_width=2, legend_label=\"Ambient Temperature\")\n",
    "gl2=g4.line('time', 'dp', source=sourceDP, color='darkblue', line_width=2, line_dash=[4,4], legend_label=\"Dew-Point Temperature\")\n",
    "g4.legend.background_fill_alpha=0.5\n",
    "g4.legend.location='top_left'\n",
    "g4.legend.click_policy='hide'"
   ]
  },
  {
   "cell_type": "markdown",
   "metadata": {},
   "source": [
    "The function **T1_calc** calculates the chamber's outer wall temperature. The parameters are defined below"
   ]
  },
  {
   "cell_type": "code",
   "execution_count": null,
   "metadata": {},
   "outputs": [],
   "source": [
    "def T1_calc(dims, temps, wanted_temp, mat, time_range): #calculating outer wall temp\n",
    "    T_bulk = temps # degrees C of air surrounding outside\n",
    "    Tc = wanted_temp  # degrees C of inner chamber\n",
    "    m = 907  # kg of potatoes in a metric ton\n",
    "    hr = 9  # heat of respiration of potatoes in ml CO2 per kg hr\n",
    "    rate = 122  # kcal per metric ton * day respiration multiplied to get rate\n",
    "    k_sand = 0.27  # thermal conductivity of dry sand W/mK\n",
    "    k_water = 0.6  # thermal conductivity of water W/mK\n",
    "    e_sand = 0.343  # porosity of sand\n",
    "    k_ws = e_sand * k_water + (1 - e_sand) * k_sand  # calculates the thermal conductivity of wet sand\n",
    "    L0 = dims[0] # length of inner chamber\n",
    "    L1 = .1125  # length of inner brick layer\n",
    "    L2 = dims[3]  # length of sand layer\n",
    "    L3 = .1125  # length of outer brick layer\n",
    "    w0 = dims[1] # width of inner chamber\n",
    "    h0 = dims[2]  # height of every layer in meters\n",
    "    A_chamber = L0*h0*2 + w0*h0*2\n",
    "    A_innerbrick = (L0+L1)*h0*2 + (w0+L1)*h0*2\n",
    "    A_sand = (L0+L1+L2)*h0*2 + (w0+L1+L2)*h0*2\n",
    "    h1 = 50  # convective heat transfer coefficient of inner chamber air\n",
    "    h2 = 5  # convective heat transfer coefficient of outside air\n",
    "    cond=0\n",
    "    if mat ==\"Brick\":\n",
    "        cond=0.72\n",
    "    elif mat==\"Cardboard\":\n",
    "        cond=0.048 \n",
    "    elif mat=='Aluminum':\n",
    "        cond=205 \n",
    "    elif mat=='Concrete':\n",
    "        cond=0.8\n",
    "    # calculations\n",
    "    q = hr * rate * 4.18 * (1 / 24) * (1 / 3600) * m/1000 * 1000  # total respiration rate of one metric ton of potatoes - in J/sec\n",
    "    T4 = -((q * (1 / (h1*A_chamber))) - Tc)\n",
    "    T3 = -((q * (L1 / (cond*A_innerbrick))) - T4)\n",
    "    T2 = -((q * (L2 / (k_ws*A_sand))) - T3)\n",
    "    T1=[]\n",
    "    for i in time_range:\n",
    "        abc = (((L3 * h2 * T_bulk[i]) / k_brick) + T2) / (1 + (L3 * h2) / k_brick)\n",
    "        T1.append(abc)\n",
    "    #print(T1)\n",
    "    return T1"
   ]
  },
  {
   "cell_type": "markdown",
   "metadata": {},
   "source": [
    "T1 value is initially calculated for Costa Rica in order to add to the starting graph. This temperature is added the the **g4** graph containing the dew-point temperature and ambient temperature.\n",
    "\n",
    "When any of these lines are hovered over the value will be given"
   ]
  },
  {
   "cell_type": "code",
   "execution_count": null,
   "metadata": {},
   "outputs": [],
   "source": [
    "Costa_T1=T1_calc(initial_dims, location_df.iloc[2, 1], 18, \"Brick\", range(0,12))\n",
    "sourceDP.data=dict(time=time_range1, temps=location_df.iloc[2, 1], dp=dp_Costa, T1=Costa_T1)\n",
    "gl3=g4.line('time', 'T1', source=sourceDP, legend_label=\"Outer Wall Temperature\", line_width=2, line_dash=[8,2], color='purple')\n",
    "\n",
    "h1=HoverTool(tooltips=[(\"Temp\",\"@temps\" )], renderers=[gl1])\n",
    "h2=HoverTool(tooltips=[(\"Temp\", \"@dp\")], renderers=[gl2])\n",
    "h3=HoverTool(tooltips=[(\"Temp\", \"@T1\")], renderers=[gl3])\n",
    "g4.add_tools(h1, h2, h3)"
   ]
  },
  {
   "cell_type": "markdown",
   "metadata": {},
   "source": [
    "**update_data** is the function that will be called when any of the slider values or drop-down menu options changes. When this function is called, everything necessary for the graph outputs will be re-calculated and stored in the proper ColumnDataSource sources. "
   ]
  },
  {
   "cell_type": "code",
   "execution_count": null,
   "metadata": {},
   "outputs": [],
   "source": [
    "def update_data(attr, old, new): #when slider or drop down menu values get adjusted, this function is called and recalculates for all the values that all the graphs display\n",
    "    #Get Slider Values\n",
    "    length=slide_length.value\n",
    "    height=slide_height.value\n",
    "    width=slide_width.value\n",
    "    mat=select_material.value\n",
    "    thick=slide_thick.value\n",
    "    want_temp=slide_desired_temp.value\n",
    "    loc=location_select.value\n",
    "    time=time_select.value\n",
    "    cond=0\n",
    "    place=0\n",
    "    if loc==\"Bethlehem, PA\":\n",
    "        place=0\n",
    "    elif loc==\"Miami, FL\":\n",
    "        place=1\n",
    "    elif loc==\"Puerto Jiménez, Costa Rica\":\n",
    "        place=2\n",
    "    elif loc==\"Quito, Ecuador\":\n",
    "        place=3\n",
    "    elif loc==\"Nairobi, Kenya\":\n",
    "        place=4\n",
    "    elif loc==\"Lusaka, Zambia\":\n",
    "        place=5\n",
    "\n",
    "    if mat ==\"Brick\": #selectng conductivity value based off of material selected\n",
    "        cond=0.72\n",
    "    elif mat==\"Cardboard\":\n",
    "        cond=0.048 \n",
    "    elif mat=='Aluminum':\n",
    "        cond=205 \n",
    "    elif mat=='Concrete':\n",
    "        cond=0.8\n",
    "        \n",
    "    if time==\"12 Months\":  #different functions used for calculations depending on if time scale is 24 hours or 12 months\n",
    "        dims=[length, width, height, thick]\n",
    "        out=calc_HC(location_df.iloc[place, 1], dims, cond, want_temp)\n",
    "        vap=[]\n",
    "        for p in location_df.iloc[place, 1]:\n",
    "            vap.append(SVP(p))\n",
    "        #recalculating values\n",
    "        water=water_needed(dims, location_df.iloc[place, 1], vap, location_df.iloc[place, 3])\n",
    "        latent=latent_heat(location_df.iloc[place, 1])\n",
    "        evap=evap_cool(water, latent, time_range1)\n",
    "        dp=dew_point(location_df.iloc[place, 1], location_df.iloc[place, 3], range(0,12))\n",
    "        T1=T1_calc(dims, location_df.iloc[place, 1], want_temp, mat, range(0,12))\n",
    "        #updating data source values for what to display\n",
    "        source.data=dict(time=time_range1, output=out)\n",
    "        sourceW.data=dict(time=time_range1, temps=location_df.iloc[place, 1], water=water)\n",
    "        source3.data=dict(time=time_range1, evap_out=evap)\n",
    "        sourceDP.data=dict(time=time_range1, temps=location_df.iloc[place, 1], dp=dp, T1=T1)\n",
    "        g1.extra_y_ranges['second'].start=np.min(source3.data['evap_out'])-10000\n",
    "        g1.extra_y_ranges['second'].end=np.max(source3.data['evap_out'])+10000\n",
    "        g1.y_range.start=np.min(source.data['output'])-10000\n",
    "        g1.y_range.end=np.max(source.data['output'])+10000\n",
    "        g1.xaxis.axis_label=\"Time (in Months)\"\n",
    "        #g3.xaxis.axis_label=\"Time (in Months)\"\n",
    "        g4.xaxis.axis_label=\"Time (in Months)\"\n",
    "        \n",
    "    elif time==\"24 Hours\":  #different functions used for calculations depending on if time scale is 24 hours or 12 months\n",
    "        dims=[length, width, height, thick]\n",
    "        out=HC_hourly(location_df.iloc[place, 2], dims, cond, want_temp)\n",
    "        vap=[]\n",
    "        for p in location_df.iloc[place, 2]:\n",
    "            vap.append(SVP(p))\n",
    "        #recalculating values\n",
    "        water=water_needed_hourly(dims, location_df.iloc[place, 2], vap, location_df.iloc[place, 2])\n",
    "        latent=latent_heat(location_df.iloc[place, 2])\n",
    "        evap=evap_cool_hourly(water, latent, time_range)\n",
    "        T1=T1_calc(dims, location_df.iloc[place, 2], want_temp, mat, range(0,24))\n",
    "        dp=dew_point_hourly(location_df.iloc[place, 2], location_df.iloc[place, 4], range(0,24))\n",
    "        #updating data source values for what to display\n",
    "        source.data=dict(time=time_range, output=out)\n",
    "        sourceW.data=dict(time=time_range, temps=location_df.iloc[place, 2], water=water)\n",
    "        source3.data=dict(time=time_range, evap_out=evap)\n",
    "        sourceDP.data=dict(time=time_range, temps=location_df.iloc[place, 4], dp=dp, T1=T1)\n",
    "        g1.extra_y_ranges['second'].start=np.min(source3.data['evap_out'])-10\n",
    "        g1.extra_y_ranges['second'].end=np.max(source3.data['evap_out'])+10\n",
    "        g1.y_range.start=np.min(source.data['output'])-10\n",
    "        g1.y_range.end=np.max(source.data['output'])+10\n",
    "        g1.xaxis.axis_label=\"Time (in Hours)\"\n",
    "        #g3.xaxis.axis_label=\"Time (in Hours)\"\n",
    "        g4.xaxis.axis_label=\"Time (in Hours)\""
   ]
  },
  {
   "cell_type": "markdown",
   "metadata": {},
   "source": [
    "As mentioned previously, there is a button that will appear to the user that says \"Calculate\". When the user presses the button, the function **button_updates** will be called and the price, amount of water, and volume of the changer will be re-calculated and displayed in the data table."
   ]
  },
  {
   "cell_type": "code",
   "execution_count": null,
   "metadata": {},
   "outputs": [],
   "source": [
    "def button_updates(): #when calculate button is pressed, this function re-calculates all the info that is spit out\n",
    "    #Get Slider Values\n",
    "    length=slide_length.value\n",
    "    height=slide_height.value\n",
    "    width=slide_width.value\n",
    "    mat=select_material.value\n",
    "    thick=slide_thick.value\n",
    "    loc=location_select.value\n",
    "    interval=time_select.value\n",
    "    #place=CostaRica\n",
    "    dims=[length, width, height, thick]\n",
    "    water=0\n",
    "    price=0\n",
    "    place=0\n",
    "    if loc==\"Bethlehem, PA\":\n",
    "        place=0\n",
    "    elif loc==\"Miami, FL\":\n",
    "        place=1\n",
    "    elif loc==\"Puerto Jiménez, Costa Rica\":\n",
    "        place=2\n",
    "    elif loc==\"Quito, Ecuador\":\n",
    "        place=3\n",
    "    elif loc==\"Nairobi, Kenya\":\n",
    "        place=4\n",
    "    elif loc==\"Lusaka, Zambia\":\n",
    "        place=5\n",
    "    if interval==\"12 Months\": #different functions used for calculations depending on if time scale is 24 hours or 12 months\n",
    "        vap=[]\n",
    "        for p in location_df.iloc[place, 1]:\n",
    "            vap.append(SVP(p))\n",
    "        #recalculating values\n",
    "        water=water_needed(dims, location_df.iloc[place, 1], vap, location_df.iloc[place, 3])\n",
    "        price=cost_calc(dims, sum(water), mat)\n",
    "        tablePriceY.append(\"$\"+str(round(price, 2)))\n",
    "        tablePriceD.append(\"$\"+str(round((price/365), 2)))\n",
    "        tableWaterY.append(str(round(sum(water), 2))+\" L\")\n",
    "        tableWaterD.append(str(round(sum(water)/365, 2))+\" L\")\n",
    "        tableTime.append(\"12 Months\")\n",
    "        \n",
    "    elif interval==\"24 Hours\":  #different functions used for calculations depending on if time scale is 24 hours or 12 months\n",
    "        vap1=[]\n",
    "        for p in location_df.iloc[place, 2]:\n",
    "            vap1.append(SVP(p))\n",
    "        #recalculating values\n",
    "        water=water_needed_hourly(dims, location_df.iloc[place, 2], vap1, location_df.iloc[place, 4])\n",
    "        price=cost_calc(dims, sum(water), mat)\n",
    "        tablePriceD.append(\"$\"+str(round(price/365,2)))\n",
    "        tablePriceY.append(\"$\"+str(round(price, 2)))\n",
    "        tableWaterD.append(str(round(sum(water), 2))+\" L\")\n",
    "        tableWaterY.append(str(round(sum(water)*365, 2))+ \" L\")\n",
    "        tableTime.append(\"24 Hours\")\n",
    "    \n",
    "    tableName.append(loc) #changing location name in data table\n",
    "    tableSpace.append(str(round((dims[0]*dims[1]*dims[2]), 2))+\" m^3\") #calculating chamber volume for data table\n",
    "    #updating values that will be displayed in data table\n",
    "    sourceTable.data=dict(name=tableName, time=tableTime, Year_Price=tablePriceY, Day_Price=tablePriceD, Day_Water=tableWaterD, Year_Water=tableWaterY, space=tableSpace)\n",
    "    \n"
   ]
  },
  {
   "cell_type": "markdown",
   "metadata": {},
   "source": [
    "We've written out some brief descriptions about some of the processes and values involved in the ZECC calculations"
   ]
  },
  {
   "cell_type": "code",
   "execution_count": null,
   "metadata": {},
   "outputs": [],
   "source": [
    "#Information that will appear as text paragraphs \n",
    "p_Heat=Paragraph(text=\"Note:    Heat per Time: Displays the heat transferred (from evaporation or conduction) per unit time. The heat conducted refers to the heat transferred from the inner chamber to the water. The evaporative cooling rate refers to the rate of heat leaving the system through evaporation. Water Used: Displays the water needed to keep the system running properly, based off the amount of water evaporating at a given time. A system at steady state needs to release the same amount of what it takes in.\", \n",
    "                 margin=(20, 10, 20, 10), width=700)\n",
    "p_ZECC=Paragraph(text=\"Zero Energy Cooling: By using the principles behind perspiration, there is a way to create an eco friendly chamber for storing food in harsh conditions. The two chamber cooling system consists of two nested chambers, with sand filling the space in between. Water is set to flow in the sand layer. \", \n",
    "                 margin=(20, 10, 20, 10), width=700)\n",
    "p_HT=Paragraph(text=\"Heat Transfer in the ZECC: The heat transfer that occurs in the zero energy cooling chamber, is a combination of all three of the heat transfer methods. The radiation from solar energy heats the chamber and the surrounding area. The ground also radiates heat. The fluid flow and the conduction of the water is what helps to cool the chamber down.\",\n",
    "               margin=(20, 10, 20, 10), width=700)\n",
    "p_LHV=Paragraph(text=\"Latent Heat of Vaporization: When one mole of a substance at atmospheric pressure goes from the liquid phase to the gaseous phase, there is energy required to bring the substance to a boil and make the phase change occur. Bringing a substance to its boiling point is not enough since there is still energy required to make phase change occur. This energy required is the latent heat of vaporization. Temperature changes can’t occur without phase changes.\",\n",
    "                margin=(20, 10, 20, 10), width=700)\n",
    "p_dp=Paragraph(text=\"Note:    Dew-Point temperature is critically dependent on both the design of the chamber and inputed values. If the temperature of the outer wall of the chamber becomes too low then water will begin to condense on the surface and no evaporation will occur, halting the cooling process of the inner chamber.\", \n",
    "               margin=(20, 10, 20, 10), width=700)"
   ]
  },
  {
   "cell_type": "markdown",
   "metadata": {},
   "source": [
    "Now we begin to organize how all items will be displayed for the output. **Widgets** alligns all of the sliders and drop down menus into a column, **selecters** is only for the location, material, and time slectors, and **slider** is a column of the dimension and desired temperature sliders."
   ]
  },
  {
   "cell_type": "code",
   "execution_count": null,
   "metadata": {},
   "outputs": [],
   "source": [
    "#organizing display\n",
    "widgets=column(location_select, time_select, select_material, slide_length, slide_height, slide_width, slide_thick, slide_desired_temp, calculate_button)\n",
    "selecters=column(location_select, time_select, select_material)\n",
    "sliders=column(slide_length, slide_height, slide_width, slide_thick, slide_desired_temp)\n",
    "\n",
    "#organizing panels of diaply\n",
    "tab2=Panel(child=column(row(diff_temps, hourly_temps), row(humid, mapp)), title=\"Climate Data\")\n",
    "tab1=Panel(child=column(row(selecters, sliders), row(g4, g1), calculate_button, data_table), title=\"Heat Transfer & Essential Temps\")\n",
    "tab3=Panel(child=column(p_ZECC, p_LHV, p_HT, p_Heat, p_dp), title=\"Information\")\n",
    "tabs=Tabs(tabs=[tab1, tab2, tab3])"
   ]
  },
  {
   "cell_type": "markdown",
   "metadata": {},
   "source": [
    "**u.on_change** means that whenever one of the slider values or drop-down menu selections changes, then the **update_data** function is called so that updates to the graphs can be made in real-time.\n",
    "\n",
    "Finally the output is generated with the **curdoc()** statements."
   ]
  },
  {
   "cell_type": "code",
   "execution_count": null,
   "metadata": {},
   "outputs": [],
   "source": [
    "updates=[location_select, time_select, select_material, slide_length, slide_height, slide_width, slide_thick, slide_desired_temp]\n",
    "for u in updates: #when any of the slider values are changed or drop down menu has a new selection, this will then call the update_data function which will then make appropriate adjustments to graphs and table\n",
    "    u.on_change('value', update_data)\n",
    "    \n",
    "calculate_button.on_click(button_updates) #calls button_updates function when the calculate button is clicked\n",
    "\n",
    "#generated output\n",
    "curdoc().add_root(tabs)\n",
    "curdoc().title=\"Zero Energy Cooling Chamber\""
   ]
  }
 ],
 "metadata": {
  "kernelspec": {
   "display_name": "Python 3",
   "language": "python",
   "name": "python3"
  },
  "language_info": {
   "codemirror_mode": {
    "name": "ipython",
    "version": 3
   },
   "file_extension": ".py",
   "mimetype": "text/x-python",
   "name": "python",
   "nbconvert_exporter": "python",
   "pygments_lexer": "ipython3",
   "version": "3.7.6"
  }
 },
 "nbformat": 4,
 "nbformat_minor": 4
}
