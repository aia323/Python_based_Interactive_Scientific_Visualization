{
 "cells": [
  {
   "cell_type": "markdown",
   "metadata": {},
   "source": [
    "# Getting Started with Bokeh and Pandas\n",
    "\n",
    "-------------------------------------------------\n",
    "\n",
    "## Outline\n",
    "\n",
    "Here we look at populous cities from each continent, except Antartica. We will use:\n",
    "\n",
    "- Bokeh mapping function to show their location\n",
    "\n",
    "\n",
    "- Scatter plot to compare climate of the cities\n",
    "\n",
    "\n",
    "- hbar to plot population of cities\n",
    "\n",
    "\n",
    "- vbar to plot highest natural altitude in the Urban Areas\n",
    "\n",
    "\n",
    "- Utilize Bokeh Palette to color each city\n",
    "\n",
    "\n",
    "- Tooltips usage across various plots\n",
    "\n",
    "\n",
    "- Use box_select or lasso_select tool to filter cities\n",
    "\n",
    "\n",
    "## Dataset\n",
    "\n",
    "- Data is gathered from [Wikipedia list of largest cities](https://en.wikipedia.org/wiki/List_of_largest_cities). Considering Urban Area Population. Sydney was an outlier and data was gathered from this [Wikipedia Page](https://en.wikipedia.org/wiki/Sydney).\n",
    "\n",
    "\n",
    "- Climate data has the maximum average temperature for the hottest summer month and minimum average temperature for the coldest month for each city.\n",
    "\n",
    "\n",
    "- Altitude is the highest natural elevation found in the Urban Area of each city.\n",
    "\n",
    "\n",
    "## Disclaimer\n",
    "\n",
    "This is not a scientific study, just a showcase how we can combine Bokeh and Pandas to create an interactive plot.\n",
    "\n",
    "---------------------------------------------------------"
   ]
  },
  {
   "cell_type": "markdown",
   "metadata": {},
   "source": [
    "# Import Libraries\n",
    "---"
   ]
  },
  {
   "cell_type": "code",
   "execution_count": null,
   "metadata": {},
   "outputs": [],
   "source": [
    "import numpy as np\n",
    "import pandas as pd\n",
    "from bokeh.io import show, output_notebook\n",
    "from bokeh.models import ColumnDataSource, Range1d\n",
    "from bokeh.plotting import figure, output_file\n",
    "from bokeh.layouts import column, row, gridplot\n",
    "from bokeh.tile_providers import CARTODBPOSITRON, get_provider\n",
    "from bokeh.palettes import Colorblind6\n",
    "from bokeh.transform import factor_cmap\n",
    "\n",
    "output_notebook()"
   ]
  },
  {
   "cell_type": "markdown",
   "metadata": {},
   "source": [
    "# Import Dataset\n",
    "---"
   ]
  },
  {
   "cell_type": "code",
   "execution_count": null,
   "metadata": {},
   "outputs": [],
   "source": [
    "file_path = \".//data//\"\n",
    "file_name = \"most_populated_cities_world.csv\"\n",
    "df_world_cities = pd.read_csv(file_path+file_name)\n",
    "df_world_cities.city = df_world_cities.city.astype(str)\n",
    "print(len(df_world_cities.index))\n",
    "print(df_world_cities)"
   ]
  },
  {
   "cell_type": "markdown",
   "metadata": {},
   "source": [
    "# Function to convert Latitude and Longitude to Mercator\n",
    "---"
   ]
  },
  {
   "cell_type": "code",
   "execution_count": null,
   "metadata": {},
   "outputs": [],
   "source": [
    "def convert_lat_long_to_mercator(pandas_dataframe):\n",
    "    conversion_constant = 6378137\n",
    "    pandas_dataframe[\"longitude\"] = pandas_dataframe[\"longitude\"] * (conversion_constant * np.pi/180.0)\n",
    "    pandas_dataframe[\"latitude\"] = np.log(np.tan((90 + pandas_dataframe[\"latitude\"]) * \n",
    "                                                 np.pi/360.0)) * conversion_constant\n",
    "    \n",
    "    return pandas_dataframe"
   ]
  },
  {
   "cell_type": "markdown",
   "metadata": {},
   "source": [
    "# Common Plot Properties\n",
    "---"
   ]
  },
  {
   "cell_type": "code",
   "execution_count": null,
   "metadata": {},
   "outputs": [],
   "source": [
    "convert_lat_long_to_mercator(df_world_cities)\n",
    "data_source = ColumnDataSource(df_world_cities)\n",
    "TOOLS = \"pan,wheel_zoom,box_zoom,reset,save,box_select,lasso_select\"\n",
    "TOOLTIPS = [ (\"City_Name\", \"@city\"), (\"Continent\", \"@continent\"), (\"Population (millions)\", \"@population_million{0,0.0}\")]\n",
    "output_file(\".//world_cities_visualization.html\")\n",
    "# Setup colors for each city\n",
    "city_colors = factor_cmap('city', palette=Colorblind6, factors=df_world_cities['city'].unique()) "
   ]
  },
  {
   "cell_type": "markdown",
   "metadata": {},
   "source": [
    "# Setup Map Plot\n",
    "---"
   ]
  },
  {
   "cell_type": "code",
   "execution_count": null,
   "metadata": {},
   "outputs": [],
   "source": [
    "tile_provider = get_provider(CARTODBPOSITRON)\n",
    "mercator_extent = dict(start=-15000000, end=15000000,bounds=None)\n",
    "map_x_range= Range1d(**mercator_extent)\n",
    "map_y_range= Range1d(**mercator_extent)\n",
    "# range bounds supplied in web mercator coordinates\n",
    "map_plot = figure(title=\"City locations\", x_range=map_x_range, y_range=map_y_range, tools=TOOLS, \n",
    "                  tooltips = TOOLTIPS, x_axis_type=\"mercator\", y_axis_type=\"mercator\", \n",
    "                  plot_width = 800, plot_height = 600)\n",
    "map_plot.add_tile(tile_provider)\n",
    "map_plot.circle(\"longitude\",\"latitude\", source = data_source, color=city_colors, fill_alpha=0.75, size=8, \n",
    "                line_color='black')"
   ]
  },
  {
   "cell_type": "markdown",
   "metadata": {},
   "source": [
    "# Set up Climate Plot\n",
    "---"
   ]
  },
  {
   "cell_type": "code",
   "execution_count": null,
   "metadata": {},
   "outputs": [],
   "source": [
    "climate_plot = figure(title=\"Climate Conditions\", tools=TOOLS, tooltips = TOOLTIPS,  \n",
    "                  plot_width = 800, plot_height = 600)\n",
    "climate_plot.circle(\"avg_low_Winter_C\",\"avg_high_Summer_C\", source = data_source, color=city_colors, \n",
    "                    fill_alpha=0.75, size=8, line_color='black')\n",
    "# Setup properties of figure handle\n",
    "climate_plot.xaxis.axis_label = \"Coldest Winter Month Avg Temp (C)\"\n",
    "climate_plot.yaxis.axis_label = \"Hottest Summer Month Avg Temp (C)\""
   ]
  },
  {
   "cell_type": "markdown",
   "metadata": {},
   "source": [
    "# Set up Population Plot\n",
    "---"
   ]
  },
  {
   "cell_type": "code",
   "execution_count": null,
   "metadata": {},
   "outputs": [],
   "source": [
    "population_plot = figure(title=\"Population in millions\", tools=TOOLS, tooltips = TOOLTIPS, y_range=df_world_cities[\"city\"], \n",
    "                  plot_width = 800, plot_height = 600)\n",
    "population_plot.hbar(\"city\", left = 0, right=\"population_million\", height = .9 , source = data_source, \n",
    "                     color=city_colors, fill_alpha=0.75)\n",
    "population_plot.xaxis.axis_label = \"Population in Millions\""
   ]
  },
  {
   "cell_type": "markdown",
   "metadata": {},
   "source": [
    "# Set up Altitude Plot\n",
    "---"
   ]
  },
  {
   "cell_type": "code",
   "execution_count": null,
   "metadata": {},
   "outputs": [],
   "source": [
    "altitude_plot = figure(title=\"Highest Natural Altitude in m\", tools=TOOLS, tooltips = TOOLTIPS, \n",
    "                       x_range=df_world_cities[\"city\"], plot_width = 800, plot_height = 600)\n",
    "altitude_plot.vbar(x=\"city\", top=\"highest_altitude_m\", width=0.9, source = data_source, color=city_colors, \n",
    "                    fill_alpha=0.75)\n",
    "# Setup properties of figure handle\n",
    "altitude_plot.yaxis.axis_label = \"Highest Altitude (m)\""
   ]
  },
  {
   "cell_type": "markdown",
   "metadata": {},
   "source": [
    "# Setup Layout and Output Plot\n",
    "---"
   ]
  },
  {
   "cell_type": "code",
   "execution_count": null,
   "metadata": {},
   "outputs": [],
   "source": [
    "output_html_layout = column(row(map_plot, climate_plot),\n",
    "                     row(population_plot, altitude_plot))\n",
    "show(output_html_layout)"
   ]
  }
 ],
 "metadata": {
  "kernelspec": {
   "display_name": "Python 3",
   "language": "python",
   "name": "python3"
  },
  "language_info": {
   "codemirror_mode": {
    "name": "ipython",
    "version": 3
   },
   "file_extension": ".py",
   "mimetype": "text/x-python",
   "name": "python",
   "nbconvert_exporter": "python",
   "pygments_lexer": "ipython3",
   "version": "3.8.1"
  }
 },
 "nbformat": 4,
 "nbformat_minor": 4
}
