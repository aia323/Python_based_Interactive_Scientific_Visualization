{
 "cells": [
  {
   "cell_type": "code",
   "execution_count": null,
   "metadata": {},
   "outputs": [],
   "source": [
    "%matplotlib inline\n",
    "import numpy as np\n",
    "import pandas as pd"
   ]
  },
  {
   "cell_type": "markdown",
   "metadata": {},
   "source": [
    "---\n",
    "## Load Dataset\n",
    "---"
   ]
  },
  {
   "cell_type": "code",
   "execution_count": null,
   "metadata": {},
   "outputs": [],
   "source": [
    "dir_path = '..\\\\data\\\\'\n",
    "data_filename = 'OCM-data.csv'\n",
    "df_catalysis_dataset = pd.read_csv(dir_path+data_filename)\n",
    "df_catalysis_dataset.sample(20)"
   ]
  },
  {
   "cell_type": "markdown",
   "metadata": {},
   "source": [
    "---\n",
    "## Check dtypes\n",
    "---"
   ]
  },
  {
   "cell_type": "code",
   "execution_count": null,
   "metadata": {
    "scrolled": true
   },
   "outputs": [],
   "source": [
    "df_catalysis_dataset.dtypes"
   ]
  },
  {
   "cell_type": "code",
   "execution_count": null,
   "metadata": {},
   "outputs": [],
   "source": [
    "df_catalysis_dataset['M1_mol_percentage']"
   ]
  },
  {
   "cell_type": "markdown",
   "metadata": {},
   "source": [
    "---\n",
    "## Check basic statistics for numeric columns\n",
    "---"
   ]
  },
  {
   "cell_type": "code",
   "execution_count": null,
   "metadata": {},
   "outputs": [],
   "source": [
    "df_catalysis_dataset.describe()"
   ]
  },
  {
   "cell_type": "markdown",
   "metadata": {},
   "source": [
    "---\n",
    "## Check if there are any NaN\n",
    "---"
   ]
  },
  {
   "cell_type": "code",
   "execution_count": null,
   "metadata": {},
   "outputs": [],
   "source": [
    "df_catalysis_dataset.isna().sum()"
   ]
  },
  {
   "cell_type": "markdown",
   "metadata": {},
   "source": [
    "---\n",
    "\n",
    "\n",
    "## Requirements\n",
    "\n",
    "\n",
    "* It would be nice to look at distributions in the data (histograms scatter plots, principal components, etc.). \n",
    "\n",
    "\n",
    "* Filters could be CH4 conversion, C2y, temperature, pressure, CH4/O2 ratio, M1/M2/M3, etc., CO + CO2 selectivity, etc.). \n",
    "\n",
    "\n",
    "---"
   ]
  },
  {
   "cell_type": "markdown",
   "metadata": {},
   "source": [
    "---\n",
    "## Generate unique values of filters to setup sliders\n",
    "\n",
    "* Sliders for CH4_conv and C2y\n",
    "\n",
    "* Dropdown for Temp and CH4/O2\n",
    "\n",
    "---"
   ]
  },
  {
   "cell_type": "code",
   "execution_count": null,
   "metadata": {},
   "outputs": [],
   "source": [
    "(df_catalysis_dataset['CH4_conv']\n",
    " .sort_values()\n",
    " .unique()\n",
    ")"
   ]
  },
  {
   "cell_type": "code",
   "execution_count": null,
   "metadata": {},
   "outputs": [],
   "source": [
    "(df_catalysis_dataset['C2y']\n",
    " .sort_values()\n",
    " .unique()\n",
    ")"
   ]
  },
  {
   "cell_type": "code",
   "execution_count": null,
   "metadata": {},
   "outputs": [],
   "source": [
    "(df_catalysis_dataset['Temp']\n",
    " .sort_values()\n",
    " .unique()\n",
    ")"
   ]
  },
  {
   "cell_type": "code",
   "execution_count": null,
   "metadata": {},
   "outputs": [],
   "source": [
    "unique_ch4_to_o2 = (df_catalysis_dataset['CH4/O2']\n",
    " .sort_values()\n",
    " .astype(str)\n",
    " .unique()\n",
    ")\n",
    "sorted_unique_ch4_to_o2 = dict(zip(unique_ch4_to_o2, unique_ch4_to_o2))\n",
    "print(sorted_unique_ch4_to_o2)"
   ]
  },
  {
   "cell_type": "markdown",
   "metadata": {},
   "source": [
    "---\n",
    "## Set up Bokeh Plot\n",
    "\n",
    "\n",
    "* Utilizing [gallery example of movies](https://github.com/bokeh/bokeh/tree/branch-2.4/examples/app/movies)\n",
    "\n",
    "\n",
    "* It has filters and determination of x and y axis\n",
    "\n",
    "\n",
    "---"
   ]
  },
  {
   "cell_type": "code",
   "execution_count": null,
   "metadata": {},
   "outputs": [],
   "source": [
    "from bokeh.io import curdoc\n",
    "from bokeh.layouts import column, row\n",
    "from bokeh.models import ColumnDataSource, Div, Select, Slider, TextInput\n",
    "from bokeh.plotting import figure"
   ]
  },
  {
   "cell_type": "code",
   "execution_count": null,
   "metadata": {},
   "outputs": [],
   "source": [
    "axis_map_x = {\n",
    "    \"Ethane_y\": \"C2H6y\",\n",
    "    \"Ethylene_y\": \"C2H4y\",\n",
    "    \"CarbonDiOxide_y\": \"CO2y\",\n",
    "    \"CarbonMonoOxide_y\": \"COy\",\n",
    "    \"DiCarbon_s\": \"C2s\",\n",
    "    \"Ethane_s\": \"C2H6s\",\n",
    "    \"Ethylene_s\": \"C2H4s\",\n",
    "    \"CarbonDiOxide_s\": \"CO2s\",\n",
    "    \"CarbonMonoOxide_s\": \"COs\",\n",
    "}"
   ]
  },
  {
   "cell_type": "code",
   "execution_count": null,
   "metadata": {},
   "outputs": [],
   "source": [
    "axis_map_y = {\n",
    "    \"Ethane_y\": \"C2H6y\",\n",
    "    \"Ethylene_y\": \"C2H4y\",\n",
    "    \"CarbonDiOxide_y\": \"CO2y\",\n",
    "    \"CarbonMonoOxide_y\": \"COy\",\n",
    "    \"DiCarbon_s\": \"C2s\",\n",
    "    \"Ethane_s\": \"C2H6s\",\n",
    "    \"Ethylene_s\": \"C2H4s\",\n",
    "    \"CarbonDiOxide_s\": \"CO2s\",\n",
    "    \"CarbonMonoOxide_s\": \"COs\",\n",
    "}"
   ]
  },
  {
   "cell_type": "code",
   "execution_count": null,
   "metadata": {},
   "outputs": [],
   "source": [
    "# Create Input controls\n",
    "slider_methane_conversion = Slider(title=\"Minimum Methane conversion value\", \n",
    "                                   value=20, start=1, end=46, step=1)\n",
    "slider_C2y = Slider(title=\"Minimum value of C2y\", start=0.1, end=22.1, value=4.0, step=0.1)\n",
    "slider_temp = Slider(title=\"Minimum value of Temperature\", start=700.0, end=900.0, value=800.0, step=50.0)\n",
    "select_ch4_to_o2 = Select(title=\"CH4 to O2\", options=sorted(sorted_unique_ch4_to_o2.keys()), value=\"6\")\n",
    "select_x_axis = Select(title=\"X Axis\", options=sorted(axis_map_x.keys()), value=\"Ethane_y\")\n",
    "select_y_axis = Select(title=\"Y Axis\", options=sorted(axis_map_y.keys()), value=\"CarbonDiOxide_y\")"
   ]
  },
  {
   "cell_type": "code",
   "execution_count": null,
   "metadata": {},
   "outputs": [],
   "source": [
    "TOOLTIPS=[\n",
    "    (\"M1 Percent\", \"@M1_mol_percent\"),\n",
    "    (\"M2 Percent\", \"@M2_mol_percent\"),\n",
    "    (\"M3 Percent\", \"@M3_mol_percent\")\n",
    "]"
   ]
  },
  {
   "cell_type": "code",
   "execution_count": null,
   "metadata": {},
   "outputs": [],
   "source": [
    "# Create Column Data Source that will be used by the plot\n",
    "source = ColumnDataSource(data=dict(x=[], y=[], M1_mol_percent=[],\n",
    "                                    M2_mol_percent=[], M3_mol_percent=[]))"
   ]
  },
  {
   "cell_type": "code",
   "execution_count": null,
   "metadata": {},
   "outputs": [],
   "source": [
    "p = figure(height=600, width=700, title=\"\", toolbar_location=None, tooltips=TOOLTIPS, sizing_mode=\"scale_both\")\n",
    "p.circle(x=\"x\", y=\"y\", source=source, size=7, color='mediumblue', line_color=None, fill_alpha=0.6)"
   ]
  },
  {
   "cell_type": "code",
   "execution_count": null,
   "metadata": {},
   "outputs": [],
   "source": [
    "def select_data():\n",
    "    temp_val = slider_temp.value\n",
    "    select_ch4_to_o2_val = select_ch4_to_o2.value\n",
    "    selected = df_catalysis_dataset[\n",
    "        (df_catalysis_dataset.CH4_conv >= slider_methane_conversion.value) &\n",
    "        (df_catalysis_dataset.C2y >= slider_C2y.value) &\n",
    "        (df_catalysis_dataset.Temp == slider_temp.value) &\n",
    "        (df_catalysis_dataset['CH4/O2'] == select_ch4_to_o2.value)\n",
    "    ]\n",
    "    return selected"
   ]
  },
  {
   "cell_type": "code",
   "execution_count": null,
   "metadata": {},
   "outputs": [],
   "source": [
    "def update():\n",
    "    df = select_data()\n",
    "    x_name = axis_map_x[select_x_axis.value]\n",
    "    y_name = axis_map_y[select_y_axis.value]\n",
    "\n",
    "    p.xaxis.axis_label = select_x_axis.value\n",
    "    p.yaxis.axis_label = select_y_axis.value\n",
    "    p.title.text = 'Title TBD'\n",
    "    source.data = dict(\n",
    "        x=df[x_name],\n",
    "        y=df[y_name],\n",
    "        M1_mol_percent=df['M1_mol_percentage'],\n",
    "        M2_mol_percent=df['M2_mol_percentage'], \n",
    "        M3_mol_percent=df['M3_mol_percentage'],\n",
    "    )"
   ]
  },
  {
   "cell_type": "code",
   "execution_count": null,
   "metadata": {},
   "outputs": [],
   "source": [
    "controls = [slider_methane_conversion, slider_C2y, slider_temp, select_ch4_to_o2, select_x_axis, select_y_axis]\n",
    "for control in controls:\n",
    "    control.on_change('value', lambda attr, old, new: update())"
   ]
  },
  {
   "cell_type": "code",
   "execution_count": null,
   "metadata": {},
   "outputs": [],
   "source": [
    "inputs = column(*controls, width=320)"
   ]
  },
  {
   "cell_type": "code",
   "execution_count": null,
   "metadata": {},
   "outputs": [],
   "source": [
    "axis_map_y['CarbonDiOxide_y']"
   ]
  },
  {
   "cell_type": "code",
   "execution_count": null,
   "metadata": {},
   "outputs": [],
   "source": [
    "l = column(row(inputs, p), sizing_mode=\"scale_both\")\n",
    "\n",
    "update()  # initial load of the data\n",
    "\n",
    "curdoc().add_root(l)\n",
    "curdoc().title = \"Catalysis Data\""
   ]
  },
  {
   "cell_type": "code",
   "execution_count": null,
   "metadata": {},
   "outputs": [],
   "source": []
  }
 ],
 "metadata": {
  "kernelspec": {
   "display_name": "Python 3",
   "language": "python",
   "name": "python3"
  },
  "language_info": {
   "codemirror_mode": {
    "name": "ipython",
    "version": 3
   },
   "file_extension": ".py",
   "mimetype": "text/x-python",
   "name": "python",
   "nbconvert_exporter": "python",
   "pygments_lexer": "ipython3",
   "version": "3.8.5"
  }
 },
 "nbformat": 4,
 "nbformat_minor": 4
}
