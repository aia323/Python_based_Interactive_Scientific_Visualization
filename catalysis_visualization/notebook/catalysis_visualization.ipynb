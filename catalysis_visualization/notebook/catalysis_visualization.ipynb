{
 "cells": [
  {
   "cell_type": "code",
   "execution_count": 20,
   "metadata": {},
   "outputs": [],
   "source": [
    "%matplotlib inline\n",
    "import numpy as np\n",
    "import pandas as pd\n",
    "import seaborn as sn\n",
    "import matplotlib.pyplot as plt"
   ]
  },
  {
   "cell_type": "markdown",
   "metadata": {},
   "source": [
    "---\n",
    "## Load Dataset\n",
    "---"
   ]
  },
  {
   "cell_type": "code",
   "execution_count": 14,
   "metadata": {},
   "outputs": [
    {
     "output_type": "execute_result",
     "data": {
      "text/plain": [
       "                   M1  M1_atom_number  M2  M2_atom_number    M3  \\\n",
       "Name                                                              \n",
       "Mn-Na2WO4/BN       Mn              25  Na              11     W   \n",
       "La-Na2WO4/SiO2     La              57  Na              11     W   \n",
       "Mn-Na2WO4/Al2O3    Mn              25  Na              11     W   \n",
       "Ce-Na2WO4/SiO2     Ce              58  Na              11     W   \n",
       "Mn-Na2WO4/Al2O3    Mn              25  Na              11     W   \n",
       "Mn-Li2MoO4/SiO2    Mn              25  Li               3    Mo   \n",
       "Co-Na2WO4/SiO2     Co              27  Na              11     W   \n",
       "Eu-Na2WO4/SiO2     Eu              63  Na              11     W   \n",
       "Ti-Na2WO4/SiO2     Ti              22  Na              11     W   \n",
       "Na/SiO2          n.a.               0  Na              11  n.a.   \n",
       "Mo-Na2WO4/SiO2     Mo              42  Na              11     W   \n",
       "Nd-Na2WO4/SiO2     Nd              60  Na              11     W   \n",
       "Mn-BaWO4/SiO2      Mn              25  Ba              56     W   \n",
       "Mn-Na2WO4/ZrO2     Mn              25  Na              11     W   \n",
       "Mn-Na2MoO4/SiO2    Mn              25  Na              11    Mo   \n",
       "Mn-Na2MoO4/SiO2    Mn              25  Na              11    Mo   \n",
       "Ti-Na2WO4/SiO2     Ti              22  Na              11     W   \n",
       "Mn-Na2WO4/CeO2     Mn              25  Na              11     W   \n",
       "Co-Na2WO4/SiO2     Co              27  Na              11     W   \n",
       "Y-Na2WO4/SiO2       Y              39  Na              11     W   \n",
       "\n",
       "                 M3_atom_number Support   Support_ID  M2_mol  M3_mol  ...  \\\n",
       "Name                                                                  ...   \n",
       "Mn-Na2WO4/BN                 74       BN           4   0.370   0.185  ...   \n",
       "La-Na2WO4/SiO2               74     SiO2          11   0.370   0.185  ...   \n",
       "Mn-Na2WO4/Al2O3              74    Al2O3           2   0.370   0.185  ...   \n",
       "Ce-Na2WO4/SiO2               74     SiO2          11   0.370   0.185  ...   \n",
       "Mn-Na2WO4/Al2O3              74    Al2O3           2   0.370   0.185  ...   \n",
       "Mn-Li2MoO4/SiO2              42     SiO2          11   0.370   0.185  ...   \n",
       "Co-Na2WO4/SiO2               74     SiO2          11   0.370   0.185  ...   \n",
       "Eu-Na2WO4/SiO2               74     SiO2          11   0.370   0.185  ...   \n",
       "Ti-Na2WO4/SiO2               74     SiO2          11   0.370   0.185  ...   \n",
       "Na/SiO2                       0     SiO2          11   0.370   0.000  ...   \n",
       "Mo-Na2WO4/SiO2               74     SiO2          11   0.370   0.185  ...   \n",
       "Nd-Na2WO4/SiO2               74     SiO2          11   0.370   0.185  ...   \n",
       "Mn-BaWO4/SiO2                74     SiO2          11   0.185   0.185  ...   \n",
       "Mn-Na2WO4/ZrO2               74     ZrO2          13   0.370   0.185  ...   \n",
       "Mn-Na2MoO4/SiO2              42     SiO2          11   0.370   0.185  ...   \n",
       "Mn-Na2MoO4/SiO2              42     SiO2          11   0.370   0.185  ...   \n",
       "Ti-Na2WO4/SiO2               74     SiO2          11   0.370   0.185  ...   \n",
       "Mn-Na2WO4/CeO2               74     CeO2           5   0.370   0.185  ...   \n",
       "Co-Na2WO4/SiO2               74     SiO2          11   0.370   0.185  ...   \n",
       "Y-Na2WO4/SiO2                74     SiO2          11   0.370   0.185  ...   \n",
       "\n",
       "                   C2y  C2H6y  C2H4y    COy  CO2y    C2s  C2H6s  C2H4s    COs  \\\n",
       "Name                                                                            \n",
       "Mn-Na2WO4/BN      4.93   0.62   4.31  30.15  5.65  12.63   1.59  11.05  77.27   \n",
       "La-Na2WO4/SiO2   11.90   3.92   7.98  10.53  7.07  42.06  13.86  28.21  37.22   \n",
       "Mn-Na2WO4/Al2O3   4.13   0.39   3.74   7.57  4.67  49.76   4.70  45.06  91.20   \n",
       "Ce-Na2WO4/SiO2    7.24   0.86   6.38  11.48  2.88  44.09   5.24  38.86  69.91   \n",
       "Mn-Na2WO4/Al2O3   1.38   0.94   0.44   2.28  2.78  22.66  15.44   7.22  37.44   \n",
       "Mn-Li2MoO4/SiO2   4.34   1.70   2.64  17.43  8.81  14.17   5.55   8.62  56.90   \n",
       "Co-Na2WO4/SiO2    5.80   0.61   5.19  25.09  9.22  16.14   1.70  14.44  69.83   \n",
       "Eu-Na2WO4/SiO2    5.86   0.67   5.19  25.79  8.17  16.64   1.90  14.74  73.23   \n",
       "Ti-Na2WO4/SiO2    6.64   0.71   5.93  14.55  5.43  30.73   3.29  27.44  67.33   \n",
       "Na/SiO2           6.98   1.91   5.07   7.24  3.40  46.56  12.74  33.82  48.30   \n",
       "Mo-Na2WO4/SiO2    0.77   0.72   0.05   1.31  0.50  26.37  24.66   1.71  44.86   \n",
       "Nd-Na2WO4/SiO2   11.84   3.95   7.89   8.68  4.01  53.09  17.71  35.38  38.92   \n",
       "Mn-BaWO4/SiO2     3.41   0.82   2.59  25.66  4.78   9.68   2.33   7.35  72.81   \n",
       "Mn-Na2WO4/ZrO2    4.31   0.38   3.93   9.08  2.55  35.62   3.14  32.48  75.04   \n",
       "Mn-Na2MoO4/SiO2   6.58   2.79   3.79   6.21  5.64  35.80  15.18  20.62  33.79   \n",
       "Mn-Na2MoO4/SiO2   6.19   0.56   5.63  16.13  3.01  32.19   2.91  29.28  83.88   \n",
       "Ti-Na2WO4/SiO2   13.23   4.27   8.96   2.40  2.41  70.94  22.90  48.04  12.87   \n",
       "Mn-Na2WO4/CeO2    0.98   0.86   0.12   0.10  1.07  23.67  20.77   2.90   2.42   \n",
       "Co-Na2WO4/SiO2    2.16   1.52   0.64   0.47  0.90  56.25  39.58  16.67  12.24   \n",
       "Y-Na2WO4/SiO2     1.25   0.79   0.46  17.72  8.16   3.76   2.37   1.38  53.26   \n",
       "\n",
       "                  CO2s  \n",
       "Name                    \n",
       "Mn-Na2WO4/BN     14.48  \n",
       "La-Na2WO4/SiO2   24.99  \n",
       "Mn-Na2WO4/Al2O3  56.27  \n",
       "Ce-Na2WO4/SiO2   17.54  \n",
       "Mn-Na2WO4/Al2O3  45.65  \n",
       "Mn-Li2MoO4/SiO2  28.76  \n",
       "Co-Na2WO4/SiO2   25.66  \n",
       "Eu-Na2WO4/SiO2   23.20  \n",
       "Ti-Na2WO4/SiO2   25.13  \n",
       "Na/SiO2          22.68  \n",
       "Mo-Na2WO4/SiO2   17.12  \n",
       "Nd-Na2WO4/SiO2   17.98  \n",
       "Mn-BaWO4/SiO2    13.56  \n",
       "Mn-Na2WO4/ZrO2   21.07  \n",
       "Mn-Na2MoO4/SiO2  30.69  \n",
       "Mn-Na2MoO4/SiO2  15.65  \n",
       "Ti-Na2WO4/SiO2   12.92  \n",
       "Mn-Na2WO4/CeO2   25.85  \n",
       "Co-Na2WO4/SiO2   23.44  \n",
       "Y-Na2WO4/SiO2    24.53  \n",
       "\n",
       "[20 rows x 31 columns]"
      ],
      "text/html": "<div>\n<style scoped>\n    .dataframe tbody tr th:only-of-type {\n        vertical-align: middle;\n    }\n\n    .dataframe tbody tr th {\n        vertical-align: top;\n    }\n\n    .dataframe thead th {\n        text-align: right;\n    }\n</style>\n<table border=\"1\" class=\"dataframe\">\n  <thead>\n    <tr style=\"text-align: right;\">\n      <th></th>\n      <th>M1</th>\n      <th>M1_atom_number</th>\n      <th>M2</th>\n      <th>M2_atom_number</th>\n      <th>M3</th>\n      <th>M3_atom_number</th>\n      <th>Support</th>\n      <th>Support_ID</th>\n      <th>M2_mol</th>\n      <th>M3_mol</th>\n      <th>...</th>\n      <th>C2y</th>\n      <th>C2H6y</th>\n      <th>C2H4y</th>\n      <th>COy</th>\n      <th>CO2y</th>\n      <th>C2s</th>\n      <th>C2H6s</th>\n      <th>C2H4s</th>\n      <th>COs</th>\n      <th>CO2s</th>\n    </tr>\n    <tr>\n      <th>Name</th>\n      <th></th>\n      <th></th>\n      <th></th>\n      <th></th>\n      <th></th>\n      <th></th>\n      <th></th>\n      <th></th>\n      <th></th>\n      <th></th>\n      <th></th>\n      <th></th>\n      <th></th>\n      <th></th>\n      <th></th>\n      <th></th>\n      <th></th>\n      <th></th>\n      <th></th>\n      <th></th>\n      <th></th>\n    </tr>\n  </thead>\n  <tbody>\n    <tr>\n      <th>Mn-Na2WO4/BN</th>\n      <td>Mn</td>\n      <td>25</td>\n      <td>Na</td>\n      <td>11</td>\n      <td>W</td>\n      <td>74</td>\n      <td>BN</td>\n      <td>4</td>\n      <td>0.370</td>\n      <td>0.185</td>\n      <td>...</td>\n      <td>4.93</td>\n      <td>0.62</td>\n      <td>4.31</td>\n      <td>30.15</td>\n      <td>5.65</td>\n      <td>12.63</td>\n      <td>1.59</td>\n      <td>11.05</td>\n      <td>77.27</td>\n      <td>14.48</td>\n    </tr>\n    <tr>\n      <th>La-Na2WO4/SiO2</th>\n      <td>La</td>\n      <td>57</td>\n      <td>Na</td>\n      <td>11</td>\n      <td>W</td>\n      <td>74</td>\n      <td>SiO2</td>\n      <td>11</td>\n      <td>0.370</td>\n      <td>0.185</td>\n      <td>...</td>\n      <td>11.90</td>\n      <td>3.92</td>\n      <td>7.98</td>\n      <td>10.53</td>\n      <td>7.07</td>\n      <td>42.06</td>\n      <td>13.86</td>\n      <td>28.21</td>\n      <td>37.22</td>\n      <td>24.99</td>\n    </tr>\n    <tr>\n      <th>Mn-Na2WO4/Al2O3</th>\n      <td>Mn</td>\n      <td>25</td>\n      <td>Na</td>\n      <td>11</td>\n      <td>W</td>\n      <td>74</td>\n      <td>Al2O3</td>\n      <td>2</td>\n      <td>0.370</td>\n      <td>0.185</td>\n      <td>...</td>\n      <td>4.13</td>\n      <td>0.39</td>\n      <td>3.74</td>\n      <td>7.57</td>\n      <td>4.67</td>\n      <td>49.76</td>\n      <td>4.70</td>\n      <td>45.06</td>\n      <td>91.20</td>\n      <td>56.27</td>\n    </tr>\n    <tr>\n      <th>Ce-Na2WO4/SiO2</th>\n      <td>Ce</td>\n      <td>58</td>\n      <td>Na</td>\n      <td>11</td>\n      <td>W</td>\n      <td>74</td>\n      <td>SiO2</td>\n      <td>11</td>\n      <td>0.370</td>\n      <td>0.185</td>\n      <td>...</td>\n      <td>7.24</td>\n      <td>0.86</td>\n      <td>6.38</td>\n      <td>11.48</td>\n      <td>2.88</td>\n      <td>44.09</td>\n      <td>5.24</td>\n      <td>38.86</td>\n      <td>69.91</td>\n      <td>17.54</td>\n    </tr>\n    <tr>\n      <th>Mn-Na2WO4/Al2O3</th>\n      <td>Mn</td>\n      <td>25</td>\n      <td>Na</td>\n      <td>11</td>\n      <td>W</td>\n      <td>74</td>\n      <td>Al2O3</td>\n      <td>2</td>\n      <td>0.370</td>\n      <td>0.185</td>\n      <td>...</td>\n      <td>1.38</td>\n      <td>0.94</td>\n      <td>0.44</td>\n      <td>2.28</td>\n      <td>2.78</td>\n      <td>22.66</td>\n      <td>15.44</td>\n      <td>7.22</td>\n      <td>37.44</td>\n      <td>45.65</td>\n    </tr>\n    <tr>\n      <th>Mn-Li2MoO4/SiO2</th>\n      <td>Mn</td>\n      <td>25</td>\n      <td>Li</td>\n      <td>3</td>\n      <td>Mo</td>\n      <td>42</td>\n      <td>SiO2</td>\n      <td>11</td>\n      <td>0.370</td>\n      <td>0.185</td>\n      <td>...</td>\n      <td>4.34</td>\n      <td>1.70</td>\n      <td>2.64</td>\n      <td>17.43</td>\n      <td>8.81</td>\n      <td>14.17</td>\n      <td>5.55</td>\n      <td>8.62</td>\n      <td>56.90</td>\n      <td>28.76</td>\n    </tr>\n    <tr>\n      <th>Co-Na2WO4/SiO2</th>\n      <td>Co</td>\n      <td>27</td>\n      <td>Na</td>\n      <td>11</td>\n      <td>W</td>\n      <td>74</td>\n      <td>SiO2</td>\n      <td>11</td>\n      <td>0.370</td>\n      <td>0.185</td>\n      <td>...</td>\n      <td>5.80</td>\n      <td>0.61</td>\n      <td>5.19</td>\n      <td>25.09</td>\n      <td>9.22</td>\n      <td>16.14</td>\n      <td>1.70</td>\n      <td>14.44</td>\n      <td>69.83</td>\n      <td>25.66</td>\n    </tr>\n    <tr>\n      <th>Eu-Na2WO4/SiO2</th>\n      <td>Eu</td>\n      <td>63</td>\n      <td>Na</td>\n      <td>11</td>\n      <td>W</td>\n      <td>74</td>\n      <td>SiO2</td>\n      <td>11</td>\n      <td>0.370</td>\n      <td>0.185</td>\n      <td>...</td>\n      <td>5.86</td>\n      <td>0.67</td>\n      <td>5.19</td>\n      <td>25.79</td>\n      <td>8.17</td>\n      <td>16.64</td>\n      <td>1.90</td>\n      <td>14.74</td>\n      <td>73.23</td>\n      <td>23.20</td>\n    </tr>\n    <tr>\n      <th>Ti-Na2WO4/SiO2</th>\n      <td>Ti</td>\n      <td>22</td>\n      <td>Na</td>\n      <td>11</td>\n      <td>W</td>\n      <td>74</td>\n      <td>SiO2</td>\n      <td>11</td>\n      <td>0.370</td>\n      <td>0.185</td>\n      <td>...</td>\n      <td>6.64</td>\n      <td>0.71</td>\n      <td>5.93</td>\n      <td>14.55</td>\n      <td>5.43</td>\n      <td>30.73</td>\n      <td>3.29</td>\n      <td>27.44</td>\n      <td>67.33</td>\n      <td>25.13</td>\n    </tr>\n    <tr>\n      <th>Na/SiO2</th>\n      <td>n.a.</td>\n      <td>0</td>\n      <td>Na</td>\n      <td>11</td>\n      <td>n.a.</td>\n      <td>0</td>\n      <td>SiO2</td>\n      <td>11</td>\n      <td>0.370</td>\n      <td>0.000</td>\n      <td>...</td>\n      <td>6.98</td>\n      <td>1.91</td>\n      <td>5.07</td>\n      <td>7.24</td>\n      <td>3.40</td>\n      <td>46.56</td>\n      <td>12.74</td>\n      <td>33.82</td>\n      <td>48.30</td>\n      <td>22.68</td>\n    </tr>\n    <tr>\n      <th>Mo-Na2WO4/SiO2</th>\n      <td>Mo</td>\n      <td>42</td>\n      <td>Na</td>\n      <td>11</td>\n      <td>W</td>\n      <td>74</td>\n      <td>SiO2</td>\n      <td>11</td>\n      <td>0.370</td>\n      <td>0.185</td>\n      <td>...</td>\n      <td>0.77</td>\n      <td>0.72</td>\n      <td>0.05</td>\n      <td>1.31</td>\n      <td>0.50</td>\n      <td>26.37</td>\n      <td>24.66</td>\n      <td>1.71</td>\n      <td>44.86</td>\n      <td>17.12</td>\n    </tr>\n    <tr>\n      <th>Nd-Na2WO4/SiO2</th>\n      <td>Nd</td>\n      <td>60</td>\n      <td>Na</td>\n      <td>11</td>\n      <td>W</td>\n      <td>74</td>\n      <td>SiO2</td>\n      <td>11</td>\n      <td>0.370</td>\n      <td>0.185</td>\n      <td>...</td>\n      <td>11.84</td>\n      <td>3.95</td>\n      <td>7.89</td>\n      <td>8.68</td>\n      <td>4.01</td>\n      <td>53.09</td>\n      <td>17.71</td>\n      <td>35.38</td>\n      <td>38.92</td>\n      <td>17.98</td>\n    </tr>\n    <tr>\n      <th>Mn-BaWO4/SiO2</th>\n      <td>Mn</td>\n      <td>25</td>\n      <td>Ba</td>\n      <td>56</td>\n      <td>W</td>\n      <td>74</td>\n      <td>SiO2</td>\n      <td>11</td>\n      <td>0.185</td>\n      <td>0.185</td>\n      <td>...</td>\n      <td>3.41</td>\n      <td>0.82</td>\n      <td>2.59</td>\n      <td>25.66</td>\n      <td>4.78</td>\n      <td>9.68</td>\n      <td>2.33</td>\n      <td>7.35</td>\n      <td>72.81</td>\n      <td>13.56</td>\n    </tr>\n    <tr>\n      <th>Mn-Na2WO4/ZrO2</th>\n      <td>Mn</td>\n      <td>25</td>\n      <td>Na</td>\n      <td>11</td>\n      <td>W</td>\n      <td>74</td>\n      <td>ZrO2</td>\n      <td>13</td>\n      <td>0.370</td>\n      <td>0.185</td>\n      <td>...</td>\n      <td>4.31</td>\n      <td>0.38</td>\n      <td>3.93</td>\n      <td>9.08</td>\n      <td>2.55</td>\n      <td>35.62</td>\n      <td>3.14</td>\n      <td>32.48</td>\n      <td>75.04</td>\n      <td>21.07</td>\n    </tr>\n    <tr>\n      <th>Mn-Na2MoO4/SiO2</th>\n      <td>Mn</td>\n      <td>25</td>\n      <td>Na</td>\n      <td>11</td>\n      <td>Mo</td>\n      <td>42</td>\n      <td>SiO2</td>\n      <td>11</td>\n      <td>0.370</td>\n      <td>0.185</td>\n      <td>...</td>\n      <td>6.58</td>\n      <td>2.79</td>\n      <td>3.79</td>\n      <td>6.21</td>\n      <td>5.64</td>\n      <td>35.80</td>\n      <td>15.18</td>\n      <td>20.62</td>\n      <td>33.79</td>\n      <td>30.69</td>\n    </tr>\n    <tr>\n      <th>Mn-Na2MoO4/SiO2</th>\n      <td>Mn</td>\n      <td>25</td>\n      <td>Na</td>\n      <td>11</td>\n      <td>Mo</td>\n      <td>42</td>\n      <td>SiO2</td>\n      <td>11</td>\n      <td>0.370</td>\n      <td>0.185</td>\n      <td>...</td>\n      <td>6.19</td>\n      <td>0.56</td>\n      <td>5.63</td>\n      <td>16.13</td>\n      <td>3.01</td>\n      <td>32.19</td>\n      <td>2.91</td>\n      <td>29.28</td>\n      <td>83.88</td>\n      <td>15.65</td>\n    </tr>\n    <tr>\n      <th>Ti-Na2WO4/SiO2</th>\n      <td>Ti</td>\n      <td>22</td>\n      <td>Na</td>\n      <td>11</td>\n      <td>W</td>\n      <td>74</td>\n      <td>SiO2</td>\n      <td>11</td>\n      <td>0.370</td>\n      <td>0.185</td>\n      <td>...</td>\n      <td>13.23</td>\n      <td>4.27</td>\n      <td>8.96</td>\n      <td>2.40</td>\n      <td>2.41</td>\n      <td>70.94</td>\n      <td>22.90</td>\n      <td>48.04</td>\n      <td>12.87</td>\n      <td>12.92</td>\n    </tr>\n    <tr>\n      <th>Mn-Na2WO4/CeO2</th>\n      <td>Mn</td>\n      <td>25</td>\n      <td>Na</td>\n      <td>11</td>\n      <td>W</td>\n      <td>74</td>\n      <td>CeO2</td>\n      <td>5</td>\n      <td>0.370</td>\n      <td>0.185</td>\n      <td>...</td>\n      <td>0.98</td>\n      <td>0.86</td>\n      <td>0.12</td>\n      <td>0.10</td>\n      <td>1.07</td>\n      <td>23.67</td>\n      <td>20.77</td>\n      <td>2.90</td>\n      <td>2.42</td>\n      <td>25.85</td>\n    </tr>\n    <tr>\n      <th>Co-Na2WO4/SiO2</th>\n      <td>Co</td>\n      <td>27</td>\n      <td>Na</td>\n      <td>11</td>\n      <td>W</td>\n      <td>74</td>\n      <td>SiO2</td>\n      <td>11</td>\n      <td>0.370</td>\n      <td>0.185</td>\n      <td>...</td>\n      <td>2.16</td>\n      <td>1.52</td>\n      <td>0.64</td>\n      <td>0.47</td>\n      <td>0.90</td>\n      <td>56.25</td>\n      <td>39.58</td>\n      <td>16.67</td>\n      <td>12.24</td>\n      <td>23.44</td>\n    </tr>\n    <tr>\n      <th>Y-Na2WO4/SiO2</th>\n      <td>Y</td>\n      <td>39</td>\n      <td>Na</td>\n      <td>11</td>\n      <td>W</td>\n      <td>74</td>\n      <td>SiO2</td>\n      <td>11</td>\n      <td>0.370</td>\n      <td>0.185</td>\n      <td>...</td>\n      <td>1.25</td>\n      <td>0.79</td>\n      <td>0.46</td>\n      <td>17.72</td>\n      <td>8.16</td>\n      <td>3.76</td>\n      <td>2.37</td>\n      <td>1.38</td>\n      <td>53.26</td>\n      <td>24.53</td>\n    </tr>\n  </tbody>\n</table>\n<p>20 rows × 31 columns</p>\n</div>"
     },
     "metadata": {},
     "execution_count": 14
    }
   ],
   "source": [
    "df_catalysis_dataset = pd.read_csv(\"../data/OCM-data.csv\", index_col=0, header=0)\n",
    "df_catalysis_dataset.sample(20)"
   ]
  },
  {
   "cell_type": "markdown",
   "metadata": {},
   "source": [
    "---\n",
    "## Check dtypes\n",
    "---"
   ]
  },
  {
   "cell_type": "code",
   "execution_count": 16,
   "metadata": {
    "scrolled": true
   },
   "outputs": [
    {
     "output_type": "execute_result",
     "data": {
      "text/plain": [
       "M1                    object\n",
       "M1_atom_number         int64\n",
       "M2                    object\n",
       "M2_atom_number         int64\n",
       "M3                    object\n",
       "M3_atom_number         int64\n",
       "Support               object\n",
       "Support_ID             int64\n",
       "M2_mol               float64\n",
       "M3_mol               float64\n",
       "M1_mol_percentage      int64\n",
       "M2_mol_percentage      int64\n",
       "M3_mol_percentage      int64\n",
       "Temp                   int64\n",
       "Total_flow             int64\n",
       "Ar_flow              float64\n",
       "CH4_flow             float64\n",
       "O2_flow              float64\n",
       "CT                   float64\n",
       "CH4/O2                 int64\n",
       "CH4_conv             float64\n",
       "C2y                  float64\n",
       "C2H6y                float64\n",
       "C2H4y                float64\n",
       "COy                  float64\n",
       "CO2y                 float64\n",
       "C2s                  float64\n",
       "C2H6s                float64\n",
       "C2H4s                float64\n",
       "COs                  float64\n",
       "CO2s                 float64\n",
       "dtype: object"
      ]
     },
     "metadata": {},
     "execution_count": 16
    }
   ],
   "source": [
    "df_catalysis_dataset.dtypes"
   ]
  },
  {
   "cell_type": "code",
   "execution_count": 17,
   "metadata": {},
   "outputs": [
    {
     "output_type": "stream",
     "name": "stdout",
     "text": [
      "              M1_atom_number  M2_atom_number  M3_atom_number\nName                                                        \nMn-Na2WO4/BN              25              11              74\nMn-Na2WO4/BN              25              11              74\nMn-Na2WO4/BN              25              11              74\nMn-Na2WO4/BN              25              11              74\nMn-Na2WO4/BN              25              11              74\n...                      ...             ...             ...\nNa/SiO2                    0              11               0\nNa/SiO2                    0              11               0\nNa/SiO2                    0              11               0\nNa/SiO2                    0              11               0\nNa/SiO2                    0              11               0\n\n[12708 rows x 3 columns]\n"
     ]
    }
   ],
   "source": [
    "df = pd.DataFrame(df_catalysis_dataset, columns=[\"M1_atom_number\", \"M2_atom_number\", \"M3_atom_number\"])\n",
    "print(df)"
   ]
  },
  {
   "cell_type": "code",
   "execution_count": 18,
   "metadata": {},
   "outputs": [
    {
     "output_type": "stream",
     "name": "stdout",
     "text": [
      "                M1_atom_number  M2_atom_number  M3_atom_number\nM1_atom_number        1.000000        0.360273        0.692262\nM2_atom_number        0.360273        1.000000        0.470906\nM3_atom_number        0.692262        0.470906        1.000000\n"
     ]
    }
   ],
   "source": [
    "corrMatrix = df.corr()\n",
    "print(corrMatrix)"
   ]
  },
  {
   "cell_type": "code",
   "execution_count": 22,
   "metadata": {},
   "outputs": [
    {
     "output_type": "display_data",
     "data": {
      "text/plain": "<Figure size 432x288 with 2 Axes>",
      "image/svg+xml": "<?xml version=\"1.0\" encoding=\"utf-8\" standalone=\"no\"?>\n<!DOCTYPE svg PUBLIC \"-//W3C//DTD SVG 1.1//EN\"\n  \"http://www.w3.org/Graphics/SVG/1.1/DTD/svg11.dtd\">\n<!-- Created with matplotlib (https://matplotlib.org/) -->\n<svg height=\"332.565781pt\" version=\"1.1\" viewBox=\"0 0 429.681687 332.565781\" width=\"429.681687pt\" xmlns=\"http://www.w3.org/2000/svg\" xmlns:xlink=\"http://www.w3.org/1999/xlink\">\n <metadata>\n  <rdf:RDF xmlns:cc=\"http://creativecommons.org/ns#\" xmlns:dc=\"http://purl.org/dc/elements/1.1/\" xmlns:rdf=\"http://www.w3.org/1999/02/22-rdf-syntax-ns#\">\n   <cc:Work>\n    <dc:type rdf:resource=\"http://purl.org/dc/dcmitype/StillImage\"/>\n    <dc:date>2021-06-18T16:01:26.823172</dc:date>\n    <dc:format>image/svg+xml</dc:format>\n    <dc:creator>\n     <cc:Agent>\n      <dc:title>Matplotlib v3.3.4, https://matplotlib.org/</dc:title>\n     </cc:Agent>\n    </dc:creator>\n   </cc:Work>\n  </rdf:RDF>\n </metadata>\n <defs>\n  <style type=\"text/css\">*{stroke-linecap:butt;stroke-linejoin:round;}</style>\n </defs>\n <g id=\"figure_1\">\n  <g id=\"patch_1\">\n   <path d=\"M 0 332.565781 \nL 429.681687 332.565781 \nL 429.681687 0 \nL 0 0 \nz\n\" style=\"fill:none;\"/>\n  </g>\n  <g id=\"axes_1\">\n   <g id=\"patch_2\">\n    <path d=\"M 104.126562 228.439219 \nL 371.966563 228.439219 \nL 371.966563 10.999219 \nL 104.126562 10.999219 \nz\n\" style=\"fill:#ffffff;\"/>\n   </g>\n   <g id=\"QuadMesh_1\">\n    <path clip-path=\"url(#paa82ab6685)\" d=\"M 104.126562 10.999219 \nL 193.406563 10.999219 \nL 193.406563 83.479219 \nL 104.126562 83.479219 \nL 104.126562 10.999219 \n\" style=\"fill:#faebdd;\"/>\n    <path clip-path=\"url(#paa82ab6685)\" d=\"M 193.406563 10.999219 \nL 282.686562 10.999219 \nL 282.686562 83.479219 \nL 193.406563 83.479219 \nL 193.406563 10.999219 \n\" style=\"fill:#03051a;\"/>\n    <path clip-path=\"url(#paa82ab6685)\" d=\"M 282.686562 10.999219 \nL 371.966563 10.999219 \nL 371.966563 83.479219 \nL 282.686562 83.479219 \nL 282.686562 10.999219 \n\" style=\"fill:#d11f4c;\"/>\n    <path clip-path=\"url(#paa82ab6685)\" d=\"M 104.126562 83.479219 \nL 193.406563 83.479219 \nL 193.406563 155.959219 \nL 104.126562 155.959219 \nL 104.126562 83.479219 \n\" style=\"fill:#03051a;\"/>\n    <path clip-path=\"url(#paa82ab6685)\" d=\"M 193.406563 83.479219 \nL 282.686562 83.479219 \nL 282.686562 155.959219 \nL 193.406563 155.959219 \nL 193.406563 83.479219 \n\" style=\"fill:#faebdd;\"/>\n    <path clip-path=\"url(#paa82ab6685)\" d=\"M 282.686562 83.479219 \nL 371.966563 83.479219 \nL 371.966563 155.959219 \nL 282.686562 155.959219 \nL 282.686562 83.479219 \n\" style=\"fill:#421b45;\"/>\n    <path clip-path=\"url(#paa82ab6685)\" d=\"M 104.126562 155.959219 \nL 193.406563 155.959219 \nL 193.406563 228.439219 \nL 104.126562 228.439219 \nL 104.126562 155.959219 \n\" style=\"fill:#d11f4c;\"/>\n    <path clip-path=\"url(#paa82ab6685)\" d=\"M 193.406563 155.959219 \nL 282.686562 155.959219 \nL 282.686562 228.439219 \nL 193.406563 228.439219 \nL 193.406563 155.959219 \n\" style=\"fill:#421b45;\"/>\n    <path clip-path=\"url(#paa82ab6685)\" d=\"M 282.686562 155.959219 \nL 371.966563 155.959219 \nL 371.966563 228.439219 \nL 282.686562 228.439219 \nL 282.686562 155.959219 \n\" style=\"fill:#faebdd;\"/>\n   </g>\n   <g id=\"matplotlib.axis_1\">\n    <g id=\"xtick_1\">\n     <g id=\"line2d_1\">\n      <defs>\n       <path d=\"M 0 0 \nL 0 3.5 \n\" id=\"m2bf496916d\" style=\"stroke:#000000;stroke-width:0.8;\"/>\n      </defs>\n      <g>\n       <use style=\"stroke:#000000;stroke-width:0.8;\" x=\"148.766562\" xlink:href=\"#m2bf496916d\" y=\"228.439219\"/>\n      </g>\n     </g>\n     <g id=\"text_1\">\n      <!-- M1_atom_number -->\n      <g transform=\"translate(151.386875 325.365781)rotate(-90)scale(0.1 -0.1)\">\n       <defs>\n        <path d=\"M 9.8125 72.90625 \nL 24.515625 72.90625 \nL 43.109375 23.296875 \nL 61.8125 72.90625 \nL 76.515625 72.90625 \nL 76.515625 0 \nL 66.890625 0 \nL 66.890625 64.015625 \nL 48.09375 14.015625 \nL 38.1875 14.015625 \nL 19.390625 64.015625 \nL 19.390625 0 \nL 9.8125 0 \nz\n\" id=\"DejaVuSans-77\"/>\n        <path d=\"M 12.40625 8.296875 \nL 28.515625 8.296875 \nL 28.515625 63.921875 \nL 10.984375 60.40625 \nL 10.984375 69.390625 \nL 28.421875 72.90625 \nL 38.28125 72.90625 \nL 38.28125 8.296875 \nL 54.390625 8.296875 \nL 54.390625 0 \nL 12.40625 0 \nz\n\" id=\"DejaVuSans-49\"/>\n        <path d=\"M 50.984375 -16.609375 \nL 50.984375 -23.578125 \nL -0.984375 -23.578125 \nL -0.984375 -16.609375 \nz\n\" id=\"DejaVuSans-95\"/>\n        <path d=\"M 34.28125 27.484375 \nQ 23.390625 27.484375 19.1875 25 \nQ 14.984375 22.515625 14.984375 16.5 \nQ 14.984375 11.71875 18.140625 8.90625 \nQ 21.296875 6.109375 26.703125 6.109375 \nQ 34.1875 6.109375 38.703125 11.40625 \nQ 43.21875 16.703125 43.21875 25.484375 \nL 43.21875 27.484375 \nz\nM 52.203125 31.203125 \nL 52.203125 0 \nL 43.21875 0 \nL 43.21875 8.296875 \nQ 40.140625 3.328125 35.546875 0.953125 \nQ 30.953125 -1.421875 24.3125 -1.421875 \nQ 15.921875 -1.421875 10.953125 3.296875 \nQ 6 8.015625 6 15.921875 \nQ 6 25.140625 12.171875 29.828125 \nQ 18.359375 34.515625 30.609375 34.515625 \nL 43.21875 34.515625 \nL 43.21875 35.40625 \nQ 43.21875 41.609375 39.140625 45 \nQ 35.0625 48.390625 27.6875 48.390625 \nQ 23 48.390625 18.546875 47.265625 \nQ 14.109375 46.140625 10.015625 43.890625 \nL 10.015625 52.203125 \nQ 14.9375 54.109375 19.578125 55.046875 \nQ 24.21875 56 28.609375 56 \nQ 40.484375 56 46.34375 49.84375 \nQ 52.203125 43.703125 52.203125 31.203125 \nz\n\" id=\"DejaVuSans-97\"/>\n        <path d=\"M 18.3125 70.21875 \nL 18.3125 54.6875 \nL 36.8125 54.6875 \nL 36.8125 47.703125 \nL 18.3125 47.703125 \nL 18.3125 18.015625 \nQ 18.3125 11.328125 20.140625 9.421875 \nQ 21.96875 7.515625 27.59375 7.515625 \nL 36.8125 7.515625 \nL 36.8125 0 \nL 27.59375 0 \nQ 17.1875 0 13.234375 3.875 \nQ 9.28125 7.765625 9.28125 18.015625 \nL 9.28125 47.703125 \nL 2.6875 47.703125 \nL 2.6875 54.6875 \nL 9.28125 54.6875 \nL 9.28125 70.21875 \nz\n\" id=\"DejaVuSans-116\"/>\n        <path d=\"M 30.609375 48.390625 \nQ 23.390625 48.390625 19.1875 42.75 \nQ 14.984375 37.109375 14.984375 27.296875 \nQ 14.984375 17.484375 19.15625 11.84375 \nQ 23.34375 6.203125 30.609375 6.203125 \nQ 37.796875 6.203125 41.984375 11.859375 \nQ 46.1875 17.53125 46.1875 27.296875 \nQ 46.1875 37.015625 41.984375 42.703125 \nQ 37.796875 48.390625 30.609375 48.390625 \nz\nM 30.609375 56 \nQ 42.328125 56 49.015625 48.375 \nQ 55.71875 40.765625 55.71875 27.296875 \nQ 55.71875 13.875 49.015625 6.21875 \nQ 42.328125 -1.421875 30.609375 -1.421875 \nQ 18.84375 -1.421875 12.171875 6.21875 \nQ 5.515625 13.875 5.515625 27.296875 \nQ 5.515625 40.765625 12.171875 48.375 \nQ 18.84375 56 30.609375 56 \nz\n\" id=\"DejaVuSans-111\"/>\n        <path d=\"M 52 44.1875 \nQ 55.375 50.25 60.0625 53.125 \nQ 64.75 56 71.09375 56 \nQ 79.640625 56 84.28125 50.015625 \nQ 88.921875 44.046875 88.921875 33.015625 \nL 88.921875 0 \nL 79.890625 0 \nL 79.890625 32.71875 \nQ 79.890625 40.578125 77.09375 44.375 \nQ 74.3125 48.1875 68.609375 48.1875 \nQ 61.625 48.1875 57.5625 43.546875 \nQ 53.515625 38.921875 53.515625 30.90625 \nL 53.515625 0 \nL 44.484375 0 \nL 44.484375 32.71875 \nQ 44.484375 40.625 41.703125 44.40625 \nQ 38.921875 48.1875 33.109375 48.1875 \nQ 26.21875 48.1875 22.15625 43.53125 \nQ 18.109375 38.875 18.109375 30.90625 \nL 18.109375 0 \nL 9.078125 0 \nL 9.078125 54.6875 \nL 18.109375 54.6875 \nL 18.109375 46.1875 \nQ 21.1875 51.21875 25.484375 53.609375 \nQ 29.78125 56 35.6875 56 \nQ 41.65625 56 45.828125 52.96875 \nQ 50 49.953125 52 44.1875 \nz\n\" id=\"DejaVuSans-109\"/>\n        <path d=\"M 54.890625 33.015625 \nL 54.890625 0 \nL 45.90625 0 \nL 45.90625 32.71875 \nQ 45.90625 40.484375 42.875 44.328125 \nQ 39.84375 48.1875 33.796875 48.1875 \nQ 26.515625 48.1875 22.3125 43.546875 \nQ 18.109375 38.921875 18.109375 30.90625 \nL 18.109375 0 \nL 9.078125 0 \nL 9.078125 54.6875 \nL 18.109375 54.6875 \nL 18.109375 46.1875 \nQ 21.34375 51.125 25.703125 53.5625 \nQ 30.078125 56 35.796875 56 \nQ 45.21875 56 50.046875 50.171875 \nQ 54.890625 44.34375 54.890625 33.015625 \nz\n\" id=\"DejaVuSans-110\"/>\n        <path d=\"M 8.5 21.578125 \nL 8.5 54.6875 \nL 17.484375 54.6875 \nL 17.484375 21.921875 \nQ 17.484375 14.15625 20.5 10.265625 \nQ 23.53125 6.390625 29.59375 6.390625 \nQ 36.859375 6.390625 41.078125 11.03125 \nQ 45.3125 15.671875 45.3125 23.6875 \nL 45.3125 54.6875 \nL 54.296875 54.6875 \nL 54.296875 0 \nL 45.3125 0 \nL 45.3125 8.40625 \nQ 42.046875 3.421875 37.71875 1 \nQ 33.40625 -1.421875 27.6875 -1.421875 \nQ 18.265625 -1.421875 13.375 4.4375 \nQ 8.5 10.296875 8.5 21.578125 \nz\nM 31.109375 56 \nz\n\" id=\"DejaVuSans-117\"/>\n        <path d=\"M 48.6875 27.296875 \nQ 48.6875 37.203125 44.609375 42.84375 \nQ 40.53125 48.484375 33.40625 48.484375 \nQ 26.265625 48.484375 22.1875 42.84375 \nQ 18.109375 37.203125 18.109375 27.296875 \nQ 18.109375 17.390625 22.1875 11.75 \nQ 26.265625 6.109375 33.40625 6.109375 \nQ 40.53125 6.109375 44.609375 11.75 \nQ 48.6875 17.390625 48.6875 27.296875 \nz\nM 18.109375 46.390625 \nQ 20.953125 51.265625 25.265625 53.625 \nQ 29.59375 56 35.59375 56 \nQ 45.5625 56 51.78125 48.09375 \nQ 58.015625 40.1875 58.015625 27.296875 \nQ 58.015625 14.40625 51.78125 6.484375 \nQ 45.5625 -1.421875 35.59375 -1.421875 \nQ 29.59375 -1.421875 25.265625 0.953125 \nQ 20.953125 3.328125 18.109375 8.203125 \nL 18.109375 0 \nL 9.078125 0 \nL 9.078125 75.984375 \nL 18.109375 75.984375 \nz\n\" id=\"DejaVuSans-98\"/>\n        <path d=\"M 56.203125 29.59375 \nL 56.203125 25.203125 \nL 14.890625 25.203125 \nQ 15.484375 15.921875 20.484375 11.0625 \nQ 25.484375 6.203125 34.421875 6.203125 \nQ 39.59375 6.203125 44.453125 7.46875 \nQ 49.3125 8.734375 54.109375 11.28125 \nL 54.109375 2.78125 \nQ 49.265625 0.734375 44.1875 -0.34375 \nQ 39.109375 -1.421875 33.890625 -1.421875 \nQ 20.796875 -1.421875 13.15625 6.1875 \nQ 5.515625 13.8125 5.515625 26.8125 \nQ 5.515625 40.234375 12.765625 48.109375 \nQ 20.015625 56 32.328125 56 \nQ 43.359375 56 49.78125 48.890625 \nQ 56.203125 41.796875 56.203125 29.59375 \nz\nM 47.21875 32.234375 \nQ 47.125 39.59375 43.09375 43.984375 \nQ 39.0625 48.390625 32.421875 48.390625 \nQ 24.90625 48.390625 20.390625 44.140625 \nQ 15.875 39.890625 15.1875 32.171875 \nz\n\" id=\"DejaVuSans-101\"/>\n        <path d=\"M 41.109375 46.296875 \nQ 39.59375 47.171875 37.8125 47.578125 \nQ 36.03125 48 33.890625 48 \nQ 26.265625 48 22.1875 43.046875 \nQ 18.109375 38.09375 18.109375 28.8125 \nL 18.109375 0 \nL 9.078125 0 \nL 9.078125 54.6875 \nL 18.109375 54.6875 \nL 18.109375 46.1875 \nQ 20.953125 51.171875 25.484375 53.578125 \nQ 30.03125 56 36.53125 56 \nQ 37.453125 56 38.578125 55.875 \nQ 39.703125 55.765625 41.0625 55.515625 \nz\n\" id=\"DejaVuSans-114\"/>\n       </defs>\n       <use xlink:href=\"#DejaVuSans-77\"/>\n       <use x=\"86.279297\" xlink:href=\"#DejaVuSans-49\"/>\n       <use x=\"149.902344\" xlink:href=\"#DejaVuSans-95\"/>\n       <use x=\"199.902344\" xlink:href=\"#DejaVuSans-97\"/>\n       <use x=\"261.181641\" xlink:href=\"#DejaVuSans-116\"/>\n       <use x=\"300.390625\" xlink:href=\"#DejaVuSans-111\"/>\n       <use x=\"361.572266\" xlink:href=\"#DejaVuSans-109\"/>\n       <use x=\"458.984375\" xlink:href=\"#DejaVuSans-95\"/>\n       <use x=\"508.984375\" xlink:href=\"#DejaVuSans-110\"/>\n       <use x=\"572.363281\" xlink:href=\"#DejaVuSans-117\"/>\n       <use x=\"635.742188\" xlink:href=\"#DejaVuSans-109\"/>\n       <use x=\"733.154297\" xlink:href=\"#DejaVuSans-98\"/>\n       <use x=\"796.630859\" xlink:href=\"#DejaVuSans-101\"/>\n       <use x=\"858.154297\" xlink:href=\"#DejaVuSans-114\"/>\n      </g>\n     </g>\n    </g>\n    <g id=\"xtick_2\">\n     <g id=\"line2d_2\">\n      <g>\n       <use style=\"stroke:#000000;stroke-width:0.8;\" x=\"238.046562\" xlink:href=\"#m2bf496916d\" y=\"228.439219\"/>\n      </g>\n     </g>\n     <g id=\"text_2\">\n      <!-- M2_atom_number -->\n      <g transform=\"translate(240.666875 325.365781)rotate(-90)scale(0.1 -0.1)\">\n       <defs>\n        <path d=\"M 19.1875 8.296875 \nL 53.609375 8.296875 \nL 53.609375 0 \nL 7.328125 0 \nL 7.328125 8.296875 \nQ 12.9375 14.109375 22.625 23.890625 \nQ 32.328125 33.6875 34.8125 36.53125 \nQ 39.546875 41.84375 41.421875 45.53125 \nQ 43.3125 49.21875 43.3125 52.78125 \nQ 43.3125 58.59375 39.234375 62.25 \nQ 35.15625 65.921875 28.609375 65.921875 \nQ 23.96875 65.921875 18.8125 64.3125 \nQ 13.671875 62.703125 7.8125 59.421875 \nL 7.8125 69.390625 \nQ 13.765625 71.78125 18.9375 73 \nQ 24.125 74.21875 28.421875 74.21875 \nQ 39.75 74.21875 46.484375 68.546875 \nQ 53.21875 62.890625 53.21875 53.421875 \nQ 53.21875 48.921875 51.53125 44.890625 \nQ 49.859375 40.875 45.40625 35.40625 \nQ 44.1875 33.984375 37.640625 27.21875 \nQ 31.109375 20.453125 19.1875 8.296875 \nz\n\" id=\"DejaVuSans-50\"/>\n       </defs>\n       <use xlink:href=\"#DejaVuSans-77\"/>\n       <use x=\"86.279297\" xlink:href=\"#DejaVuSans-50\"/>\n       <use x=\"149.902344\" xlink:href=\"#DejaVuSans-95\"/>\n       <use x=\"199.902344\" xlink:href=\"#DejaVuSans-97\"/>\n       <use x=\"261.181641\" xlink:href=\"#DejaVuSans-116\"/>\n       <use x=\"300.390625\" xlink:href=\"#DejaVuSans-111\"/>\n       <use x=\"361.572266\" xlink:href=\"#DejaVuSans-109\"/>\n       <use x=\"458.984375\" xlink:href=\"#DejaVuSans-95\"/>\n       <use x=\"508.984375\" xlink:href=\"#DejaVuSans-110\"/>\n       <use x=\"572.363281\" xlink:href=\"#DejaVuSans-117\"/>\n       <use x=\"635.742188\" xlink:href=\"#DejaVuSans-109\"/>\n       <use x=\"733.154297\" xlink:href=\"#DejaVuSans-98\"/>\n       <use x=\"796.630859\" xlink:href=\"#DejaVuSans-101\"/>\n       <use x=\"858.154297\" xlink:href=\"#DejaVuSans-114\"/>\n      </g>\n     </g>\n    </g>\n    <g id=\"xtick_3\">\n     <g id=\"line2d_3\">\n      <g>\n       <use style=\"stroke:#000000;stroke-width:0.8;\" x=\"327.326562\" xlink:href=\"#m2bf496916d\" y=\"228.439219\"/>\n      </g>\n     </g>\n     <g id=\"text_3\">\n      <!-- M3_atom_number -->\n      <g transform=\"translate(329.946875 325.365781)rotate(-90)scale(0.1 -0.1)\">\n       <defs>\n        <path d=\"M 40.578125 39.3125 \nQ 47.65625 37.796875 51.625 33 \nQ 55.609375 28.21875 55.609375 21.1875 \nQ 55.609375 10.40625 48.1875 4.484375 \nQ 40.765625 -1.421875 27.09375 -1.421875 \nQ 22.515625 -1.421875 17.65625 -0.515625 \nQ 12.796875 0.390625 7.625 2.203125 \nL 7.625 11.71875 \nQ 11.71875 9.328125 16.59375 8.109375 \nQ 21.484375 6.890625 26.8125 6.890625 \nQ 36.078125 6.890625 40.9375 10.546875 \nQ 45.796875 14.203125 45.796875 21.1875 \nQ 45.796875 27.640625 41.28125 31.265625 \nQ 36.765625 34.90625 28.71875 34.90625 \nL 20.21875 34.90625 \nL 20.21875 43.015625 \nL 29.109375 43.015625 \nQ 36.375 43.015625 40.234375 45.921875 \nQ 44.09375 48.828125 44.09375 54.296875 \nQ 44.09375 59.90625 40.109375 62.90625 \nQ 36.140625 65.921875 28.71875 65.921875 \nQ 24.65625 65.921875 20.015625 65.03125 \nQ 15.375 64.15625 9.8125 62.3125 \nL 9.8125 71.09375 \nQ 15.4375 72.65625 20.34375 73.4375 \nQ 25.25 74.21875 29.59375 74.21875 \nQ 40.828125 74.21875 47.359375 69.109375 \nQ 53.90625 64.015625 53.90625 55.328125 \nQ 53.90625 49.265625 50.4375 45.09375 \nQ 46.96875 40.921875 40.578125 39.3125 \nz\n\" id=\"DejaVuSans-51\"/>\n       </defs>\n       <use xlink:href=\"#DejaVuSans-77\"/>\n       <use x=\"86.279297\" xlink:href=\"#DejaVuSans-51\"/>\n       <use x=\"149.902344\" xlink:href=\"#DejaVuSans-95\"/>\n       <use x=\"199.902344\" xlink:href=\"#DejaVuSans-97\"/>\n       <use x=\"261.181641\" xlink:href=\"#DejaVuSans-116\"/>\n       <use x=\"300.390625\" xlink:href=\"#DejaVuSans-111\"/>\n       <use x=\"361.572266\" xlink:href=\"#DejaVuSans-109\"/>\n       <use x=\"458.984375\" xlink:href=\"#DejaVuSans-95\"/>\n       <use x=\"508.984375\" xlink:href=\"#DejaVuSans-110\"/>\n       <use x=\"572.363281\" xlink:href=\"#DejaVuSans-117\"/>\n       <use x=\"635.742188\" xlink:href=\"#DejaVuSans-109\"/>\n       <use x=\"733.154297\" xlink:href=\"#DejaVuSans-98\"/>\n       <use x=\"796.630859\" xlink:href=\"#DejaVuSans-101\"/>\n       <use x=\"858.154297\" xlink:href=\"#DejaVuSans-114\"/>\n      </g>\n     </g>\n    </g>\n   </g>\n   <g id=\"matplotlib.axis_2\">\n    <g id=\"ytick_1\">\n     <g id=\"line2d_4\">\n      <defs>\n       <path d=\"M 0 0 \nL -3.5 0 \n\" id=\"m1398ef0157\" style=\"stroke:#000000;stroke-width:0.8;\"/>\n      </defs>\n      <g>\n       <use style=\"stroke:#000000;stroke-width:0.8;\" x=\"104.126562\" xlink:href=\"#m1398ef0157\" y=\"47.239219\"/>\n      </g>\n     </g>\n     <g id=\"text_4\">\n      <!-- M1_atom_number -->\n      <g transform=\"translate(7.2 51.038438)scale(0.1 -0.1)\">\n       <use xlink:href=\"#DejaVuSans-77\"/>\n       <use x=\"86.279297\" xlink:href=\"#DejaVuSans-49\"/>\n       <use x=\"149.902344\" xlink:href=\"#DejaVuSans-95\"/>\n       <use x=\"199.902344\" xlink:href=\"#DejaVuSans-97\"/>\n       <use x=\"261.181641\" xlink:href=\"#DejaVuSans-116\"/>\n       <use x=\"300.390625\" xlink:href=\"#DejaVuSans-111\"/>\n       <use x=\"361.572266\" xlink:href=\"#DejaVuSans-109\"/>\n       <use x=\"458.984375\" xlink:href=\"#DejaVuSans-95\"/>\n       <use x=\"508.984375\" xlink:href=\"#DejaVuSans-110\"/>\n       <use x=\"572.363281\" xlink:href=\"#DejaVuSans-117\"/>\n       <use x=\"635.742188\" xlink:href=\"#DejaVuSans-109\"/>\n       <use x=\"733.154297\" xlink:href=\"#DejaVuSans-98\"/>\n       <use x=\"796.630859\" xlink:href=\"#DejaVuSans-101\"/>\n       <use x=\"858.154297\" xlink:href=\"#DejaVuSans-114\"/>\n      </g>\n     </g>\n    </g>\n    <g id=\"ytick_2\">\n     <g id=\"line2d_5\">\n      <g>\n       <use style=\"stroke:#000000;stroke-width:0.8;\" x=\"104.126562\" xlink:href=\"#m1398ef0157\" y=\"119.719219\"/>\n      </g>\n     </g>\n     <g id=\"text_5\">\n      <!-- M2_atom_number -->\n      <g transform=\"translate(7.2 123.518437)scale(0.1 -0.1)\">\n       <use xlink:href=\"#DejaVuSans-77\"/>\n       <use x=\"86.279297\" xlink:href=\"#DejaVuSans-50\"/>\n       <use x=\"149.902344\" xlink:href=\"#DejaVuSans-95\"/>\n       <use x=\"199.902344\" xlink:href=\"#DejaVuSans-97\"/>\n       <use x=\"261.181641\" xlink:href=\"#DejaVuSans-116\"/>\n       <use x=\"300.390625\" xlink:href=\"#DejaVuSans-111\"/>\n       <use x=\"361.572266\" xlink:href=\"#DejaVuSans-109\"/>\n       <use x=\"458.984375\" xlink:href=\"#DejaVuSans-95\"/>\n       <use x=\"508.984375\" xlink:href=\"#DejaVuSans-110\"/>\n       <use x=\"572.363281\" xlink:href=\"#DejaVuSans-117\"/>\n       <use x=\"635.742188\" xlink:href=\"#DejaVuSans-109\"/>\n       <use x=\"733.154297\" xlink:href=\"#DejaVuSans-98\"/>\n       <use x=\"796.630859\" xlink:href=\"#DejaVuSans-101\"/>\n       <use x=\"858.154297\" xlink:href=\"#DejaVuSans-114\"/>\n      </g>\n     </g>\n    </g>\n    <g id=\"ytick_3\">\n     <g id=\"line2d_6\">\n      <g>\n       <use style=\"stroke:#000000;stroke-width:0.8;\" x=\"104.126562\" xlink:href=\"#m1398ef0157\" y=\"192.199219\"/>\n      </g>\n     </g>\n     <g id=\"text_6\">\n      <!-- M3_atom_number -->\n      <g transform=\"translate(7.2 195.998437)scale(0.1 -0.1)\">\n       <use xlink:href=\"#DejaVuSans-77\"/>\n       <use x=\"86.279297\" xlink:href=\"#DejaVuSans-51\"/>\n       <use x=\"149.902344\" xlink:href=\"#DejaVuSans-95\"/>\n       <use x=\"199.902344\" xlink:href=\"#DejaVuSans-97\"/>\n       <use x=\"261.181641\" xlink:href=\"#DejaVuSans-116\"/>\n       <use x=\"300.390625\" xlink:href=\"#DejaVuSans-111\"/>\n       <use x=\"361.572266\" xlink:href=\"#DejaVuSans-109\"/>\n       <use x=\"458.984375\" xlink:href=\"#DejaVuSans-95\"/>\n       <use x=\"508.984375\" xlink:href=\"#DejaVuSans-110\"/>\n       <use x=\"572.363281\" xlink:href=\"#DejaVuSans-117\"/>\n       <use x=\"635.742188\" xlink:href=\"#DejaVuSans-109\"/>\n       <use x=\"733.154297\" xlink:href=\"#DejaVuSans-98\"/>\n       <use x=\"796.630859\" xlink:href=\"#DejaVuSans-101\"/>\n       <use x=\"858.154297\" xlink:href=\"#DejaVuSans-114\"/>\n      </g>\n     </g>\n    </g>\n   </g>\n  </g>\n  <g id=\"axes_2\">\n   <g id=\"patch_3\">\n    <path clip-path=\"url(#p408e3f671a)\" d=\"M 388.706563 228.439219 \nL 388.706563 227.589844 \nL 388.706563 11.848594 \nL 388.706563 10.999219 \nL 399.578563 10.999219 \nL 399.578563 11.848594 \nL 399.578563 227.589844 \nL 399.578563 228.439219 \nz\n\" style=\"fill:#ffffff;stroke:#ffffff;stroke-linejoin:miter;stroke-width:0.01;\"/>\n   </g>\n   <image height=\"218\" id=\"imagec95331d7e7\" transform=\"scale(1 -1)translate(0 -218)\" width=\"11\" x=\"389\" xlink:href=\"data:image/png;base64,\niVBORw0KGgoAAAANSUhEUgAAAAsAAADaCAYAAABwzrisAAABTElEQVR4nN3awY3DMAxEUclymtj++8y2oHf4AHd9Jgafw5GsKN7v5+e7Lp93731bq8WrUn6k+OynwpjRICmbG9Jgx0w+47hnuJEpTxk3KWfLKnSj2woo/P99gp0b4c5v1t0/lmdS7sbdYXThL62rlF+LKGCMGTcol8wjMCz81z8PYjeoOMuGuFE2CMUnm6CNewZG6EaYjXtpw8DwC4Yod26cjBkb7KwDZVmEJbNgPFJ8qMEMAw6MJcYDewE2KMrmhilLNmDrN+UhbjzUIDHD8lbrRJmYzQ3CqIpXh/F2GHDYDpXhEBEyL1FGDFE+cNtDylhcYZh15/6cG7qxMzewwQxD7hhD68JxC4ZcG+JQOjfkX48wGyMaDJm7IL33b/qywXDc0uAQ5hlu7N29Joa48RmBYd8VyFCmhF+YM583ufEXGyRly8Z9g3K3t34B/l4tJcHYgRsAAAAASUVORK5CYII=\" y=\"-10\"/>\n   <g id=\"matplotlib.axis_3\"/>\n   <g id=\"matplotlib.axis_4\">\n    <g id=\"ytick_4\">\n     <g id=\"line2d_7\">\n      <defs>\n       <path d=\"M 0 0 \nL 3.5 0 \n\" id=\"madb9f649d1\" style=\"stroke:#000000;stroke-width:0.8;\"/>\n      </defs>\n      <g>\n       <use style=\"stroke:#000000;stroke-width:0.8;\" x=\"399.578563\" xlink:href=\"#madb9f649d1\" y=\"214.936088\"/>\n      </g>\n     </g>\n     <g id=\"text_7\">\n      <!-- 0.4 -->\n      <g transform=\"translate(406.578563 218.735306)scale(0.1 -0.1)\">\n       <defs>\n        <path d=\"M 31.78125 66.40625 \nQ 24.171875 66.40625 20.328125 58.90625 \nQ 16.5 51.421875 16.5 36.375 \nQ 16.5 21.390625 20.328125 13.890625 \nQ 24.171875 6.390625 31.78125 6.390625 \nQ 39.453125 6.390625 43.28125 13.890625 \nQ 47.125 21.390625 47.125 36.375 \nQ 47.125 51.421875 43.28125 58.90625 \nQ 39.453125 66.40625 31.78125 66.40625 \nz\nM 31.78125 74.21875 \nQ 44.046875 74.21875 50.515625 64.515625 \nQ 56.984375 54.828125 56.984375 36.375 \nQ 56.984375 17.96875 50.515625 8.265625 \nQ 44.046875 -1.421875 31.78125 -1.421875 \nQ 19.53125 -1.421875 13.0625 8.265625 \nQ 6.59375 17.96875 6.59375 36.375 \nQ 6.59375 54.828125 13.0625 64.515625 \nQ 19.53125 74.21875 31.78125 74.21875 \nz\n\" id=\"DejaVuSans-48\"/>\n        <path d=\"M 10.6875 12.40625 \nL 21 12.40625 \nL 21 0 \nL 10.6875 0 \nz\n\" id=\"DejaVuSans-46\"/>\n        <path d=\"M 37.796875 64.3125 \nL 12.890625 25.390625 \nL 37.796875 25.390625 \nz\nM 35.203125 72.90625 \nL 47.609375 72.90625 \nL 47.609375 25.390625 \nL 58.015625 25.390625 \nL 58.015625 17.1875 \nL 47.609375 17.1875 \nL 47.609375 0 \nL 37.796875 0 \nL 37.796875 17.1875 \nL 4.890625 17.1875 \nL 4.890625 26.703125 \nz\n\" id=\"DejaVuSans-52\"/>\n       </defs>\n       <use xlink:href=\"#DejaVuSans-48\"/>\n       <use x=\"63.623047\" xlink:href=\"#DejaVuSans-46\"/>\n       <use x=\"95.410156\" xlink:href=\"#DejaVuSans-52\"/>\n      </g>\n     </g>\n    </g>\n    <g id=\"ytick_5\">\n     <g id=\"line2d_8\">\n      <g>\n       <use style=\"stroke:#000000;stroke-width:0.8;\" x=\"399.578563\" xlink:href=\"#madb9f649d1\" y=\"180.94661\"/>\n      </g>\n     </g>\n     <g id=\"text_8\">\n      <!-- 0.5 -->\n      <g transform=\"translate(406.578563 184.745828)scale(0.1 -0.1)\">\n       <defs>\n        <path d=\"M 10.796875 72.90625 \nL 49.515625 72.90625 \nL 49.515625 64.59375 \nL 19.828125 64.59375 \nL 19.828125 46.734375 \nQ 21.96875 47.46875 24.109375 47.828125 \nQ 26.265625 48.1875 28.421875 48.1875 \nQ 40.625 48.1875 47.75 41.5 \nQ 54.890625 34.8125 54.890625 23.390625 \nQ 54.890625 11.625 47.5625 5.09375 \nQ 40.234375 -1.421875 26.90625 -1.421875 \nQ 22.3125 -1.421875 17.546875 -0.640625 \nQ 12.796875 0.140625 7.71875 1.703125 \nL 7.71875 11.625 \nQ 12.109375 9.234375 16.796875 8.0625 \nQ 21.484375 6.890625 26.703125 6.890625 \nQ 35.15625 6.890625 40.078125 11.328125 \nQ 45.015625 15.765625 45.015625 23.390625 \nQ 45.015625 31 40.078125 35.4375 \nQ 35.15625 39.890625 26.703125 39.890625 \nQ 22.75 39.890625 18.8125 39.015625 \nQ 14.890625 38.140625 10.796875 36.28125 \nz\n\" id=\"DejaVuSans-53\"/>\n       </defs>\n       <use xlink:href=\"#DejaVuSans-48\"/>\n       <use x=\"63.623047\" xlink:href=\"#DejaVuSans-46\"/>\n       <use x=\"95.410156\" xlink:href=\"#DejaVuSans-53\"/>\n      </g>\n     </g>\n    </g>\n    <g id=\"ytick_6\">\n     <g id=\"line2d_9\">\n      <g>\n       <use style=\"stroke:#000000;stroke-width:0.8;\" x=\"399.578563\" xlink:href=\"#madb9f649d1\" y=\"146.957131\"/>\n      </g>\n     </g>\n     <g id=\"text_9\">\n      <!-- 0.6 -->\n      <g transform=\"translate(406.578563 150.75635)scale(0.1 -0.1)\">\n       <defs>\n        <path d=\"M 33.015625 40.375 \nQ 26.375 40.375 22.484375 35.828125 \nQ 18.609375 31.296875 18.609375 23.390625 \nQ 18.609375 15.53125 22.484375 10.953125 \nQ 26.375 6.390625 33.015625 6.390625 \nQ 39.65625 6.390625 43.53125 10.953125 \nQ 47.40625 15.53125 47.40625 23.390625 \nQ 47.40625 31.296875 43.53125 35.828125 \nQ 39.65625 40.375 33.015625 40.375 \nz\nM 52.59375 71.296875 \nL 52.59375 62.3125 \nQ 48.875 64.0625 45.09375 64.984375 \nQ 41.3125 65.921875 37.59375 65.921875 \nQ 27.828125 65.921875 22.671875 59.328125 \nQ 17.53125 52.734375 16.796875 39.40625 \nQ 19.671875 43.65625 24.015625 45.921875 \nQ 28.375 48.1875 33.59375 48.1875 \nQ 44.578125 48.1875 50.953125 41.515625 \nQ 57.328125 34.859375 57.328125 23.390625 \nQ 57.328125 12.15625 50.6875 5.359375 \nQ 44.046875 -1.421875 33.015625 -1.421875 \nQ 20.359375 -1.421875 13.671875 8.265625 \nQ 6.984375 17.96875 6.984375 36.375 \nQ 6.984375 53.65625 15.1875 63.9375 \nQ 23.390625 74.21875 37.203125 74.21875 \nQ 40.921875 74.21875 44.703125 73.484375 \nQ 48.484375 72.75 52.59375 71.296875 \nz\n\" id=\"DejaVuSans-54\"/>\n       </defs>\n       <use xlink:href=\"#DejaVuSans-48\"/>\n       <use x=\"63.623047\" xlink:href=\"#DejaVuSans-46\"/>\n       <use x=\"95.410156\" xlink:href=\"#DejaVuSans-54\"/>\n      </g>\n     </g>\n    </g>\n    <g id=\"ytick_7\">\n     <g id=\"line2d_10\">\n      <g>\n       <use style=\"stroke:#000000;stroke-width:0.8;\" x=\"399.578563\" xlink:href=\"#madb9f649d1\" y=\"112.967653\"/>\n      </g>\n     </g>\n     <g id=\"text_10\">\n      <!-- 0.7 -->\n      <g transform=\"translate(406.578563 116.766872)scale(0.1 -0.1)\">\n       <defs>\n        <path d=\"M 8.203125 72.90625 \nL 55.078125 72.90625 \nL 55.078125 68.703125 \nL 28.609375 0 \nL 18.3125 0 \nL 43.21875 64.59375 \nL 8.203125 64.59375 \nz\n\" id=\"DejaVuSans-55\"/>\n       </defs>\n       <use xlink:href=\"#DejaVuSans-48\"/>\n       <use x=\"63.623047\" xlink:href=\"#DejaVuSans-46\"/>\n       <use x=\"95.410156\" xlink:href=\"#DejaVuSans-55\"/>\n      </g>\n     </g>\n    </g>\n    <g id=\"ytick_8\">\n     <g id=\"line2d_11\">\n      <g>\n       <use style=\"stroke:#000000;stroke-width:0.8;\" x=\"399.578563\" xlink:href=\"#madb9f649d1\" y=\"78.978175\"/>\n      </g>\n     </g>\n     <g id=\"text_11\">\n      <!-- 0.8 -->\n      <g transform=\"translate(406.578563 82.777394)scale(0.1 -0.1)\">\n       <defs>\n        <path d=\"M 31.78125 34.625 \nQ 24.75 34.625 20.71875 30.859375 \nQ 16.703125 27.09375 16.703125 20.515625 \nQ 16.703125 13.921875 20.71875 10.15625 \nQ 24.75 6.390625 31.78125 6.390625 \nQ 38.8125 6.390625 42.859375 10.171875 \nQ 46.921875 13.96875 46.921875 20.515625 \nQ 46.921875 27.09375 42.890625 30.859375 \nQ 38.875 34.625 31.78125 34.625 \nz\nM 21.921875 38.8125 \nQ 15.578125 40.375 12.03125 44.71875 \nQ 8.5 49.078125 8.5 55.328125 \nQ 8.5 64.0625 14.71875 69.140625 \nQ 20.953125 74.21875 31.78125 74.21875 \nQ 42.671875 74.21875 48.875 69.140625 \nQ 55.078125 64.0625 55.078125 55.328125 \nQ 55.078125 49.078125 51.53125 44.71875 \nQ 48 40.375 41.703125 38.8125 \nQ 48.828125 37.15625 52.796875 32.3125 \nQ 56.78125 27.484375 56.78125 20.515625 \nQ 56.78125 9.90625 50.3125 4.234375 \nQ 43.84375 -1.421875 31.78125 -1.421875 \nQ 19.734375 -1.421875 13.25 4.234375 \nQ 6.78125 9.90625 6.78125 20.515625 \nQ 6.78125 27.484375 10.78125 32.3125 \nQ 14.796875 37.15625 21.921875 38.8125 \nz\nM 18.3125 54.390625 \nQ 18.3125 48.734375 21.84375 45.5625 \nQ 25.390625 42.390625 31.78125 42.390625 \nQ 38.140625 42.390625 41.71875 45.5625 \nQ 45.3125 48.734375 45.3125 54.390625 \nQ 45.3125 60.0625 41.71875 63.234375 \nQ 38.140625 66.40625 31.78125 66.40625 \nQ 25.390625 66.40625 21.84375 63.234375 \nQ 18.3125 60.0625 18.3125 54.390625 \nz\n\" id=\"DejaVuSans-56\"/>\n       </defs>\n       <use xlink:href=\"#DejaVuSans-48\"/>\n       <use x=\"63.623047\" xlink:href=\"#DejaVuSans-46\"/>\n       <use x=\"95.410156\" xlink:href=\"#DejaVuSans-56\"/>\n      </g>\n     </g>\n    </g>\n    <g id=\"ytick_9\">\n     <g id=\"line2d_12\">\n      <g>\n       <use style=\"stroke:#000000;stroke-width:0.8;\" x=\"399.578563\" xlink:href=\"#madb9f649d1\" y=\"44.988697\"/>\n      </g>\n     </g>\n     <g id=\"text_12\">\n      <!-- 0.9 -->\n      <g transform=\"translate(406.578563 48.787916)scale(0.1 -0.1)\">\n       <defs>\n        <path d=\"M 10.984375 1.515625 \nL 10.984375 10.5 \nQ 14.703125 8.734375 18.5 7.8125 \nQ 22.3125 6.890625 25.984375 6.890625 \nQ 35.75 6.890625 40.890625 13.453125 \nQ 46.046875 20.015625 46.78125 33.40625 \nQ 43.953125 29.203125 39.59375 26.953125 \nQ 35.25 24.703125 29.984375 24.703125 \nQ 19.046875 24.703125 12.671875 31.3125 \nQ 6.296875 37.9375 6.296875 49.421875 \nQ 6.296875 60.640625 12.9375 67.421875 \nQ 19.578125 74.21875 30.609375 74.21875 \nQ 43.265625 74.21875 49.921875 64.515625 \nQ 56.59375 54.828125 56.59375 36.375 \nQ 56.59375 19.140625 48.40625 8.859375 \nQ 40.234375 -1.421875 26.421875 -1.421875 \nQ 22.703125 -1.421875 18.890625 -0.6875 \nQ 15.09375 0.046875 10.984375 1.515625 \nz\nM 30.609375 32.421875 \nQ 37.25 32.421875 41.125 36.953125 \nQ 45.015625 41.5 45.015625 49.421875 \nQ 45.015625 57.28125 41.125 61.84375 \nQ 37.25 66.40625 30.609375 66.40625 \nQ 23.96875 66.40625 20.09375 61.84375 \nQ 16.21875 57.28125 16.21875 49.421875 \nQ 16.21875 41.5 20.09375 36.953125 \nQ 23.96875 32.421875 30.609375 32.421875 \nz\n\" id=\"DejaVuSans-57\"/>\n       </defs>\n       <use xlink:href=\"#DejaVuSans-48\"/>\n       <use x=\"63.623047\" xlink:href=\"#DejaVuSans-46\"/>\n       <use x=\"95.410156\" xlink:href=\"#DejaVuSans-57\"/>\n      </g>\n     </g>\n    </g>\n    <g id=\"ytick_10\">\n     <g id=\"line2d_13\">\n      <g>\n       <use style=\"stroke:#000000;stroke-width:0.8;\" x=\"399.578563\" xlink:href=\"#madb9f649d1\" y=\"10.999219\"/>\n      </g>\n     </g>\n     <g id=\"text_13\">\n      <!-- 1.0 -->\n      <g transform=\"translate(406.578563 14.798438)scale(0.1 -0.1)\">\n       <use xlink:href=\"#DejaVuSans-49\"/>\n       <use x=\"63.623047\" xlink:href=\"#DejaVuSans-46\"/>\n       <use x=\"95.410156\" xlink:href=\"#DejaVuSans-48\"/>\n      </g>\n     </g>\n    </g>\n   </g>\n   <g id=\"patch_4\">\n    <path d=\"M 388.706563 228.439219 \nL 388.706563 227.589844 \nL 388.706563 11.848594 \nL 388.706563 10.999219 \nL 399.578563 10.999219 \nL 399.578563 11.848594 \nL 399.578563 227.589844 \nL 399.578563 228.439219 \nz\n\" style=\"fill:none;\"/>\n   </g>\n  </g>\n </g>\n <defs>\n  <clipPath id=\"paa82ab6685\">\n   <rect height=\"217.44\" width=\"267.84\" x=\"104.126562\" y=\"10.999219\"/>\n  </clipPath>\n  <clipPath id=\"p408e3f671a\">\n   <rect height=\"217.44\" width=\"10.872\" x=\"388.706563\" y=\"10.999219\"/>\n  </clipPath>\n </defs>\n</svg>\n",
      "image/png": "[encoded data removed]"
     },
     "metadata": {
      "needs_background": "light"
     }
    }
   ],
   "source": [
    "sn.heatmap(corrMatrix, annot=False)\n",
    "plt.show()"
   ]
  },
  {
   "cell_type": "code",
   "execution_count": null,
   "metadata": {},
   "outputs": [],
   "source": [
    "df_catalysis_dataset['M1_mol_percentage']"
   ]
  },
  {
   "cell_type": "markdown",
   "metadata": {},
   "source": [
    "---\n",
    "## Check basic statistics for numeric columns\n",
    "---"
   ]
  },
  {
   "cell_type": "code",
   "execution_count": null,
   "metadata": {},
   "outputs": [],
   "source": [
    "df_catalysis_dataset.describe()"
   ]
  },
  {
   "cell_type": "markdown",
   "metadata": {},
   "source": [
    "---\n",
    "## Check if there are any NaN\n",
    "---"
   ]
  },
  {
   "cell_type": "code",
   "execution_count": null,
   "metadata": {},
   "outputs": [],
   "source": [
    "df_catalysis_dataset.isna().sum()"
   ]
  },
  {
   "cell_type": "markdown",
   "metadata": {},
   "source": [
    "---\n",
    "\n",
    "\n",
    "## Requirements\n",
    "\n",
    "\n",
    "* It would be nice to look at distributions in the data (histograms scatter plots, principal components, etc.). \n",
    "\n",
    "\n",
    "* Filters could be CH4 conversion, C2y, temperature, pressure, CH4/O2 ratio, M1/M2/M3, etc., CO + CO2 selectivity, etc.). \n",
    "\n",
    "\n",
    "---"
   ]
  },
  {
   "cell_type": "markdown",
   "metadata": {},
   "source": [
    "---\n",
    "## Generate unique values of filters to setup sliders\n",
    "\n",
    "* Sliders for CH4_conv and C2y\n",
    "\n",
    "* Dropdown for Temp and CH4/O2\n",
    "\n",
    "---"
   ]
  },
  {
   "cell_type": "code",
   "execution_count": null,
   "metadata": {},
   "outputs": [],
   "source": [
    "(df_catalysis_dataset['CH4_conv']\n",
    " .sort_values()\n",
    " .unique()\n",
    ")"
   ]
  },
  {
   "cell_type": "code",
   "execution_count": null,
   "metadata": {},
   "outputs": [],
   "source": [
    "(df_catalysis_dataset['C2y']\n",
    " .sort_values()\n",
    " .unique()\n",
    ")"
   ]
  },
  {
   "cell_type": "code",
   "execution_count": null,
   "metadata": {},
   "outputs": [],
   "source": [
    "(df_catalysis_dataset['Temp']\n",
    " .sort_values()\n",
    " .unique()\n",
    ")"
   ]
  },
  {
   "cell_type": "code",
   "execution_count": null,
   "metadata": {},
   "outputs": [],
   "source": [
    "unique_ch4_to_o2 = (df_catalysis_dataset['CH4/O2']\n",
    " .sort_values()\n",
    " .astype(str)\n",
    " .unique()\n",
    ")\n",
    "sorted_unique_ch4_to_o2 = dict(zip(unique_ch4_to_o2, unique_ch4_to_o2))\n",
    "print(sorted_unique_ch4_to_o2)"
   ]
  },
  {
   "cell_type": "markdown",
   "metadata": {},
   "source": [
    "---\n",
    "## Set up Bokeh Plot\n",
    "\n",
    "\n",
    "* Utilizing [gallery example of movies](https://github.com/bokeh/bokeh/tree/branch-2.4/examples/app/movies)\n",
    "\n",
    "\n",
    "* It has filters and determination of x and y axis\n",
    "\n",
    "\n",
    "---"
   ]
  },
  {
   "cell_type": "code",
   "execution_count": null,
   "metadata": {},
   "outputs": [],
   "source": [
    "from bokeh.io import curdoc\n",
    "from bokeh.layouts import column, row\n",
    "from bokeh.models import ColumnDataSource, Div, Select, Slider, TextInput\n",
    "from bokeh.plotting import figure"
   ]
  },
  {
   "cell_type": "code",
   "execution_count": null,
   "metadata": {},
   "outputs": [],
   "source": [
    "axis_map_x = {\n",
    "    \"Ethane_y\": \"C2H6y\",\n",
    "    \"Ethylene_y\": \"C2H4y\",\n",
    "    \"CarbonDiOxide_y\": \"CO2y\",\n",
    "    \"CarbonMonoOxide_y\": \"COy\",\n",
    "    \"DiCarbon_s\": \"C2s\",\n",
    "    \"Ethane_s\": \"C2H6s\",\n",
    "    \"Ethylene_s\": \"C2H4s\",\n",
    "    \"CarbonDiOxide_s\": \"CO2s\",\n",
    "    \"CarbonMonoOxide_s\": \"COs\",\n",
    "}"
   ]
  },
  {
   "cell_type": "code",
   "execution_count": null,
   "metadata": {},
   "outputs": [],
   "source": [
    "axis_map_y = {\n",
    "    \"Ethane_y\": \"C2H6y\",\n",
    "    \"Ethylene_y\": \"C2H4y\",\n",
    "    \"CarbonDiOxide_y\": \"CO2y\",\n",
    "    \"CarbonMonoOxide_y\": \"COy\",\n",
    "    \"DiCarbon_s\": \"C2s\",\n",
    "    \"Ethane_s\": \"C2H6s\",\n",
    "    \"Ethylene_s\": \"C2H4s\",\n",
    "    \"CarbonDiOxide_s\": \"CO2s\",\n",
    "    \"CarbonMonoOxide_s\": \"COs\",\n",
    "}"
   ]
  },
  {
   "cell_type": "code",
   "execution_count": null,
   "metadata": {},
   "outputs": [],
   "source": [
    "# Create Input controls\n",
    "slider_methane_conversion = Slider(title=\"Minimum Methane conversion value\", \n",
    "                                   value=20, start=1, end=46, step=1)\n",
    "slider_C2y = Slider(title=\"Minimum value of C2y\", start=0.1, end=22.1, value=4.0, step=0.1)\n",
    "slider_temp = Slider(title=\"Minimum value of Temperature\", start=700.0, end=900.0, value=800.0, step=50.0)\n",
    "select_ch4_to_o2 = Select(title=\"CH4 to O2\", options=sorted(sorted_unique_ch4_to_o2.keys()), value=\"6\")\n",
    "select_x_axis = Select(title=\"X Axis\", options=sorted(axis_map_x.keys()), value=\"Ethane_y\")\n",
    "select_y_axis = Select(title=\"Y Axis\", options=sorted(axis_map_y.keys()), value=\"CarbonDiOxide_y\")"
   ]
  },
  {
   "cell_type": "code",
   "execution_count": null,
   "metadata": {},
   "outputs": [],
   "source": [
    "TOOLTIPS=[\n",
    "    (\"M1 Percent\", \"@M1_mol_percent\"),\n",
    "    (\"M2 Percent\", \"@M2_mol_percent\"),\n",
    "    (\"M3 Percent\", \"@M3_mol_percent\")\n",
    "]"
   ]
  },
  {
   "cell_type": "code",
   "execution_count": null,
   "metadata": {},
   "outputs": [],
   "source": [
    "# Create Column Data Source that will be used by the plot\n",
    "source = ColumnDataSource(data=dict(x=[], y=[], M1_mol_percent=[],\n",
    "                                    M2_mol_percent=[], M3_mol_percent=[]))"
   ]
  },
  {
   "cell_type": "code",
   "execution_count": null,
   "metadata": {},
   "outputs": [],
   "source": [
    "p = figure(height=600, width=700, title=\"\", toolbar_location=None, tooltips=TOOLTIPS, sizing_mode=\"scale_both\")\n",
    "p.circle(x=\"x\", y=\"y\", source=source, size=7, color='mediumblue', line_color=None, fill_alpha=0.6)"
   ]
  },
  {
   "cell_type": "code",
   "execution_count": null,
   "metadata": {},
   "outputs": [],
   "source": [
    "def select_data():\n",
    "    temp_val = slider_temp.value\n",
    "    select_ch4_to_o2_val = select_ch4_to_o2.value\n",
    "    selected = df_catalysis_dataset[\n",
    "        (df_catalysis_dataset.CH4_conv >= slider_methane_conversion.value) &\n",
    "        (df_catalysis_dataset.C2y >= slider_C2y.value) &\n",
    "        (df_catalysis_dataset.Temp == slider_temp.value) &\n",
    "        (df_catalysis_dataset['CH4/O2'] == select_ch4_to_o2.value)\n",
    "    ]\n",
    "    return selected"
   ]
  },
  {
   "cell_type": "code",
   "execution_count": null,
   "metadata": {},
   "outputs": [],
   "source": [
    "def update():\n",
    "    df = select_data()\n",
    "    x_name = axis_map_x[select_x_axis.value]\n",
    "    y_name = axis_map_y[select_y_axis.value]\n",
    "\n",
    "    p.xaxis.axis_label = select_x_axis.value\n",
    "    p.yaxis.axis_label = select_y_axis.value\n",
    "    p.title.text = 'Title TBD'\n",
    "    source.data = dict(\n",
    "        x=df[x_name],\n",
    "        y=df[y_name],\n",
    "        M1_mol_percent=df['M1_mol_percentage'],\n",
    "        M2_mol_percent=df['M2_mol_percentage'], \n",
    "        M3_mol_percent=df['M3_mol_percentage'],\n",
    "    )"
   ]
  },
  {
   "cell_type": "code",
   "execution_count": null,
   "metadata": {},
   "outputs": [],
   "source": [
    "controls = [slider_methane_conversion, slider_C2y, slider_temp, select_ch4_to_o2, select_x_axis, select_y_axis]\n",
    "for control in controls:\n",
    "    control.on_change('value', lambda attr, old, new: update())"
   ]
  },
  {
   "cell_type": "code",
   "execution_count": null,
   "metadata": {},
   "outputs": [],
   "source": [
    "inputs = column(*controls, width=320)"
   ]
  },
  {
   "cell_type": "code",
   "execution_count": null,
   "metadata": {},
   "outputs": [],
   "source": [
    "axis_map_y['CarbonDiOxide_y']"
   ]
  },
  {
   "cell_type": "code",
   "execution_count": null,
   "metadata": {},
   "outputs": [],
   "source": [
    "l = column(row(inputs, p), sizing_mode=\"scale_both\")\n",
    "\n",
    "update()  # initial load of the data\n",
    "\n",
    "curdoc().add_root(l)\n",
    "curdoc().title = \"Catalysis Data\""
   ]
  },
  {
   "cell_type": "code",
   "execution_count": null,
   "metadata": {},
   "outputs": [],
   "source": []
  }
 ],
 "metadata": {
  "kernelspec": {
   "name": "python3",
   "display_name": "Python 3.8.8 64-bit ('base': conda)"
  },
  "language_info": {
   "codemirror_mode": {
    "name": "ipython",
    "version": 3
   },
   "file_extension": ".py",
   "mimetype": "text/x-python",
   "name": "python",
   "nbconvert_exporter": "python",
   "pygments_lexer": "ipython3",
   "version": "3.8.8"
  },
  "interpreter": {
   "hash": "785c8b4d335925bbf77f030e28baf966bf3dd09aad93ee31c74ab9dffef22c30"
  }
 },
 "nbformat": 4,
 "nbformat_minor": 4
}