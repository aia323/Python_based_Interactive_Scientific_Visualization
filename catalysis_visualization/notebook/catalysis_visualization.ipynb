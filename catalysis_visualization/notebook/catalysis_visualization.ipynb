{
 "cells": [
  {
   "cell_type": "code",
   "execution_count": 1,
   "metadata": {},
   "outputs": [],
   "source": [
    "%matplotlib inline\n",
    "import numpy as np\n",
    "import pandas as pd"
   ]
  },
  {
   "cell_type": "markdown",
   "metadata": {},
   "source": [
    "---\n",
    "## Load Dataset\n",
    "---"
   ]
  },
  {
   "cell_type": "code",
   "execution_count": 2,
   "metadata": {},
   "outputs": [
    {
     "output_type": "execute_result",
     "data": {
      "text/plain": [
       "                   M1  M1_atom_number    M2  M2_atom_number    M3  \\\n",
       "Name                                                                \n",
       "Mn-Na2WO4/ZrO2     Mn              25    Na              11     W   \n",
       "Mn-Na2WO4/SiCnf    Mn              25    Na              11     W   \n",
       "Mn-Na2WO4/Nb2O5    Mn              25    Na              11     W   \n",
       "CeO2             n.a.               0  n.a.               0  n.a.   \n",
       "Mn-WOx/SiO2        Mn              25  n.a.               0     W   \n",
       "Mn-Na2WO4/BN       Mn              25    Na              11     W   \n",
       "Mn-MoOx/SiO2       Mn              25  n.a.               0    Mo   \n",
       "Fe-Na2WO4/SiO2     Fe              26    Na              11     W   \n",
       "Blank            n.a.               0  n.a.               0  n.a.   \n",
       "Mn-Na2MoO4/SiO2    Mn              25    Na              11    Mo   \n",
       "Mn-Na/SiO2         Mn              25    Na              11  n.a.   \n",
       "Mn-Na2WO4/SiO2     Mn              25    Na              11     W   \n",
       "Mn-Na2WO4/SiCnf    Mn              25    Na              11     W   \n",
       "Mn-Na2WO4/SiC      Mn              25    Na              11     W   \n",
       "Mn-Na2MoO4/SiO2    Mn              25    Na              11    Mo   \n",
       "Mn-WOx/SiO2        Mn              25  n.a.               0     W   \n",
       "Mn-Na2WO4/TiO2     Mn              25    Na              11     W   \n",
       "Mn-Na2WO4/Nb2O5    Mn              25    Na              11     W   \n",
       "Mn-K2WO4/SiO2      Mn              25     K              19     W   \n",
       "Mn-Na2WO4/MgO      Mn              25    Na              11     W   \n",
       "\n",
       "                 M3_atom_number Support   Support_ID  M2_mol  M3_mol  ...  \\\n",
       "Name                                                                  ...   \n",
       "Mn-Na2WO4/ZrO2               74     ZrO2          13    0.37   0.185  ...   \n",
       "Mn-Na2WO4/SiCnf              74    SiCnf          10    0.37   0.185  ...   \n",
       "Mn-Na2WO4/Nb2O5              74    Nb2O5           8    0.37   0.185  ...   \n",
       "CeO2                          0     CeO2           5    0.00   0.000  ...   \n",
       "Mn-WOx/SiO2                  74     SiO2          11    0.00   0.185  ...   \n",
       "Mn-Na2WO4/BN                 74       BN           4    0.37   0.185  ...   \n",
       "Mn-MoOx/SiO2                 42     SiO2          11    0.00   0.185  ...   \n",
       "Fe-Na2WO4/SiO2               74     SiO2          11    0.37   0.185  ...   \n",
       "Blank                         0     n.a.           7    0.00   0.000  ...   \n",
       "Mn-Na2MoO4/SiO2              42     SiO2          11    0.37   0.185  ...   \n",
       "Mn-Na/SiO2                    0     SiO2          11    0.37   0.000  ...   \n",
       "Mn-Na2WO4/SiO2               74     SiO2          11    0.37   0.185  ...   \n",
       "Mn-Na2WO4/SiCnf              74    SiCnf          10    0.37   0.185  ...   \n",
       "Mn-Na2WO4/SiC                74      SiC           9    0.37   0.185  ...   \n",
       "Mn-Na2MoO4/SiO2              42     SiO2          11    0.37   0.185  ...   \n",
       "Mn-WOx/SiO2                  74     SiO2          11    0.00   0.185  ...   \n",
       "Mn-Na2WO4/TiO2               74     TiO2          12    0.37   0.185  ...   \n",
       "Mn-Na2WO4/Nb2O5              74    Nb2O5           8    0.37   0.185  ...   \n",
       "Mn-K2WO4/SiO2                74     SiO2          11    0.37   0.185  ...   \n",
       "Mn-Na2WO4/MgO                74      MgO           6    0.37   0.185  ...   \n",
       "\n",
       "                   C2y  C2H6y  C2H4y    COy   CO2y    C2s  C2H6s  C2H4s  \\\n",
       "Name                                                                      \n",
       "Mn-Na2WO4/ZrO2    7.36   1.29   6.07  14.40   3.70  30.33   5.32  25.01   \n",
       "Mn-Na2WO4/SiCnf   8.01   1.37   6.64  25.54   6.49  23.60   4.04  19.56   \n",
       "Mn-Na2WO4/Nb2O5   8.25   1.39   6.86  15.06   3.17  34.65   5.84  28.81   \n",
       "CeO2              7.07   1.73   5.34   3.14  10.25  46.76  11.44  35.32   \n",
       "Mn-WOx/SiO2       3.53   1.89   1.64   1.74   3.49  35.19  18.84  16.35   \n",
       "Mn-Na2WO4/BN      4.61   0.62   3.99  24.26   2.76  15.16   2.04  13.13   \n",
       "Mn-MoOx/SiO2      1.64   1.03   0.61   5.30   3.89  15.50   9.74   5.77   \n",
       "Fe-Na2WO4/SiO2    4.87   2.53   2.34   1.88   1.51  74.58  38.74  35.83   \n",
       "Blank             1.48   0.75   0.73  12.58   1.20   7.76   3.93   3.83   \n",
       "Mn-Na2MoO4/SiO2   5.11   2.83   2.28   1.55   4.42  55.73  30.86  24.86   \n",
       "Mn-Na/SiO2        7.29   0.93   6.36  29.25   6.00  19.93   2.54  17.39   \n",
       "Mn-Na2WO4/SiO2    7.13   0.83   6.30  20.01   3.85  31.97   3.72  28.25   \n",
       "Mn-Na2WO4/SiCnf  10.73   3.58   7.15   5.04   2.50  65.67  21.91  43.76   \n",
       "Mn-Na2WO4/SiC     8.56   1.54   7.02  20.98   6.32  23.98   4.31  19.67   \n",
       "Mn-Na2MoO4/SiO2   9.78   3.85   5.93   0.78   9.33  48.44  19.07  29.37   \n",
       "Mn-WOx/SiO2       7.30   2.24   5.06  17.85   8.25  22.34   6.85  15.48   \n",
       "Mn-Na2WO4/TiO2    0.98   0.67   0.31   0.59   0.85  56.00  38.29  17.71   \n",
       "Mn-Na2WO4/Nb2O5   0.62   0.41   0.21   0.01   0.12  63.27  41.84  21.43   \n",
       "Mn-K2WO4/SiO2     8.26   1.64   6.62  10.23   2.50  44.84   8.90  35.94   \n",
       "Mn-Na2WO4/MgO     0.96   0.59   0.37   0.30   1.20  32.54  20.00  12.54   \n",
       "\n",
       "                   COs   CO2s  \n",
       "Name                           \n",
       "Mn-Na2WO4/ZrO2   59.33  15.25  \n",
       "Mn-Na2WO4/SiCnf  75.25  19.12  \n",
       "Mn-Na2WO4/Nb2O5  63.25  13.31  \n",
       "CeO2             20.77  67.79  \n",
       "Mn-WOx/SiO2      17.35  34.80  \n",
       "Mn-Na2WO4/BN     79.80   9.08  \n",
       "Mn-MoOx/SiO2     50.09  36.77  \n",
       "Fe-Na2WO4/SiO2   28.79  23.12  \n",
       "Blank            66.00   6.30  \n",
       "Mn-Na2MoO4/SiO2  16.90  48.20  \n",
       "Mn-Na/SiO2       79.98  16.41  \n",
       "Mn-Na2WO4/SiO2   89.73  17.26  \n",
       "Mn-Na2WO4/SiCnf  30.84  15.30  \n",
       "Mn-Na2WO4/SiC    58.78  17.71  \n",
       "Mn-Na2MoO4/SiO2   3.86  46.21  \n",
       "Mn-WOx/SiO2      54.62  25.24  \n",
       "Mn-Na2WO4/TiO2   33.71  48.57  \n",
       "Mn-Na2WO4/Nb2O5   1.02  12.24  \n",
       "Mn-K2WO4/SiO2    55.54  13.57  \n",
       "Mn-Na2WO4/MgO    10.17  40.68  \n",
       "\n",
       "[20 rows x 31 columns]"
      ],
      "text/html": "<div>\n<style scoped>\n    .dataframe tbody tr th:only-of-type {\n        vertical-align: middle;\n    }\n\n    .dataframe tbody tr th {\n        vertical-align: top;\n    }\n\n    .dataframe thead th {\n        text-align: right;\n    }\n</style>\n<table border=\"1\" class=\"dataframe\">\n  <thead>\n    <tr style=\"text-align: right;\">\n      <th></th>\n      <th>M1</th>\n      <th>M1_atom_number</th>\n      <th>M2</th>\n      <th>M2_atom_number</th>\n      <th>M3</th>\n      <th>M3_atom_number</th>\n      <th>Support</th>\n      <th>Support_ID</th>\n      <th>M2_mol</th>\n      <th>M3_mol</th>\n      <th>...</th>\n      <th>C2y</th>\n      <th>C2H6y</th>\n      <th>C2H4y</th>\n      <th>COy</th>\n      <th>CO2y</th>\n      <th>C2s</th>\n      <th>C2H6s</th>\n      <th>C2H4s</th>\n      <th>COs</th>\n      <th>CO2s</th>\n    </tr>\n    <tr>\n      <th>Name</th>\n      <th></th>\n      <th></th>\n      <th></th>\n      <th></th>\n      <th></th>\n      <th></th>\n      <th></th>\n      <th></th>\n      <th></th>\n      <th></th>\n      <th></th>\n      <th></th>\n      <th></th>\n      <th></th>\n      <th></th>\n      <th></th>\n      <th></th>\n      <th></th>\n      <th></th>\n      <th></th>\n      <th></th>\n    </tr>\n  </thead>\n  <tbody>\n    <tr>\n      <th>Mn-Na2WO4/ZrO2</th>\n      <td>Mn</td>\n      <td>25</td>\n      <td>Na</td>\n      <td>11</td>\n      <td>W</td>\n      <td>74</td>\n      <td>ZrO2</td>\n      <td>13</td>\n      <td>0.37</td>\n      <td>0.185</td>\n      <td>...</td>\n      <td>7.36</td>\n      <td>1.29</td>\n      <td>6.07</td>\n      <td>14.40</td>\n      <td>3.70</td>\n      <td>30.33</td>\n      <td>5.32</td>\n      <td>25.01</td>\n      <td>59.33</td>\n      <td>15.25</td>\n    </tr>\n    <tr>\n      <th>Mn-Na2WO4/SiCnf</th>\n      <td>Mn</td>\n      <td>25</td>\n      <td>Na</td>\n      <td>11</td>\n      <td>W</td>\n      <td>74</td>\n      <td>SiCnf</td>\n      <td>10</td>\n      <td>0.37</td>\n      <td>0.185</td>\n      <td>...</td>\n      <td>8.01</td>\n      <td>1.37</td>\n      <td>6.64</td>\n      <td>25.54</td>\n      <td>6.49</td>\n      <td>23.60</td>\n      <td>4.04</td>\n      <td>19.56</td>\n      <td>75.25</td>\n      <td>19.12</td>\n    </tr>\n    <tr>\n      <th>Mn-Na2WO4/Nb2O5</th>\n      <td>Mn</td>\n      <td>25</td>\n      <td>Na</td>\n      <td>11</td>\n      <td>W</td>\n      <td>74</td>\n      <td>Nb2O5</td>\n      <td>8</td>\n      <td>0.37</td>\n      <td>0.185</td>\n      <td>...</td>\n      <td>8.25</td>\n      <td>1.39</td>\n      <td>6.86</td>\n      <td>15.06</td>\n      <td>3.17</td>\n      <td>34.65</td>\n      <td>5.84</td>\n      <td>28.81</td>\n      <td>63.25</td>\n      <td>13.31</td>\n    </tr>\n    <tr>\n      <th>CeO2</th>\n      <td>n.a.</td>\n      <td>0</td>\n      <td>n.a.</td>\n      <td>0</td>\n      <td>n.a.</td>\n      <td>0</td>\n      <td>CeO2</td>\n      <td>5</td>\n      <td>0.00</td>\n      <td>0.000</td>\n      <td>...</td>\n      <td>7.07</td>\n      <td>1.73</td>\n      <td>5.34</td>\n      <td>3.14</td>\n      <td>10.25</td>\n      <td>46.76</td>\n      <td>11.44</td>\n      <td>35.32</td>\n      <td>20.77</td>\n      <td>67.79</td>\n    </tr>\n    <tr>\n      <th>Mn-WOx/SiO2</th>\n      <td>Mn</td>\n      <td>25</td>\n      <td>n.a.</td>\n      <td>0</td>\n      <td>W</td>\n      <td>74</td>\n      <td>SiO2</td>\n      <td>11</td>\n      <td>0.00</td>\n      <td>0.185</td>\n      <td>...</td>\n      <td>3.53</td>\n      <td>1.89</td>\n      <td>1.64</td>\n      <td>1.74</td>\n      <td>3.49</td>\n      <td>35.19</td>\n      <td>18.84</td>\n      <td>16.35</td>\n      <td>17.35</td>\n      <td>34.80</td>\n    </tr>\n    <tr>\n      <th>Mn-Na2WO4/BN</th>\n      <td>Mn</td>\n      <td>25</td>\n      <td>Na</td>\n      <td>11</td>\n      <td>W</td>\n      <td>74</td>\n      <td>BN</td>\n      <td>4</td>\n      <td>0.37</td>\n      <td>0.185</td>\n      <td>...</td>\n      <td>4.61</td>\n      <td>0.62</td>\n      <td>3.99</td>\n      <td>24.26</td>\n      <td>2.76</td>\n      <td>15.16</td>\n      <td>2.04</td>\n      <td>13.13</td>\n      <td>79.80</td>\n      <td>9.08</td>\n    </tr>\n    <tr>\n      <th>Mn-MoOx/SiO2</th>\n      <td>Mn</td>\n      <td>25</td>\n      <td>n.a.</td>\n      <td>0</td>\n      <td>Mo</td>\n      <td>42</td>\n      <td>SiO2</td>\n      <td>11</td>\n      <td>0.00</td>\n      <td>0.185</td>\n      <td>...</td>\n      <td>1.64</td>\n      <td>1.03</td>\n      <td>0.61</td>\n      <td>5.30</td>\n      <td>3.89</td>\n      <td>15.50</td>\n      <td>9.74</td>\n      <td>5.77</td>\n      <td>50.09</td>\n      <td>36.77</td>\n    </tr>\n    <tr>\n      <th>Fe-Na2WO4/SiO2</th>\n      <td>Fe</td>\n      <td>26</td>\n      <td>Na</td>\n      <td>11</td>\n      <td>W</td>\n      <td>74</td>\n      <td>SiO2</td>\n      <td>11</td>\n      <td>0.37</td>\n      <td>0.185</td>\n      <td>...</td>\n      <td>4.87</td>\n      <td>2.53</td>\n      <td>2.34</td>\n      <td>1.88</td>\n      <td>1.51</td>\n      <td>74.58</td>\n      <td>38.74</td>\n      <td>35.83</td>\n      <td>28.79</td>\n      <td>23.12</td>\n    </tr>\n    <tr>\n      <th>Blank</th>\n      <td>n.a.</td>\n      <td>0</td>\n      <td>n.a.</td>\n      <td>0</td>\n      <td>n.a.</td>\n      <td>0</td>\n      <td>n.a.</td>\n      <td>7</td>\n      <td>0.00</td>\n      <td>0.000</td>\n      <td>...</td>\n      <td>1.48</td>\n      <td>0.75</td>\n      <td>0.73</td>\n      <td>12.58</td>\n      <td>1.20</td>\n      <td>7.76</td>\n      <td>3.93</td>\n      <td>3.83</td>\n      <td>66.00</td>\n      <td>6.30</td>\n    </tr>\n    <tr>\n      <th>Mn-Na2MoO4/SiO2</th>\n      <td>Mn</td>\n      <td>25</td>\n      <td>Na</td>\n      <td>11</td>\n      <td>Mo</td>\n      <td>42</td>\n      <td>SiO2</td>\n      <td>11</td>\n      <td>0.37</td>\n      <td>0.185</td>\n      <td>...</td>\n      <td>5.11</td>\n      <td>2.83</td>\n      <td>2.28</td>\n      <td>1.55</td>\n      <td>4.42</td>\n      <td>55.73</td>\n      <td>30.86</td>\n      <td>24.86</td>\n      <td>16.90</td>\n      <td>48.20</td>\n    </tr>\n    <tr>\n      <th>Mn-Na/SiO2</th>\n      <td>Mn</td>\n      <td>25</td>\n      <td>Na</td>\n      <td>11</td>\n      <td>n.a.</td>\n      <td>0</td>\n      <td>SiO2</td>\n      <td>11</td>\n      <td>0.37</td>\n      <td>0.000</td>\n      <td>...</td>\n      <td>7.29</td>\n      <td>0.93</td>\n      <td>6.36</td>\n      <td>29.25</td>\n      <td>6.00</td>\n      <td>19.93</td>\n      <td>2.54</td>\n      <td>17.39</td>\n      <td>79.98</td>\n      <td>16.41</td>\n    </tr>\n    <tr>\n      <th>Mn-Na2WO4/SiO2</th>\n      <td>Mn</td>\n      <td>25</td>\n      <td>Na</td>\n      <td>11</td>\n      <td>W</td>\n      <td>74</td>\n      <td>SiO2</td>\n      <td>11</td>\n      <td>0.37</td>\n      <td>0.185</td>\n      <td>...</td>\n      <td>7.13</td>\n      <td>0.83</td>\n      <td>6.30</td>\n      <td>20.01</td>\n      <td>3.85</td>\n      <td>31.97</td>\n      <td>3.72</td>\n      <td>28.25</td>\n      <td>89.73</td>\n      <td>17.26</td>\n    </tr>\n    <tr>\n      <th>Mn-Na2WO4/SiCnf</th>\n      <td>Mn</td>\n      <td>25</td>\n      <td>Na</td>\n      <td>11</td>\n      <td>W</td>\n      <td>74</td>\n      <td>SiCnf</td>\n      <td>10</td>\n      <td>0.37</td>\n      <td>0.185</td>\n      <td>...</td>\n      <td>10.73</td>\n      <td>3.58</td>\n      <td>7.15</td>\n      <td>5.04</td>\n      <td>2.50</td>\n      <td>65.67</td>\n      <td>21.91</td>\n      <td>43.76</td>\n      <td>30.84</td>\n      <td>15.30</td>\n    </tr>\n    <tr>\n      <th>Mn-Na2WO4/SiC</th>\n      <td>Mn</td>\n      <td>25</td>\n      <td>Na</td>\n      <td>11</td>\n      <td>W</td>\n      <td>74</td>\n      <td>SiC</td>\n      <td>9</td>\n      <td>0.37</td>\n      <td>0.185</td>\n      <td>...</td>\n      <td>8.56</td>\n      <td>1.54</td>\n      <td>7.02</td>\n      <td>20.98</td>\n      <td>6.32</td>\n      <td>23.98</td>\n      <td>4.31</td>\n      <td>19.67</td>\n      <td>58.78</td>\n      <td>17.71</td>\n    </tr>\n    <tr>\n      <th>Mn-Na2MoO4/SiO2</th>\n      <td>Mn</td>\n      <td>25</td>\n      <td>Na</td>\n      <td>11</td>\n      <td>Mo</td>\n      <td>42</td>\n      <td>SiO2</td>\n      <td>11</td>\n      <td>0.37</td>\n      <td>0.185</td>\n      <td>...</td>\n      <td>9.78</td>\n      <td>3.85</td>\n      <td>5.93</td>\n      <td>0.78</td>\n      <td>9.33</td>\n      <td>48.44</td>\n      <td>19.07</td>\n      <td>29.37</td>\n      <td>3.86</td>\n      <td>46.21</td>\n    </tr>\n    <tr>\n      <th>Mn-WOx/SiO2</th>\n      <td>Mn</td>\n      <td>25</td>\n      <td>n.a.</td>\n      <td>0</td>\n      <td>W</td>\n      <td>74</td>\n      <td>SiO2</td>\n      <td>11</td>\n      <td>0.00</td>\n      <td>0.185</td>\n      <td>...</td>\n      <td>7.30</td>\n      <td>2.24</td>\n      <td>5.06</td>\n      <td>17.85</td>\n      <td>8.25</td>\n      <td>22.34</td>\n      <td>6.85</td>\n      <td>15.48</td>\n      <td>54.62</td>\n      <td>25.24</td>\n    </tr>\n    <tr>\n      <th>Mn-Na2WO4/TiO2</th>\n      <td>Mn</td>\n      <td>25</td>\n      <td>Na</td>\n      <td>11</td>\n      <td>W</td>\n      <td>74</td>\n      <td>TiO2</td>\n      <td>12</td>\n      <td>0.37</td>\n      <td>0.185</td>\n      <td>...</td>\n      <td>0.98</td>\n      <td>0.67</td>\n      <td>0.31</td>\n      <td>0.59</td>\n      <td>0.85</td>\n      <td>56.00</td>\n      <td>38.29</td>\n      <td>17.71</td>\n      <td>33.71</td>\n      <td>48.57</td>\n    </tr>\n    <tr>\n      <th>Mn-Na2WO4/Nb2O5</th>\n      <td>Mn</td>\n      <td>25</td>\n      <td>Na</td>\n      <td>11</td>\n      <td>W</td>\n      <td>74</td>\n      <td>Nb2O5</td>\n      <td>8</td>\n      <td>0.37</td>\n      <td>0.185</td>\n      <td>...</td>\n      <td>0.62</td>\n      <td>0.41</td>\n      <td>0.21</td>\n      <td>0.01</td>\n      <td>0.12</td>\n      <td>63.27</td>\n      <td>41.84</td>\n      <td>21.43</td>\n      <td>1.02</td>\n      <td>12.24</td>\n    </tr>\n    <tr>\n      <th>Mn-K2WO4/SiO2</th>\n      <td>Mn</td>\n      <td>25</td>\n      <td>K</td>\n      <td>19</td>\n      <td>W</td>\n      <td>74</td>\n      <td>SiO2</td>\n      <td>11</td>\n      <td>0.37</td>\n      <td>0.185</td>\n      <td>...</td>\n      <td>8.26</td>\n      <td>1.64</td>\n      <td>6.62</td>\n      <td>10.23</td>\n      <td>2.50</td>\n      <td>44.84</td>\n      <td>8.90</td>\n      <td>35.94</td>\n      <td>55.54</td>\n      <td>13.57</td>\n    </tr>\n    <tr>\n      <th>Mn-Na2WO4/MgO</th>\n      <td>Mn</td>\n      <td>25</td>\n      <td>Na</td>\n      <td>11</td>\n      <td>W</td>\n      <td>74</td>\n      <td>MgO</td>\n      <td>6</td>\n      <td>0.37</td>\n      <td>0.185</td>\n      <td>...</td>\n      <td>0.96</td>\n      <td>0.59</td>\n      <td>0.37</td>\n      <td>0.30</td>\n      <td>1.20</td>\n      <td>32.54</td>\n      <td>20.00</td>\n      <td>12.54</td>\n      <td>10.17</td>\n      <td>40.68</td>\n    </tr>\n  </tbody>\n</table>\n<p>20 rows × 31 columns</p>\n</div>"
     },
     "metadata": {},
     "execution_count": 2
    }
   ],
   "source": [
    "df_catalysis_dataset = pd.read_csv(\"../data/OCM-data.csv\", index_col=0, header=0)\n",
    "df_catalysis_dataset.sample(20)"
   ]
  },
  {
   "cell_type": "markdown",
   "metadata": {},
   "source": [
    "---\n",
    "## Check dtypes\n",
    "---"
   ]
  },
  {
   "cell_type": "code",
   "execution_count": 3,
   "metadata": {
    "scrolled": true
   },
   "outputs": [
    {
     "output_type": "execute_result",
     "data": {
      "text/plain": [
       "Name                  object\n",
       "M1                    object\n",
       "M1_atom_number         int64\n",
       "M2                    object\n",
       "M2_atom_number         int64\n",
       "M3                    object\n",
       "M3_atom_number         int64\n",
       "Support               object\n",
       "Support_ID             int64\n",
       "M2_mol               float64\n",
       "M3_mol               float64\n",
       "M1_mol_percentage      int64\n",
       "M2_mol_percentage      int64\n",
       "M3_mol_percentage      int64\n",
       "Temp                   int64\n",
       "Total_flow             int64\n",
       "Ar_flow              float64\n",
       "CH4_flow             float64\n",
       "O2_flow              float64\n",
       "CT                   float64\n",
       "CH4/O2                 int64\n",
       "CH4_conv             float64\n",
       "C2y                  float64\n",
       "C2H6y                float64\n",
       "C2H4y                float64\n",
       "COy                  float64\n",
       "CO2y                 float64\n",
       "C2s                  float64\n",
       "C2H6s                float64\n",
       "C2H4s                float64\n",
       "COs                  float64\n",
       "CO2s                 float64\n",
       "dtype: object"
      ]
     },
     "metadata": {},
     "execution_count": 3
    }
   ],
   "source": [
    "df_catalysis_dataset.dtypes"
   ]
  },
  {
   "cell_type": "code",
   "execution_count": null,
   "metadata": {},
   "outputs": [],
   "source": [
    "df_catalysis_dataset['M1_mol_percentage']"
   ]
  },
  {
   "cell_type": "markdown",
   "metadata": {},
   "source": [
    "---\n",
    "## Check basic statistics for numeric columns\n",
    "---"
   ]
  },
  {
   "cell_type": "code",
   "execution_count": null,
   "metadata": {},
   "outputs": [],
   "source": [
    "df_catalysis_dataset.describe()"
   ]
  },
  {
   "cell_type": "markdown",
   "metadata": {},
   "source": [
    "---\n",
    "## Check if there are any NaN\n",
    "---"
   ]
  },
  {
   "cell_type": "code",
   "execution_count": null,
   "metadata": {},
   "outputs": [],
   "source": [
    "df_catalysis_dataset.isna().sum()"
   ]
  },
  {
   "cell_type": "markdown",
   "metadata": {},
   "source": [
    "---\n",
    "\n",
    "\n",
    "## Requirements\n",
    "\n",
    "\n",
    "* It would be nice to look at distributions in the data (histograms scatter plots, principal components, etc.). \n",
    "\n",
    "\n",
    "* Filters could be CH4 conversion, C2y, temperature, pressure, CH4/O2 ratio, M1/M2/M3, etc., CO + CO2 selectivity, etc.). \n",
    "\n",
    "\n",
    "---"
   ]
  },
  {
   "cell_type": "markdown",
   "metadata": {},
   "source": [
    "---\n",
    "## Generate unique values of filters to setup sliders\n",
    "\n",
    "* Sliders for CH4_conv and C2y\n",
    "\n",
    "* Dropdown for Temp and CH4/O2\n",
    "\n",
    "---"
   ]
  },
  {
   "cell_type": "code",
   "execution_count": null,
   "metadata": {},
   "outputs": [],
   "source": [
    "(df_catalysis_dataset['CH4_conv']\n",
    " .sort_values()\n",
    " .unique()\n",
    ")"
   ]
  },
  {
   "cell_type": "code",
   "execution_count": null,
   "metadata": {},
   "outputs": [],
   "source": [
    "(df_catalysis_dataset['C2y']\n",
    " .sort_values()\n",
    " .unique()\n",
    ")"
   ]
  },
  {
   "cell_type": "code",
   "execution_count": null,
   "metadata": {},
   "outputs": [],
   "source": [
    "(df_catalysis_dataset['Temp']\n",
    " .sort_values()\n",
    " .unique()\n",
    ")"
   ]
  },
  {
   "cell_type": "code",
   "execution_count": null,
   "metadata": {},
   "outputs": [],
   "source": [
    "unique_ch4_to_o2 = (df_catalysis_dataset['CH4/O2']\n",
    " .sort_values()\n",
    " .astype(str)\n",
    " .unique()\n",
    ")\n",
    "sorted_unique_ch4_to_o2 = dict(zip(unique_ch4_to_o2, unique_ch4_to_o2))\n",
    "print(sorted_unique_ch4_to_o2)"
   ]
  },
  {
   "cell_type": "markdown",
   "metadata": {},
   "source": [
    "---\n",
    "## Set up Bokeh Plot\n",
    "\n",
    "\n",
    "* Utilizing [gallery example of movies](https://github.com/bokeh/bokeh/tree/branch-2.4/examples/app/movies)\n",
    "\n",
    "\n",
    "* It has filters and determination of x and y axis\n",
    "\n",
    "\n",
    "---"
   ]
  },
  {
   "cell_type": "code",
   "execution_count": null,
   "metadata": {},
   "outputs": [],
   "source": [
    "from bokeh.io import curdoc\n",
    "from bokeh.layouts import column, row\n",
    "from bokeh.models import ColumnDataSource, Div, Select, Slider, TextInput\n",
    "from bokeh.plotting import figure"
   ]
  },
  {
   "cell_type": "code",
   "execution_count": null,
   "metadata": {},
   "outputs": [],
   "source": [
    "axis_map_x = {\n",
    "    \"Ethane_y\": \"C2H6y\",\n",
    "    \"Ethylene_y\": \"C2H4y\",\n",
    "    \"CarbonDiOxide_y\": \"CO2y\",\n",
    "    \"CarbonMonoOxide_y\": \"COy\",\n",
    "    \"DiCarbon_s\": \"C2s\",\n",
    "    \"Ethane_s\": \"C2H6s\",\n",
    "    \"Ethylene_s\": \"C2H4s\",\n",
    "    \"CarbonDiOxide_s\": \"CO2s\",\n",
    "    \"CarbonMonoOxide_s\": \"COs\",\n",
    "}"
   ]
  },
  {
   "cell_type": "code",
   "execution_count": null,
   "metadata": {},
   "outputs": [],
   "source": [
    "axis_map_y = {\n",
    "    \"Ethane_y\": \"C2H6y\",\n",
    "    \"Ethylene_y\": \"C2H4y\",\n",
    "    \"CarbonDiOxide_y\": \"CO2y\",\n",
    "    \"CarbonMonoOxide_y\": \"COy\",\n",
    "    \"DiCarbon_s\": \"C2s\",\n",
    "    \"Ethane_s\": \"C2H6s\",\n",
    "    \"Ethylene_s\": \"C2H4s\",\n",
    "    \"CarbonDiOxide_s\": \"CO2s\",\n",
    "    \"CarbonMonoOxide_s\": \"COs\",\n",
    "}"
   ]
  },
  {
   "cell_type": "code",
   "execution_count": null,
   "metadata": {},
   "outputs": [],
   "source": [
    "# Create Input controls\n",
    "slider_methane_conversion = Slider(title=\"Minimum Methane conversion value\", \n",
    "                                   value=20, start=1, end=46, step=1)\n",
    "slider_C2y = Slider(title=\"Minimum value of C2y\", start=0.1, end=22.1, value=4.0, step=0.1)\n",
    "slider_temp = Slider(title=\"Minimum value of Temperature\", start=700.0, end=900.0, value=800.0, step=50.0)\n",
    "select_ch4_to_o2 = Select(title=\"CH4 to O2\", options=sorted(sorted_unique_ch4_to_o2.keys()), value=\"6\")\n",
    "select_x_axis = Select(title=\"X Axis\", options=sorted(axis_map_x.keys()), value=\"Ethane_y\")\n",
    "select_y_axis = Select(title=\"Y Axis\", options=sorted(axis_map_y.keys()), value=\"CarbonDiOxide_y\")"
   ]
  },
  {
   "cell_type": "code",
   "execution_count": null,
   "metadata": {},
   "outputs": [],
   "source": [
    "TOOLTIPS=[\n",
    "    (\"M1 Percent\", \"@M1_mol_percent\"),\n",
    "    (\"M2 Percent\", \"@M2_mol_percent\"),\n",
    "    (\"M3 Percent\", \"@M3_mol_percent\")\n",
    "]"
   ]
  },
  {
   "cell_type": "code",
   "execution_count": null,
   "metadata": {},
   "outputs": [],
   "source": [
    "# Create Column Data Source that will be used by the plot\n",
    "source = ColumnDataSource(data=dict(x=[], y=[], M1_mol_percent=[],\n",
    "                                    M2_mol_percent=[], M3_mol_percent=[]))"
   ]
  },
  {
   "cell_type": "code",
   "execution_count": null,
   "metadata": {},
   "outputs": [],
   "source": [
    "p = figure(height=600, width=700, title=\"\", toolbar_location=None, tooltips=TOOLTIPS, sizing_mode=\"scale_both\")\n",
    "p.circle(x=\"x\", y=\"y\", source=source, size=7, color='mediumblue', line_color=None, fill_alpha=0.6)"
   ]
  },
  {
   "cell_type": "code",
   "execution_count": null,
   "metadata": {},
   "outputs": [],
   "source": [
    "def select_data():\n",
    "    temp_val = slider_temp.value\n",
    "    select_ch4_to_o2_val = select_ch4_to_o2.value\n",
    "    selected = df_catalysis_dataset[\n",
    "        (df_catalysis_dataset.CH4_conv >= slider_methane_conversion.value) &\n",
    "        (df_catalysis_dataset.C2y >= slider_C2y.value) &\n",
    "        (df_catalysis_dataset.Temp == slider_temp.value) &\n",
    "        (df_catalysis_dataset['CH4/O2'] == select_ch4_to_o2.value)\n",
    "    ]\n",
    "    return selected"
   ]
  },
  {
   "cell_type": "code",
   "execution_count": null,
   "metadata": {},
   "outputs": [],
   "source": [
    "def update():\n",
    "    df = select_data()\n",
    "    x_name = axis_map_x[select_x_axis.value]\n",
    "    y_name = axis_map_y[select_y_axis.value]\n",
    "\n",
    "    p.xaxis.axis_label = select_x_axis.value\n",
    "    p.yaxis.axis_label = select_y_axis.value\n",
    "    p.title.text = 'Title TBD'\n",
    "    source.data = dict(\n",
    "        x=df[x_name],\n",
    "        y=df[y_name],\n",
    "        M1_mol_percent=df['M1_mol_percentage'],\n",
    "        M2_mol_percent=df['M2_mol_percentage'], \n",
    "        M3_mol_percent=df['M3_mol_percentage'],\n",
    "    )"
   ]
  },
  {
   "cell_type": "code",
   "execution_count": null,
   "metadata": {},
   "outputs": [],
   "source": [
    "controls = [slider_methane_conversion, slider_C2y, slider_temp, select_ch4_to_o2, select_x_axis, select_y_axis]\n",
    "for control in controls:\n",
    "    control.on_change('value', lambda attr, old, new: update())"
   ]
  },
  {
   "cell_type": "code",
   "execution_count": null,
   "metadata": {},
   "outputs": [],
   "source": [
    "inputs = column(*controls, width=320)"
   ]
  },
  {
   "cell_type": "code",
   "execution_count": null,
   "metadata": {},
   "outputs": [],
   "source": [
    "axis_map_y['CarbonDiOxide_y']"
   ]
  },
  {
   "cell_type": "code",
   "execution_count": null,
   "metadata": {},
   "outputs": [],
   "source": [
    "l = column(row(inputs, p), sizing_mode=\"scale_both\")\n",
    "\n",
    "update()  # initial load of the data\n",
    "\n",
    "curdoc().add_root(l)\n",
    "curdoc().title = \"Catalysis Data\""
   ]
  },
  {
   "cell_type": "code",
   "execution_count": null,
   "metadata": {},
   "outputs": [],
   "source": []
  }
 ],
 "metadata": {
  "kernelspec": {
   "name": "python388jvsc74a57bd0785c8b4d335925bbf77f030e28baf966bf3dd09aad93ee31c74ab9dffef22c30",
   "display_name": "Python 3.8.8 64-bit ('base': conda)"
  },
  "language_info": {
   "codemirror_mode": {
    "name": "ipython",
    "version": 3
   },
   "file_extension": ".py",
   "mimetype": "text/x-python",
   "name": "python",
   "nbconvert_exporter": "python",
   "pygments_lexer": "ipython3",
   "version": "3.8.8"
  }
 },
 "nbformat": 4,
 "nbformat_minor": 4
}