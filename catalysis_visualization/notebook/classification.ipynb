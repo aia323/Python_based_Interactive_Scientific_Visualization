{
 "cells": [
  {
   "cell_type": "markdown",
   "source": [
    "# Import Libraries"
   ],
   "metadata": {}
  },
  {
   "cell_type": "code",
   "execution_count": 1,
   "source": [
    "import numpy as np\r\n",
    "import pandas as pd\r\n",
    "import matplotlib.pyplot as plt\r\n",
    "from bokeh.io import show\r\n",
    "from bokeh.models import ColumnDataSource, DataTable, TableColumn\r\n",
    "from sklearn.model_selection import train_test_split\r\n",
    "from sklearn.svm import SVC\r\n",
    "from sklearn.metrics import classification_report, confusion_matrix\r\n"
   ],
   "outputs": [],
   "metadata": {}
  },
  {
   "cell_type": "markdown",
   "source": [
    "# Import Dataset"
   ],
   "metadata": {}
  },
  {
   "cell_type": "code",
   "execution_count": 70,
   "source": [
    "df_catalysis_dataset = pd.read_csv(\"../data/OCM-data.csv\", index_col=0, header=0)\r\n",
    "df_catalysis_dataset.dtypes\r\n",
    "class_sample_data = df_catalysis_dataset.sample(frac = 0.40,random_state = 0)\r\n",
    "class_sample_data"
   ],
   "outputs": [
    {
     "output_type": "execute_result",
     "data": {
      "text/plain": [
       "                   M1  M1_atom_number    M2  M2_atom_number    M3  \\\n",
       "Name                                                                \n",
       "Mn-FeMoO4/SiO2     Mn              25    Fe              26    Mo   \n",
       "Pd-Na2WO4/SiO2     Pd              46    Na              11     W   \n",
       "Mn-Na2WO4/Al2O3    Mn              25    Na              11     W   \n",
       "Mn-MoOx/SiO2       Mn              25  n.a.               0    Mo   \n",
       "Na/SiO2          n.a.               0    Na              11  n.a.   \n",
       "...               ...             ...   ...             ...   ...   \n",
       "Pd-Na2WO4/SiO2     Pd              46    Na              11     W   \n",
       "Mn-Na/SiO2         Mn              25    Na              11  n.a.   \n",
       "Zr-Na2WO4/SiO2     Zr              40    Na              11     W   \n",
       "SiO2             n.a.               0  n.a.               0  n.a.   \n",
       "Al2O3            n.a.               0  n.a.               0  n.a.   \n",
       "\n",
       "                 M3_atom_number Support   Support_ID  M2_mol  M3_mol  ...  \\\n",
       "Name                                                                  ...   \n",
       "Mn-FeMoO4/SiO2               42     SiO2          11   0.185   0.185  ...   \n",
       "Pd-Na2WO4/SiO2               74     SiO2          11   0.370   0.185  ...   \n",
       "Mn-Na2WO4/Al2O3              74    Al2O3           2   0.370   0.185  ...   \n",
       "Mn-MoOx/SiO2                 42     SiO2          11   0.000   0.185  ...   \n",
       "Na/SiO2                       0     SiO2          11   0.370   0.000  ...   \n",
       "...                         ...      ...         ...     ...     ...  ...   \n",
       "Pd-Na2WO4/SiO2               74     SiO2          11   0.370   0.185  ...   \n",
       "Mn-Na/SiO2                    0     SiO2          11   0.370   0.000  ...   \n",
       "Zr-Na2WO4/SiO2               74     SiO2          11   0.370   0.185  ...   \n",
       "SiO2                          0     SiO2          11   0.000   0.000  ...   \n",
       "Al2O3                         0    Al2O3           2   0.000   0.000  ...   \n",
       "\n",
       "                  C2y  C2H6y  C2H4y    COy   CO2y    C2s  C2H6s  C2H4s  \\\n",
       "Name                                                                     \n",
       "Mn-FeMoO4/SiO2   4.62   0.57   4.05  32.72   4.96  10.85   1.34   9.51   \n",
       "Pd-Na2WO4/SiO2   4.39   2.67   1.72   0.06  15.47  26.07  15.86  10.21   \n",
       "Mn-Na2WO4/Al2O3  6.12   1.03   5.09   6.38   2.00  55.04   9.26  45.77   \n",
       "Mn-MoOx/SiO2     1.32   0.68   0.64  13.06   1.46  11.97   6.17   5.80   \n",
       "Na/SiO2          1.43   0.88   0.55   0.22   0.30  31.71  19.51  12.20   \n",
       "...               ...    ...    ...    ...    ...    ...    ...    ...   \n",
       "Pd-Na2WO4/SiO2   1.49   0.54   0.95   3.29  11.33  12.32   4.47   7.86   \n",
       "Mn-Na/SiO2       0.60   0.41   0.19   0.33   0.78  16.13  11.02   5.11   \n",
       "Zr-Na2WO4/SiO2   3.06   0.63   2.43   5.21   2.85  23.87   4.91  18.95   \n",
       "SiO2             5.09   0.48   4.61   9.77   1.23  36.15   3.41  32.74   \n",
       "Al2O3            3.46   1.58   1.88   1.89   0.69  80.47  36.74  43.72   \n",
       "\n",
       "                    COs   CO2s  \n",
       "Name                            \n",
       "Mn-FeMoO4/SiO2    76.83  11.65  \n",
       "Pd-Na2WO4/SiO2     0.36  91.86  \n",
       "Mn-Na2WO4/Al2O3   57.37  17.99  \n",
       "Mn-MoOx/SiO2     118.40  13.24  \n",
       "Na/SiO2            4.88   6.65  \n",
       "...                 ...    ...  \n",
       "Pd-Na2WO4/SiO2    27.21  93.71  \n",
       "Mn-Na/SiO2         8.87  20.97  \n",
       "Zr-Na2WO4/SiO2    40.64  22.23  \n",
       "SiO2              69.39   8.74  \n",
       "Al2O3             43.95  16.05  \n",
       "\n",
       "[5083 rows x 31 columns]"
      ],
      "text/html": [
       "<div>\n",
       "<style scoped>\n",
       "    .dataframe tbody tr th:only-of-type {\n",
       "        vertical-align: middle;\n",
       "    }\n",
       "\n",
       "    .dataframe tbody tr th {\n",
       "        vertical-align: top;\n",
       "    }\n",
       "\n",
       "    .dataframe thead th {\n",
       "        text-align: right;\n",
       "    }\n",
       "</style>\n",
       "<table border=\"1\" class=\"dataframe\">\n",
       "  <thead>\n",
       "    <tr style=\"text-align: right;\">\n",
       "      <th></th>\n",
       "      <th>M1</th>\n",
       "      <th>M1_atom_number</th>\n",
       "      <th>M2</th>\n",
       "      <th>M2_atom_number</th>\n",
       "      <th>M3</th>\n",
       "      <th>M3_atom_number</th>\n",
       "      <th>Support</th>\n",
       "      <th>Support_ID</th>\n",
       "      <th>M2_mol</th>\n",
       "      <th>M3_mol</th>\n",
       "      <th>...</th>\n",
       "      <th>C2y</th>\n",
       "      <th>C2H6y</th>\n",
       "      <th>C2H4y</th>\n",
       "      <th>COy</th>\n",
       "      <th>CO2y</th>\n",
       "      <th>C2s</th>\n",
       "      <th>C2H6s</th>\n",
       "      <th>C2H4s</th>\n",
       "      <th>COs</th>\n",
       "      <th>CO2s</th>\n",
       "    </tr>\n",
       "    <tr>\n",
       "      <th>Name</th>\n",
       "      <th></th>\n",
       "      <th></th>\n",
       "      <th></th>\n",
       "      <th></th>\n",
       "      <th></th>\n",
       "      <th></th>\n",
       "      <th></th>\n",
       "      <th></th>\n",
       "      <th></th>\n",
       "      <th></th>\n",
       "      <th></th>\n",
       "      <th></th>\n",
       "      <th></th>\n",
       "      <th></th>\n",
       "      <th></th>\n",
       "      <th></th>\n",
       "      <th></th>\n",
       "      <th></th>\n",
       "      <th></th>\n",
       "      <th></th>\n",
       "      <th></th>\n",
       "    </tr>\n",
       "  </thead>\n",
       "  <tbody>\n",
       "    <tr>\n",
       "      <th>Mn-FeMoO4/SiO2</th>\n",
       "      <td>Mn</td>\n",
       "      <td>25</td>\n",
       "      <td>Fe</td>\n",
       "      <td>26</td>\n",
       "      <td>Mo</td>\n",
       "      <td>42</td>\n",
       "      <td>SiO2</td>\n",
       "      <td>11</td>\n",
       "      <td>0.185</td>\n",
       "      <td>0.185</td>\n",
       "      <td>...</td>\n",
       "      <td>4.62</td>\n",
       "      <td>0.57</td>\n",
       "      <td>4.05</td>\n",
       "      <td>32.72</td>\n",
       "      <td>4.96</td>\n",
       "      <td>10.85</td>\n",
       "      <td>1.34</td>\n",
       "      <td>9.51</td>\n",
       "      <td>76.83</td>\n",
       "      <td>11.65</td>\n",
       "    </tr>\n",
       "    <tr>\n",
       "      <th>Pd-Na2WO4/SiO2</th>\n",
       "      <td>Pd</td>\n",
       "      <td>46</td>\n",
       "      <td>Na</td>\n",
       "      <td>11</td>\n",
       "      <td>W</td>\n",
       "      <td>74</td>\n",
       "      <td>SiO2</td>\n",
       "      <td>11</td>\n",
       "      <td>0.370</td>\n",
       "      <td>0.185</td>\n",
       "      <td>...</td>\n",
       "      <td>4.39</td>\n",
       "      <td>2.67</td>\n",
       "      <td>1.72</td>\n",
       "      <td>0.06</td>\n",
       "      <td>15.47</td>\n",
       "      <td>26.07</td>\n",
       "      <td>15.86</td>\n",
       "      <td>10.21</td>\n",
       "      <td>0.36</td>\n",
       "      <td>91.86</td>\n",
       "    </tr>\n",
       "    <tr>\n",
       "      <th>Mn-Na2WO4/Al2O3</th>\n",
       "      <td>Mn</td>\n",
       "      <td>25</td>\n",
       "      <td>Na</td>\n",
       "      <td>11</td>\n",
       "      <td>W</td>\n",
       "      <td>74</td>\n",
       "      <td>Al2O3</td>\n",
       "      <td>2</td>\n",
       "      <td>0.370</td>\n",
       "      <td>0.185</td>\n",
       "      <td>...</td>\n",
       "      <td>6.12</td>\n",
       "      <td>1.03</td>\n",
       "      <td>5.09</td>\n",
       "      <td>6.38</td>\n",
       "      <td>2.00</td>\n",
       "      <td>55.04</td>\n",
       "      <td>9.26</td>\n",
       "      <td>45.77</td>\n",
       "      <td>57.37</td>\n",
       "      <td>17.99</td>\n",
       "    </tr>\n",
       "    <tr>\n",
       "      <th>Mn-MoOx/SiO2</th>\n",
       "      <td>Mn</td>\n",
       "      <td>25</td>\n",
       "      <td>n.a.</td>\n",
       "      <td>0</td>\n",
       "      <td>Mo</td>\n",
       "      <td>42</td>\n",
       "      <td>SiO2</td>\n",
       "      <td>11</td>\n",
       "      <td>0.000</td>\n",
       "      <td>0.185</td>\n",
       "      <td>...</td>\n",
       "      <td>1.32</td>\n",
       "      <td>0.68</td>\n",
       "      <td>0.64</td>\n",
       "      <td>13.06</td>\n",
       "      <td>1.46</td>\n",
       "      <td>11.97</td>\n",
       "      <td>6.17</td>\n",
       "      <td>5.80</td>\n",
       "      <td>118.40</td>\n",
       "      <td>13.24</td>\n",
       "    </tr>\n",
       "    <tr>\n",
       "      <th>Na/SiO2</th>\n",
       "      <td>n.a.</td>\n",
       "      <td>0</td>\n",
       "      <td>Na</td>\n",
       "      <td>11</td>\n",
       "      <td>n.a.</td>\n",
       "      <td>0</td>\n",
       "      <td>SiO2</td>\n",
       "      <td>11</td>\n",
       "      <td>0.370</td>\n",
       "      <td>0.000</td>\n",
       "      <td>...</td>\n",
       "      <td>1.43</td>\n",
       "      <td>0.88</td>\n",
       "      <td>0.55</td>\n",
       "      <td>0.22</td>\n",
       "      <td>0.30</td>\n",
       "      <td>31.71</td>\n",
       "      <td>19.51</td>\n",
       "      <td>12.20</td>\n",
       "      <td>4.88</td>\n",
       "      <td>6.65</td>\n",
       "    </tr>\n",
       "    <tr>\n",
       "      <th>...</th>\n",
       "      <td>...</td>\n",
       "      <td>...</td>\n",
       "      <td>...</td>\n",
       "      <td>...</td>\n",
       "      <td>...</td>\n",
       "      <td>...</td>\n",
       "      <td>...</td>\n",
       "      <td>...</td>\n",
       "      <td>...</td>\n",
       "      <td>...</td>\n",
       "      <td>...</td>\n",
       "      <td>...</td>\n",
       "      <td>...</td>\n",
       "      <td>...</td>\n",
       "      <td>...</td>\n",
       "      <td>...</td>\n",
       "      <td>...</td>\n",
       "      <td>...</td>\n",
       "      <td>...</td>\n",
       "      <td>...</td>\n",
       "      <td>...</td>\n",
       "    </tr>\n",
       "    <tr>\n",
       "      <th>Pd-Na2WO4/SiO2</th>\n",
       "      <td>Pd</td>\n",
       "      <td>46</td>\n",
       "      <td>Na</td>\n",
       "      <td>11</td>\n",
       "      <td>W</td>\n",
       "      <td>74</td>\n",
       "      <td>SiO2</td>\n",
       "      <td>11</td>\n",
       "      <td>0.370</td>\n",
       "      <td>0.185</td>\n",
       "      <td>...</td>\n",
       "      <td>1.49</td>\n",
       "      <td>0.54</td>\n",
       "      <td>0.95</td>\n",
       "      <td>3.29</td>\n",
       "      <td>11.33</td>\n",
       "      <td>12.32</td>\n",
       "      <td>4.47</td>\n",
       "      <td>7.86</td>\n",
       "      <td>27.21</td>\n",
       "      <td>93.71</td>\n",
       "    </tr>\n",
       "    <tr>\n",
       "      <th>Mn-Na/SiO2</th>\n",
       "      <td>Mn</td>\n",
       "      <td>25</td>\n",
       "      <td>Na</td>\n",
       "      <td>11</td>\n",
       "      <td>n.a.</td>\n",
       "      <td>0</td>\n",
       "      <td>SiO2</td>\n",
       "      <td>11</td>\n",
       "      <td>0.370</td>\n",
       "      <td>0.000</td>\n",
       "      <td>...</td>\n",
       "      <td>0.60</td>\n",
       "      <td>0.41</td>\n",
       "      <td>0.19</td>\n",
       "      <td>0.33</td>\n",
       "      <td>0.78</td>\n",
       "      <td>16.13</td>\n",
       "      <td>11.02</td>\n",
       "      <td>5.11</td>\n",
       "      <td>8.87</td>\n",
       "      <td>20.97</td>\n",
       "    </tr>\n",
       "    <tr>\n",
       "      <th>Zr-Na2WO4/SiO2</th>\n",
       "      <td>Zr</td>\n",
       "      <td>40</td>\n",
       "      <td>Na</td>\n",
       "      <td>11</td>\n",
       "      <td>W</td>\n",
       "      <td>74</td>\n",
       "      <td>SiO2</td>\n",
       "      <td>11</td>\n",
       "      <td>0.370</td>\n",
       "      <td>0.185</td>\n",
       "      <td>...</td>\n",
       "      <td>3.06</td>\n",
       "      <td>0.63</td>\n",
       "      <td>2.43</td>\n",
       "      <td>5.21</td>\n",
       "      <td>2.85</td>\n",
       "      <td>23.87</td>\n",
       "      <td>4.91</td>\n",
       "      <td>18.95</td>\n",
       "      <td>40.64</td>\n",
       "      <td>22.23</td>\n",
       "    </tr>\n",
       "    <tr>\n",
       "      <th>SiO2</th>\n",
       "      <td>n.a.</td>\n",
       "      <td>0</td>\n",
       "      <td>n.a.</td>\n",
       "      <td>0</td>\n",
       "      <td>n.a.</td>\n",
       "      <td>0</td>\n",
       "      <td>SiO2</td>\n",
       "      <td>11</td>\n",
       "      <td>0.000</td>\n",
       "      <td>0.000</td>\n",
       "      <td>...</td>\n",
       "      <td>5.09</td>\n",
       "      <td>0.48</td>\n",
       "      <td>4.61</td>\n",
       "      <td>9.77</td>\n",
       "      <td>1.23</td>\n",
       "      <td>36.15</td>\n",
       "      <td>3.41</td>\n",
       "      <td>32.74</td>\n",
       "      <td>69.39</td>\n",
       "      <td>8.74</td>\n",
       "    </tr>\n",
       "    <tr>\n",
       "      <th>Al2O3</th>\n",
       "      <td>n.a.</td>\n",
       "      <td>0</td>\n",
       "      <td>n.a.</td>\n",
       "      <td>0</td>\n",
       "      <td>n.a.</td>\n",
       "      <td>0</td>\n",
       "      <td>Al2O3</td>\n",
       "      <td>2</td>\n",
       "      <td>0.000</td>\n",
       "      <td>0.000</td>\n",
       "      <td>...</td>\n",
       "      <td>3.46</td>\n",
       "      <td>1.58</td>\n",
       "      <td>1.88</td>\n",
       "      <td>1.89</td>\n",
       "      <td>0.69</td>\n",
       "      <td>80.47</td>\n",
       "      <td>36.74</td>\n",
       "      <td>43.72</td>\n",
       "      <td>43.95</td>\n",
       "      <td>16.05</td>\n",
       "    </tr>\n",
       "  </tbody>\n",
       "</table>\n",
       "<p>5083 rows × 31 columns</p>\n",
       "</div>"
      ]
     },
     "metadata": {},
     "execution_count": 70
    }
   ],
   "metadata": {}
  },
  {
   "cell_type": "markdown",
   "source": [
    "# Define Variables"
   ],
   "metadata": {}
  },
  {
   "cell_type": "code",
   "execution_count": 71,
   "source": [
    "x = class_sample_data[[\"Total_flow\", \"O2_flow\", \"CT\", \"M2_mol\", \"M3_mol\",\"Temp\"]]\r\n",
    "print(x)"
   ],
   "outputs": [
    {
     "output_type": "stream",
     "name": "stdout",
     "text": [
      "                 Total_flow  O2_flow    CT  M2_mol  M3_mol  Temp\n",
      "Name                                                            \n",
      "Mn-FeMoO4/SiO2           15      1.5  0.50   0.185   0.185   900\n",
      "Pd-Na2WO4/SiO2           15      4.3  0.50   0.370   0.185   700\n",
      "Mn-Na2WO4/Al2O3          15      1.3  0.50   0.370   0.185   800\n",
      "Mn-MoOx/SiO2             10      0.4  0.75   0.000   0.185   850\n",
      "Na/SiO2                  20      4.0  0.38   0.370   0.000   700\n",
      "...                     ...      ...   ...     ...     ...   ...\n",
      "Pd-Na2WO4/SiO2           10      1.2  0.75   0.370   0.185   850\n",
      "Mn-Na/SiO2               20      1.7  0.38   0.370   0.000   700\n",
      "Zr-Na2WO4/SiO2           15      0.6  0.50   0.370   0.185   900\n",
      "SiO2                     10      0.9  0.75   0.000   0.000   850\n",
      "Al2O3                    15      1.8  0.50   0.000   0.000   775\n",
      "\n",
      "[5083 rows x 6 columns]\n"
     ]
    }
   ],
   "metadata": {}
  },
  {
   "cell_type": "code",
   "execution_count": 93,
   "source": [
    "# CH4_conv, C2y, COy\r\n",
    "class_sample_data['classifier'] = np.where(class_sample_data['C2s']>=50, True, False)\r\n",
    "y = class_sample_data[\"classifier\"]\r\n",
    "print(class_sample_data[[\"classifier\",\"C2s\"]])"
   ],
   "outputs": [
    {
     "output_type": "stream",
     "name": "stdout",
     "text": [
      "                 classifier    C2s\n",
      "Name                              \n",
      "Mn-FeMoO4/SiO2        False  10.85\n",
      "Pd-Na2WO4/SiO2        False  26.07\n",
      "Mn-Na2WO4/Al2O3        True  55.04\n",
      "Mn-MoOx/SiO2          False  11.97\n",
      "Na/SiO2               False  31.71\n",
      "...                     ...    ...\n",
      "Pd-Na2WO4/SiO2        False  12.32\n",
      "Mn-Na/SiO2            False  16.13\n",
      "Zr-Na2WO4/SiO2        False  23.87\n",
      "SiO2                  False  36.15\n",
      "Al2O3                  True  80.47\n",
      "\n",
      "[5083 rows x 2 columns]\n"
     ]
    }
   ],
   "metadata": {}
  },
  {
   "cell_type": "markdown",
   "source": [
    "# Split the dataset into training and test"
   ],
   "metadata": {}
  },
  {
   "cell_type": "code",
   "execution_count": 94,
   "source": [
    "X_train, X_test, y_train, y_test = train_test_split(x, y, test_size=0.2, random_state=0)\r\n",
    "X_test"
   ],
   "outputs": [
    {
     "output_type": "execute_result",
     "data": {
      "text/plain": [
       "                 Total_flow  O2_flow    CT  M2_mol  M3_mol  Temp\n",
       "Name                                                            \n",
       "Mo-Na2WO4/SiO2           15      1.1  0.50   0.370   0.185   850\n",
       "Mn-Na2WO4/Nb2O5          15      1.8  0.50   0.370   0.185   775\n",
       "Zr-Na2WO4/SiO2           10      1.0  0.75   0.370   0.185   700\n",
       "SiC                      15      3.0  0.50   0.000   0.000   775\n",
       "ZrO2                     20      5.7  0.38   0.000   0.000   700\n",
       "...                     ...      ...   ...     ...     ...   ...\n",
       "WOx/SiO2                 15      0.6  0.50   0.000   0.185   700\n",
       "Mo-Na2WO4/SiO2           20      0.9  0.38   0.370   0.185   700\n",
       "Mn-BaWO4/SiO2            10      0.6  0.75   0.185   0.185   800\n",
       "BEA                      20      3.0  0.38   0.000   0.000   750\n",
       "Ce-Na2WO4/SiO2           10      1.2  0.75   0.370   0.185   750\n",
       "\n",
       "[1017 rows x 6 columns]"
      ],
      "text/html": [
       "<div>\n",
       "<style scoped>\n",
       "    .dataframe tbody tr th:only-of-type {\n",
       "        vertical-align: middle;\n",
       "    }\n",
       "\n",
       "    .dataframe tbody tr th {\n",
       "        vertical-align: top;\n",
       "    }\n",
       "\n",
       "    .dataframe thead th {\n",
       "        text-align: right;\n",
       "    }\n",
       "</style>\n",
       "<table border=\"1\" class=\"dataframe\">\n",
       "  <thead>\n",
       "    <tr style=\"text-align: right;\">\n",
       "      <th></th>\n",
       "      <th>Total_flow</th>\n",
       "      <th>O2_flow</th>\n",
       "      <th>CT</th>\n",
       "      <th>M2_mol</th>\n",
       "      <th>M3_mol</th>\n",
       "      <th>Temp</th>\n",
       "    </tr>\n",
       "    <tr>\n",
       "      <th>Name</th>\n",
       "      <th></th>\n",
       "      <th></th>\n",
       "      <th></th>\n",
       "      <th></th>\n",
       "      <th></th>\n",
       "      <th></th>\n",
       "    </tr>\n",
       "  </thead>\n",
       "  <tbody>\n",
       "    <tr>\n",
       "      <th>Mo-Na2WO4/SiO2</th>\n",
       "      <td>15</td>\n",
       "      <td>1.1</td>\n",
       "      <td>0.50</td>\n",
       "      <td>0.370</td>\n",
       "      <td>0.185</td>\n",
       "      <td>850</td>\n",
       "    </tr>\n",
       "    <tr>\n",
       "      <th>Mn-Na2WO4/Nb2O5</th>\n",
       "      <td>15</td>\n",
       "      <td>1.8</td>\n",
       "      <td>0.50</td>\n",
       "      <td>0.370</td>\n",
       "      <td>0.185</td>\n",
       "      <td>775</td>\n",
       "    </tr>\n",
       "    <tr>\n",
       "      <th>Zr-Na2WO4/SiO2</th>\n",
       "      <td>10</td>\n",
       "      <td>1.0</td>\n",
       "      <td>0.75</td>\n",
       "      <td>0.370</td>\n",
       "      <td>0.185</td>\n",
       "      <td>700</td>\n",
       "    </tr>\n",
       "    <tr>\n",
       "      <th>SiC</th>\n",
       "      <td>15</td>\n",
       "      <td>3.0</td>\n",
       "      <td>0.50</td>\n",
       "      <td>0.000</td>\n",
       "      <td>0.000</td>\n",
       "      <td>775</td>\n",
       "    </tr>\n",
       "    <tr>\n",
       "      <th>ZrO2</th>\n",
       "      <td>20</td>\n",
       "      <td>5.7</td>\n",
       "      <td>0.38</td>\n",
       "      <td>0.000</td>\n",
       "      <td>0.000</td>\n",
       "      <td>700</td>\n",
       "    </tr>\n",
       "    <tr>\n",
       "      <th>...</th>\n",
       "      <td>...</td>\n",
       "      <td>...</td>\n",
       "      <td>...</td>\n",
       "      <td>...</td>\n",
       "      <td>...</td>\n",
       "      <td>...</td>\n",
       "    </tr>\n",
       "    <tr>\n",
       "      <th>WOx/SiO2</th>\n",
       "      <td>15</td>\n",
       "      <td>0.6</td>\n",
       "      <td>0.50</td>\n",
       "      <td>0.000</td>\n",
       "      <td>0.185</td>\n",
       "      <td>700</td>\n",
       "    </tr>\n",
       "    <tr>\n",
       "      <th>Mo-Na2WO4/SiO2</th>\n",
       "      <td>20</td>\n",
       "      <td>0.9</td>\n",
       "      <td>0.38</td>\n",
       "      <td>0.370</td>\n",
       "      <td>0.185</td>\n",
       "      <td>700</td>\n",
       "    </tr>\n",
       "    <tr>\n",
       "      <th>Mn-BaWO4/SiO2</th>\n",
       "      <td>10</td>\n",
       "      <td>0.6</td>\n",
       "      <td>0.75</td>\n",
       "      <td>0.185</td>\n",
       "      <td>0.185</td>\n",
       "      <td>800</td>\n",
       "    </tr>\n",
       "    <tr>\n",
       "      <th>BEA</th>\n",
       "      <td>20</td>\n",
       "      <td>3.0</td>\n",
       "      <td>0.38</td>\n",
       "      <td>0.000</td>\n",
       "      <td>0.000</td>\n",
       "      <td>750</td>\n",
       "    </tr>\n",
       "    <tr>\n",
       "      <th>Ce-Na2WO4/SiO2</th>\n",
       "      <td>10</td>\n",
       "      <td>1.2</td>\n",
       "      <td>0.75</td>\n",
       "      <td>0.370</td>\n",
       "      <td>0.185</td>\n",
       "      <td>750</td>\n",
       "    </tr>\n",
       "  </tbody>\n",
       "</table>\n",
       "<p>1017 rows × 6 columns</p>\n",
       "</div>"
      ]
     },
     "metadata": {},
     "execution_count": 94
    }
   ],
   "metadata": {}
  },
  {
   "cell_type": "code",
   "execution_count": 95,
   "source": [
    "y_test.value_counts()"
   ],
   "outputs": [
    {
     "output_type": "execute_result",
     "data": {
      "text/plain": [
       "False    734\n",
       "True     283\n",
       "Name: classifier, dtype: int64"
      ]
     },
     "metadata": {},
     "execution_count": 95
    }
   ],
   "metadata": {}
  },
  {
   "cell_type": "markdown",
   "source": [
    "# Train the model on training set"
   ],
   "metadata": {}
  },
  {
   "cell_type": "code",
   "execution_count": 96,
   "source": [
    "#Create a svm Classifier\r\n",
    "clf = SVC(kernel='sigmoid',C=1,gamma =10) # Linear Kernel\r\n",
    "\r\n",
    "#Train the model using the training sets\r\n",
    "clf.fit(X_train, y_train)"
   ],
   "outputs": [
    {
     "output_type": "execute_result",
     "data": {
      "text/plain": [
       "SVC(C=1, gamma=10, kernel='sigmoid')"
      ]
     },
     "metadata": {},
     "execution_count": 96
    }
   ],
   "metadata": {}
  },
  {
   "cell_type": "markdown",
   "source": [
    "# Predict"
   ],
   "metadata": {}
  },
  {
   "cell_type": "code",
   "execution_count": 97,
   "source": [
    "#Predict the response for test dataset\r\n",
    "y_pred = clf.predict(X_test)\r\n",
    "print(y_pred)"
   ],
   "outputs": [
    {
     "output_type": "stream",
     "name": "stdout",
     "text": [
      "[False False False ... False False False]\n"
     ]
    }
   ],
   "metadata": {}
  },
  {
   "cell_type": "markdown",
   "source": [
    "# Evaluate"
   ],
   "metadata": {}
  },
  {
   "cell_type": "code",
   "execution_count": 98,
   "source": [
    "tn, fp, fn, tp = confusion_matrix(y_test,y_pred).ravel()\r\n",
    "(tn, fp, fn, tp) # true negatives, false positives, false negatives , true positives"
   ],
   "outputs": [
    {
     "output_type": "execute_result",
     "data": {
      "text/plain": [
       "(734, 0, 283, 0)"
      ]
     },
     "metadata": {},
     "execution_count": 98
    }
   ],
   "metadata": {}
  },
  {
   "cell_type": "code",
   "execution_count": 99,
   "source": [
    "plt.figure(figsize=(15, 10))\r\n",
    "plt.scatter(class_sample_data[\"CH4_conv\"], class_sample_data[\"Temp\"],c = class_sample_data[\"classifier\"], cmap = 'Accent')\r\n",
    "plt.xlabel(\"CH4\")\r\n",
    "plt.ylabel(\"Temperature\")\r\n",
    "plt.title(\"ch4 vs temp\")"
   ],
   "outputs": [
    {
     "output_type": "execute_result",
     "data": {
      "text/plain": [
       "Text(0.5, 1.0, 'ch4 vs temp')"
      ]
     },
     "metadata": {},
     "execution_count": 99
    },
    {
     "output_type": "display_data",
     "data": {
      "text/plain": [
       "<Figure size 1080x720 with 1 Axes>"
      ],
      "image/png": "[encoded data removed]"
     },
     "metadata": {
      "needs_background": "light"
     }
    }
   ],
   "metadata": {}
  },
  {
   "cell_type": "markdown",
   "source": [
    "# HyperPlane"
   ],
   "metadata": {}
  },
  {
   "cell_type": "code",
   "execution_count": 100,
   "source": [
    "# Get the separating hyperplane (Only works with Linear Kernels)\r\n",
    "w = clf.coef_[0]\r\n",
    "a = -w[0] / w[1]\r\n",
    "xx = np.linspace(30, 60)\r\n",
    "yy = a * xx - (clf.intercept_[0]) / w[1]\r\n",
    "\r\n",
    "# Plot the parallels to the separating hyperplane that pass through the support vectors\r\n",
    "b = clf.support_vectors_[0]\r\n",
    "yy_down = a * xx + (b[1] - a * b[0])\r\n",
    "b = clf.support_vectors_[-1]\r\n",
    "yy_up = a * xx + (b[1] - a * b[0])"
   ],
   "outputs": [
    {
     "output_type": "error",
     "ename": "AttributeError",
     "evalue": "coef_ is only available when using a linear kernel",
     "traceback": [
      "\u001b[1;31m---------------------------------------------------------------------------\u001b[0m",
      "\u001b[1;31mAttributeError\u001b[0m                            Traceback (most recent call last)",
      "\u001b[1;32m<ipython-input-100-788637f23b53>\u001b[0m in \u001b[0;36m<module>\u001b[1;34m\u001b[0m\n\u001b[0;32m      1\u001b[0m \u001b[1;31m# Get the separating hyperplane\u001b[0m\u001b[1;33m\u001b[0m\u001b[1;33m\u001b[0m\u001b[1;33m\u001b[0m\u001b[0m\n\u001b[1;32m----> 2\u001b[1;33m \u001b[0mw\u001b[0m \u001b[1;33m=\u001b[0m \u001b[0mclf\u001b[0m\u001b[1;33m.\u001b[0m\u001b[0mcoef_\u001b[0m\u001b[1;33m[\u001b[0m\u001b[1;36m0\u001b[0m\u001b[1;33m]\u001b[0m\u001b[1;33m\u001b[0m\u001b[1;33m\u001b[0m\u001b[0m\n\u001b[0m\u001b[0;32m      3\u001b[0m \u001b[0ma\u001b[0m \u001b[1;33m=\u001b[0m \u001b[1;33m-\u001b[0m\u001b[0mw\u001b[0m\u001b[1;33m[\u001b[0m\u001b[1;36m0\u001b[0m\u001b[1;33m]\u001b[0m \u001b[1;33m/\u001b[0m \u001b[0mw\u001b[0m\u001b[1;33m[\u001b[0m\u001b[1;36m1\u001b[0m\u001b[1;33m]\u001b[0m\u001b[1;33m\u001b[0m\u001b[1;33m\u001b[0m\u001b[0m\n\u001b[0;32m      4\u001b[0m \u001b[0mxx\u001b[0m \u001b[1;33m=\u001b[0m \u001b[0mnp\u001b[0m\u001b[1;33m.\u001b[0m\u001b[0mlinspace\u001b[0m\u001b[1;33m(\u001b[0m\u001b[1;36m30\u001b[0m\u001b[1;33m,\u001b[0m \u001b[1;36m60\u001b[0m\u001b[1;33m)\u001b[0m\u001b[1;33m\u001b[0m\u001b[1;33m\u001b[0m\u001b[0m\n\u001b[0;32m      5\u001b[0m \u001b[0myy\u001b[0m \u001b[1;33m=\u001b[0m \u001b[0ma\u001b[0m \u001b[1;33m*\u001b[0m \u001b[0mxx\u001b[0m \u001b[1;33m-\u001b[0m \u001b[1;33m(\u001b[0m\u001b[0mclf\u001b[0m\u001b[1;33m.\u001b[0m\u001b[0mintercept_\u001b[0m\u001b[1;33m[\u001b[0m\u001b[1;36m0\u001b[0m\u001b[1;33m]\u001b[0m\u001b[1;33m)\u001b[0m \u001b[1;33m/\u001b[0m \u001b[0mw\u001b[0m\u001b[1;33m[\u001b[0m\u001b[1;36m1\u001b[0m\u001b[1;33m]\u001b[0m\u001b[1;33m\u001b[0m\u001b[1;33m\u001b[0m\u001b[0m\n",
      "\u001b[1;32m~\\AppData\\Roaming\\Python\\Python38\\site-packages\\sklearn\\svm\\_base.py\u001b[0m in \u001b[0;36mcoef_\u001b[1;34m(self)\u001b[0m\n\u001b[0;32m    499\u001b[0m     \u001b[1;32mdef\u001b[0m \u001b[0mcoef_\u001b[0m\u001b[1;33m(\u001b[0m\u001b[0mself\u001b[0m\u001b[1;33m)\u001b[0m\u001b[1;33m:\u001b[0m\u001b[1;33m\u001b[0m\u001b[1;33m\u001b[0m\u001b[0m\n\u001b[0;32m    500\u001b[0m         \u001b[1;32mif\u001b[0m \u001b[0mself\u001b[0m\u001b[1;33m.\u001b[0m\u001b[0mkernel\u001b[0m \u001b[1;33m!=\u001b[0m \u001b[1;34m'linear'\u001b[0m\u001b[1;33m:\u001b[0m\u001b[1;33m\u001b[0m\u001b[1;33m\u001b[0m\u001b[0m\n\u001b[1;32m--> 501\u001b[1;33m             raise AttributeError('coef_ is only available when using a '\n\u001b[0m\u001b[0;32m    502\u001b[0m                                  'linear kernel')\n\u001b[0;32m    503\u001b[0m \u001b[1;33m\u001b[0m\u001b[0m\n",
      "\u001b[1;31mAttributeError\u001b[0m: coef_ is only available when using a linear kernel"
     ]
    }
   ],
   "metadata": {}
  },
  {
   "cell_type": "code",
   "execution_count": null,
   "source": [
    "plt.figure(figsize=(15, 10))\r\n",
    "plt.scatter(df_catalysis_dataset[\"CH4_conv\"], df_catalysis_dataset[\"CT\"],c = df_catalysis_dataset[\"classifier\"], cmap = 'Accent')\r\n",
    "plt.xlabel(\"CH4\")\r\n",
    "plt.ylabel(\"Temperature\")\r\n",
    "plt.title(\"ch4 vs temp\")\r\n",
    "plt.plot(xx, yy, linewidth=2, color='black')\r\n",
    "plt.plot(xx, yy_down, 'k--')\r\n",
    "plt.plot(xx, yy_up, 'k--')\r\n",
    "plt.scatter(clf.support_vectors_[:, 0], clf.support_vectors_[:, 1],\r\n",
    "            s=80, facecolors='none');"
   ],
   "outputs": [
    {
     "output_type": "display_data",
     "data": {
      "text/plain": [
       "<Figure size 1080x720 with 1 Axes>"
      ],
      "image/png": "[encoded data removed]"
     },
     "metadata": {
      "needs_background": "light"
     }
    }
   ],
   "metadata": {}
  },
  {
   "cell_type": "code",
   "execution_count": null,
   "source": [],
   "outputs": [],
   "metadata": {}
  }
 ],
 "metadata": {
  "kernelspec": {
   "name": "python3",
   "display_name": "Python 3.8.8 64-bit ('base': conda)"
  },
  "language_info": {
   "codemirror_mode": {
    "name": "ipython",
    "version": 3
   },
   "file_extension": ".py",
   "mimetype": "text/x-python",
   "name": "python",
   "nbconvert_exporter": "python",
   "pygments_lexer": "ipython3",
   "version": "3.8.8"
  },
  "interpreter": {
   "hash": "785c8b4d335925bbf77f030e28baf966bf3dd09aad93ee31c74ab9dffef22c30"
  }
 },
 "nbformat": 4,
 "nbformat_minor": 4
}