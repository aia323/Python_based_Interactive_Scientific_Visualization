{
 "cells": [
  {
   "attachments": {},
   "cell_type": "markdown",
   "metadata": {},
   "source": [
    "# Bokeh: Interactive Data Visualization in Python\n",
    "\n",
    "Bokeh is a powerful Python library that enables you to create interactive and visually appealing data visualizations for the web. This README will guide you through the basics of creating various types of charts, using interactive tools, and customizing your visualizations using Bokeh.\n",
    "\n",
    "## Features\n",
    "**Interactive Charts**: Bokeh allows you to build interactive charts that enable exploration and understanding of your data. Users can hover, click, pan, and zoom to interact with the plots.\n",
    "\n",
    "**Wide Range of Plot Types**: Bokeh supports an extensive range of plot types, including line plots, scatter plots, bar charts, histograms, heatmaps, and more. You can create complex visualizations with minimal code.\n",
    "\n",
    "**Interactive Widgets**: Bokeh provides a collection of interactive widgets such as sliders, buttons, dropdowns, and text inputs. These widgets can be used to create dynamic and responsive dashboards and applications.\n",
    "\n",
    "**Data Tools**: Bokeh provides powerful tools for exploring and analyzing data directly in the browser. These tools include the ability to pan, zoom, box-select, and more.\n",
    "\n",
    "**Customizable Appearance**: Bokeh offers extensive customization options for chart appearance. You can control colors, markers, labels, titles, and more to match your design needs.\n",
    "\n",
    "## Installation\n",
    "You can install Bokeh using pip:\n",
    "\n",
    "pip install bokeh\n"
   ]
  },
  {
   "attachments": {},
   "cell_type": "markdown",
   "metadata": {},
   "source": [
    "## Basic Line Plot Example"
   ]
  },
  {
   "cell_type": "code",
   "execution_count": 6,
   "metadata": {},
   "outputs": [],
   "source": [
    "from bokeh.plotting import figure, show\n",
    "\n",
    "# Create a new plot with a title and axis labels\n",
    "p = figure(title=\"Simple Line Plot\", x_axis_label=\"X-axis\", y_axis_label=\"Y-axis\")\n",
    "\n",
    "# Add a line renderer with data\n",
    "x = [1, 2, 3, 4, 5]\n",
    "y = [6, 7, 2, 4, 5]\n",
    "p.line(x, y, legend_label=\"Line\")\n",
    "\n",
    "# Show the plot\n",
    "show(p)\n"
   ]
  },
  {
   "attachments": {},
   "cell_type": "markdown",
   "metadata": {},
   "source": [
    "## Basic Line Plot with legend"
   ]
  },
  {
   "cell_type": "code",
   "execution_count": 27,
   "metadata": {},
   "outputs": [],
   "source": [
    "from bokeh.plotting import figure, show\n",
    "\n",
    "# Create a new plot with a title and axis labels\n",
    "p = figure(title=\"Simple Line Plot\", x_axis_label=\"X-axis\", y_axis_label=\"Y-axis\")\n",
    "\n",
    "# Add a line renderer with data\n",
    "x = [1, 2, 3, 4, 5]\n",
    "y = [6, 7, 2, 4, 5]\n",
    "z = [5, 4, 3, 2, 1]\n",
    "line_a = p.line(x, y, legend_label=\"Line1\", line_width=2, line_color=\"red\")\n",
    "line_b = p.line(x, z, legend_label=\"Line2\", line_width=2, line_color=\"blue\")\n",
    "# display legend in top left corner (default is top right corner)\n",
    "p.legend.location = \"top_left\"\n",
    "\n",
    "# add a title to your legend\n",
    "p.legend.title = \"Elements\"\n",
    "\n",
    "# change appearance of legend text\n",
    "p.legend.label_text_font = \"times\"\n",
    "p.legend.label_text_font_style = \"italic\"\n",
    "p.legend.label_text_color = \"navy\"\n",
    "\n",
    "# change border and background of legend\n",
    "p.legend.border_line_width = 3\n",
    "p.legend.border_line_color = \"black\"\n",
    "p.legend.border_line_alpha = 0.8\n",
    "p.legend.background_fill_color = \"white\"\n",
    "p.legend.background_fill_alpha = 0.5\n",
    "\n",
    "# Show the plot\n",
    "show(p)"
   ]
  },
  {
   "attachments": {},
   "cell_type": "markdown",
   "metadata": {},
   "source": [
    "## Interactive Legend and hiding toolbar on right"
   ]
  },
  {
   "cell_type": "code",
   "execution_count": 37,
   "metadata": {},
   "outputs": [],
   "source": [
    "from bokeh.plotting import figure, show\n",
    "from bokeh.layouts import row\n",
    "\n",
    "# Create a new plot with a title and axis labels\n",
    "p = figure(title=\"Simple Line Plot\", x_axis_label=\"X-axis\", y_axis_label=\"Y-axis\")\n",
    "p2 = figure(title=\"Simple Line Plot\", x_axis_label=\"X-axis\", y_axis_label=\"Y-axis\")\n",
    "\n",
    "# Add a line renderer with data\n",
    "x = [1, 2, 3, 4, 5]\n",
    "y = [6, 7, 2, 4, 5]\n",
    "z = [5, 4, 3, 2, 1]\n",
    "#plot 1\n",
    "line_a = p.line(x, y, legend_label=\"Line1\", line_width=2, line_color=\"red\")\n",
    "line_b = p.line(x, z, legend_label=\"Line2\", line_width=2, line_color=\"blue\")\n",
    "#plot 2\n",
    "line_c = p2.line(x, y, legend_label=\"Line1\", line_width=2, line_color=\"red\")\n",
    "line_d = p2.line(x, z, legend_label=\"Line2\", line_width=2, line_color=\"blue\")\n",
    "\n",
    "\n",
    "# display legend in top left corner (default is top right corner)\n",
    "p.legend.location = \"top_left\"\n",
    "\n",
    "# add a title to your legend\n",
    "p.legend.title = \"Lines\"\n",
    "\n",
    "# change appearance of legend text\n",
    "p.legend.label_text_font = \"times\"\n",
    "p.legend.label_text_font_style = \"italic\"\n",
    "p.legend.label_text_color = \"navy\"\n",
    "\n",
    "# change border and background of legend\n",
    "p.legend.border_line_width = 3\n",
    "p.legend.border_line_color = \"black\"\n",
    "p.legend.border_line_alpha = 0.8\n",
    "p.legend.background_fill_color = \"white\"\n",
    "p.legend.background_fill_alpha = 0.5\n",
    "\n",
    "\n",
    "p.toolbar.autohide = True # hide the toolbar\n",
    "p.legend.click_policy=\"hide\"# lines of the plot will disaper when you click on the legend\n",
    "\n",
    "# display legend in top left corner (default is top right corner)\n",
    "p2.legend.location = \"top_left\"\n",
    "\n",
    "# add a title to your legend\n",
    "p2.legend.title = \"Lines\"\n",
    "\n",
    "# change appearance of legend text\n",
    "p2.legend.label_text_font = \"times\"\n",
    "p2.legend.label_text_font_style = \"italic\"\n",
    "p2.legend.label_text_color = \"navy\"\n",
    "\n",
    "# change border and background of legend\n",
    "p2.legend.border_line_width = 3\n",
    "p2.legend.border_line_color = \"black\"\n",
    "p2.legend.border_line_alpha = 0.8\n",
    "p2.legend.background_fill_color = \"white\"\n",
    "p2.legend.background_fill_alpha = 0.5\n",
    "\n",
    "\n",
    "p2.toolbar.autohide = True # hide the toolbar\n",
    "p2.legend.click_policy=\"mute\"#lines of the plot will fade when you click on the legend\n",
    "\n",
    "plots = row(p, p2)\n",
    "\n",
    "# Show the plot\n",
    "show(plots)"
   ]
  },
  {
   "attachments": {},
   "cell_type": "markdown",
   "metadata": {},
   "source": [
    "## Scatter Plot with Hover Tool\n"
   ]
  },
  {
   "cell_type": "code",
   "execution_count": 28,
   "metadata": {},
   "outputs": [],
   "source": [
    "from bokeh.plotting import figure, show\n",
    "from bokeh.models import HoverTool\n",
    "\n",
    "# Create a new plot\n",
    "p = figure(title=\"Scatter Plot with Hover Tool\")\n",
    "\n",
    "# Add a scatter renderer with data\n",
    "x = [1, 2, 3, 4, 5]\n",
    "y = [6, 7, 2, 4, 5]\n",
    "p.scatter(x, y, size=10, color=\"navy\", alpha=0.5)\n",
    "\n",
    "# Add a hover tool to display additional information\n",
    "hover = HoverTool()\n",
    "hover.tooltips = [(\"Value\", \"@y\")]\n",
    "p.add_tools(hover)\n",
    "\n",
    "# Show the plot\n",
    "show(p)\n"
   ]
  },
  {
   "cell_type": "code",
   "execution_count": 29,
   "metadata": {},
   "outputs": [],
   "source": [
    "from bokeh.plotting import figure, show\n",
    "from bokeh.models import HoverTool, ColumnDataSource\n",
    "\n",
    "# Create a new plot\n",
    "p = figure(title=\"Line Plot with Hover Tool\")\n",
    "\n",
    "# Create a data source\n",
    "x = [1, 2, 3, 4, 5]\n",
    "y = [6, 7, 2, 4, 5]\n",
    "z = [8, 9, 10, 11, 12]\n",
    "\n",
    "data_source = ColumnDataSource(data={'Time': x, 'Level': y})\n",
    "data_source2 = ColumnDataSource(data={'Time': x, 'Level': z})\n",
    "\n",
    "line_1 = p.line(\"Time\", \"Level\",  source =data_source, line_width=2, line_color = \"blue\")\n",
    "p.add_tools(HoverTool( renderers = [line_1],tooltips=[('Info','Example Tooltip'),\n",
    "                                    ('Hour', '@Time'), \n",
    "                                    ('Level', '@Level'), \n",
    "    ],)) \n",
    "line_2 = p.line(\"Time\", \"Level\", source = data_source2,line_width=2, line_color=\"red\")\n",
    "p.add_tools(HoverTool( renderers = [line_2],tooltips=[('Info', 'Example Tooltip'),\n",
    "                                    ('Hour', '@Time'), \n",
    "                                    ('Level', '@Level'), \n",
    "    ],)) \n",
    "\n",
    "\n",
    "# Show the plot\n",
    "show(p)\n"
   ]
  },
  {
   "attachments": {},
   "cell_type": "markdown",
   "metadata": {},
   "source": [
    "# Interactive Widgets Example\n"
   ]
  },
  {
   "attachments": {},
   "cell_type": "markdown",
   "metadata": {},
   "source": [
    "## Sliders"
   ]
  },
  {
   "cell_type": "code",
   "execution_count": 30,
   "metadata": {},
   "outputs": [],
   "source": [
    "from bokeh.plotting import curdoc\n",
    "from bokeh.models import Slider\n",
    "\n",
    "# Create a slider widget\n",
    "slider = Slider(start=0, end=10, value=5, step=1, title=\"Slider\")\n",
    "\n",
    "# Define a function to update the plot based on slider value\n",
    "def update(attr, old, new):\n",
    "    # Your plot update logic here\n",
    "    pass\n",
    "\n",
    "# Attach the function to the slider's value change event\n",
    "slider.on_change(\"value\", update)\n",
    "\n",
    "# Add the slider to the current document\n",
    "curdoc().add_root(slider)\n"
   ]
  },
  {
   "attachments": {},
   "cell_type": "markdown",
   "metadata": {},
   "source": [
    "## Buttons"
   ]
  },
  {
   "cell_type": "code",
   "execution_count": 31,
   "metadata": {},
   "outputs": [],
   "source": [
    "from bokeh.plotting import curdoc\n",
    "from bokeh.models import Button\n",
    "\n",
    "# Create a slider widget\n",
    "button = Button(label=\"Button\", button_type=\"success\")\n",
    "\n",
    "# Attach the function to the slider's value change event\n",
    "def button_callback():\n",
    " # Your plot update logic here\n",
    "    print(\"Button callback executed.\") \n",
    "button.on_click(button_callback)\n",
    "\n",
    "# Add the slider to the current document\n",
    "curdoc().add_root(button)"
   ]
  },
  {
   "attachments": {},
   "cell_type": "markdown",
   "metadata": {},
   "source": [
    "## Export Button"
   ]
  },
  {
   "cell_type": "code",
   "execution_count": 32,
   "metadata": {},
   "outputs": [],
   "source": [
    "\n",
    "import numpy as np\n",
    "import pandas as pd\n",
    "import datetime\n",
    "import os\n",
    "x = [1, 2, 3, 4, 5]\n",
    "y = [6, 7, 2, 4, 5]\n",
    "z = [8, 9, 10, 11, 12]\n",
    "\n",
    "source = ColumnDataSource(data={'Time': x, 'Level': y})\n",
    "def export_data():\n",
    "    # Get the data from the ColumnDataSource\n",
    "    data = source.data\n",
    "    day = data['Time']#data for time\n",
    "    level = data['Level']#data for biomass\n",
    "   \n",
    "    # Create a dictionary to hold the data\n",
    "    export_data = {'Time': x, 'Level': y}\n",
    "\n",
    "     # Generate a unique filename using current date and time\n",
    "    timestamp = datetime.datetime.now().strftime(\"%Y-%m-%d_%H-%M-%S\")\n",
    "    filename = f\"exported_data_{timestamp}.csv\"\n",
    "\n",
    "        # Get the path to the user's downloads folder\n",
    "    downloads_folder = os.path.expanduser(\"~/Downloads\")\n",
    "\n",
    "    # Create the file path\n",
    "    file_path = os.path.join(downloads_folder, filename)\n",
    "\n",
    "    # Export the data as a CSV file to the downloads folder\n",
    "    with open(file_path, 'w') as f:\n",
    "        f.write('Time,Level\\n')\n",
    "        for i in range(len(day)):\n",
    "            f.write(f'{day[i]},{level[i]}\\n')\n",
    "\n",
    "\n",
    "\n",
    "\n",
    "\n",
    "export_button = Button(label=\"Export Data\", button_type=\"success\",  height = 60, width = 300)\n",
    "show(export_button)\n"
   ]
  },
  {
   "attachments": {},
   "cell_type": "markdown",
   "metadata": {},
   "source": [
    "## Help Button"
   ]
  },
  {
   "cell_type": "code",
   "execution_count": 33,
   "metadata": {},
   "outputs": [],
   "source": [
    "from bokeh.models import Tooltip, HelpButton\n",
    "from bokeh.layouts import row\n",
    "tooltip = Tooltip(content=(\"\"\"This is an example message, and will show the dfifrent info you want to show.\"\"\"), position = \"right\")\n",
    "help_button = HelpButton(tooltip=tooltip, button_type = \"light\")\n",
    "\n",
    "example_layout = row(help_button)\n",
    "show(example_layout)"
   ]
  },
  {
   "attachments": {},
   "cell_type": "markdown",
   "metadata": {},
   "source": [
    "# Happy data visualization with Bokeh! 📊🚀\n",
    "also a tip if you highlight somthing like p and them press command D you can edit multiple lines as the same time "
   ]
  }
 ],
 "metadata": {
  "kernelspec": {
   "display_name": "Python 3",
   "language": "python",
   "name": "python3"
  },
  "language_info": {
   "codemirror_mode": {
    "name": "ipython",
    "version": 3
   },
   "file_extension": ".py",
   "mimetype": "text/x-python",
   "name": "python",
   "nbconvert_exporter": "python",
   "pygments_lexer": "ipython3",
   "version": "3.11.3"
  },
  "orig_nbformat": 4
 },
 "nbformat": 4,
 "nbformat_minor": 2
}
